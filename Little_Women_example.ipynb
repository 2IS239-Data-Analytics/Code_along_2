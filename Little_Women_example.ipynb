{
 "cells": [
  {
   "cell_type": "code",
   "execution_count": null,
   "metadata": {},
   "outputs": [],
   "source": [
    "import numpy as np\n",
    "%matplotlib inline\n",
    "import matplotlib.pyplot as plots\n",
    "import warnings\n",
    "warnings.simplefilter(action='ignore', category=FutureWarning)\n",
    "import re\n",
    "def read_file(filepath):\n",
    "    return re.sub('\\\\s+', ' ', open(filepath).read())"
   ]
  },
  {
   "cell_type": "code",
   "execution_count": null,
   "metadata": {},
   "outputs": [],
   "source": [
    "little_women_file = 'little_women.txt'\n",
    "little_women_text = read_file(little_women_file)\n",
    "little_women_chapters = little_women_text.split('CHAPTER ')[1:]"
   ]
  },
  {
   "cell_type": "code",
   "execution_count": null,
   "metadata": {},
   "outputs": [],
   "source": [
    "import pandas as pd\n",
    "df = pd.DataFrame(columns=['Chapters'], data=little_women_chapters)\n",
    "df"
   ]
  },
  {
   "cell_type": "code",
   "execution_count": null,
   "metadata": {},
   "outputs": [],
   "source": [
    "np.char.count(little_women_chapters, \"Christmas\")"
   ]
  },
  {
   "cell_type": "code",
   "execution_count": null,
   "metadata": {},
   "outputs": [],
   "source": [
    "np.char.count(little_women_chapters, \"Jo\")"
   ]
  },
  {
   "cell_type": "code",
   "execution_count": null,
   "metadata": {},
   "outputs": [],
   "source": [
    "counts = pd.DataFrame({\n",
    "    'Amy': np.char.count(little_women_chapters, 'Amy'),\n",
    "    'Beth': np.char.count(little_women_chapters, 'Beth'),\n",
    "    'Jo': np.char.count(little_women_chapters, 'Jo'),\n",
    "    'Meg': np.char.count(little_women_chapters, 'Meg')\n",
    "})\n",
    "counts"
   ]
  },
  {
   "cell_type": "code",
   "execution_count": null,
   "metadata": {},
   "outputs": [],
   "source": [
    "cum_counts = counts.cumsum()\n",
    "cum_counts.set_index(np.arange(1, 48, 1), 'Chapter')\n",
    "cum_counts.plot()\n",
    "_ = plots.title('Cumulative Number of Times Each Name Appears', y=1.08)"
   ]
  },
  {
   "cell_type": "code",
   "execution_count": null,
   "metadata": {},
   "outputs": [],
   "source": [
    "def plot_custom(name):\n",
    "    counts = pd.DataFrame({\n",
    "        'Amy': np.char.count(little_women_chapters, 'Amy'),\n",
    "        'Beth': np.char.count(little_women_chapters, 'Beth'),\n",
    "        'Jo': np.char.count(little_women_chapters, 'Jo'),\n",
    "        'Meg': np.char.count(little_women_chapters, 'Meg'),\n",
    "        name : np.char.count(little_women_chapters, name)\n",
    "        })\n",
    "    cum_counts = counts.cumsum()\n",
    "    cum_counts.set_index(np.arange(1, 48, 1), 'Chapter')\n",
    "    cum_counts.plot()\n",
    "    _ = plots.title('Cumulative Number of Times Each Name Appears', y=1.08)"
   ]
  },
  {
   "cell_type": "code",
   "execution_count": null,
   "metadata": {},
   "outputs": [],
   "source": [
    "plot_custom(\"Laurie\")"
   ]
  },
  {
   "cell_type": "code",
   "execution_count": null,
   "metadata": {},
   "outputs": [],
   "source": [
    "np.char.count(little_women_chapters, '.')"
   ]
  },
  {
   "cell_type": "code",
   "execution_count": null,
   "metadata": {},
   "outputs": [],
   "source": [
    "chars_periods_little_women = pd.DataFrame({\n",
    "    'Chapter Length in Letters/Characters': [len(s) for s in little_women_chapters],\n",
    "    'Number of Full Stops': np.char.count(little_women_chapters, '.')\n",
    "})\n",
    "chars_periods_little_women"
   ]
  },
  {
   "cell_type": "code",
   "execution_count": null,
   "metadata": {},
   "outputs": [],
   "source": [
    "plots.scatter(chars_periods_little_women[chars_periods_little_women.columns[1]],\n",
    "              chars_periods_little_women[chars_periods_little_women.columns[0]],\n",
    "              color='blue')\n",
    "plots.xlabel('Number of full stops in chapter')\n",
    "_ = plots.ylabel('Number of characters in chapter')"
   ]
  },
  {
   "cell_type": "code",
   "execution_count": null,
   "metadata": {},
   "outputs": [],
   "source": []
  }
 ],
 "metadata": {
  "kernelspec": {
   "display_name": "Python 3",
   "language": "python",
   "name": "python3"
  },
  "language_info": {
   "codemirror_mode": {
    "name": "ipython",
    "version": 3
   },
   "file_extension": ".py",
   "mimetype": "text/x-python",
   "name": "python",
   "nbconvert_exporter": "python",
   "pygments_lexer": "ipython3",
   "version": "3.7.4"
  }
 },
 "nbformat": 4,
 "nbformat_minor": 4
}
