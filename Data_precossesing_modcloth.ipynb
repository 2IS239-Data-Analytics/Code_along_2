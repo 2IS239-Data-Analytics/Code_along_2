{
 "cells": [
  {
   "cell_type": "markdown",
   "metadata": {
    "id": "zfDcmTIqtf8j"
   },
   "source": [
    "# Pre-processing examples on modcloth dataset\n",
    "\n",
    "### Attribution: Soujanya G, Kaggle\n",
    "\n",
    "The notebook was released under the [Apache 2.0](http://www.apache.org/licenses/LICENSE-2.0) open source license."
   ]
  },
  {
   "cell_type": "markdown",
   "metadata": {
    "id": "_b_falCzsxI3",
    "papermill": {
     "duration": 0.03365,
     "end_time": "2020-10-07T13:01:49.380394",
     "exception": false,
     "start_time": "2020-10-07T13:01:49.346744",
     "status": "completed"
    },
    "tags": []
   },
   "source": [
    "# **About the dataset**\n",
    "\n",
    "In this notebook, we will use modcloth_final_data.json as input dataset"
   ]
  },
  {
   "cell_type": "code",
   "execution_count": 2,
   "metadata": {
    "execution": {
     "iopub.execute_input": "2020-10-07T13:01:49.453033Z",
     "iopub.status.busy": "2020-10-07T13:01:49.452557Z",
     "iopub.status.idle": "2020-10-07T13:01:50.652666Z",
     "shell.execute_reply": "2020-10-07T13:01:50.652212Z"
    },
    "id": "psZFn_WLsxI3",
    "papermill": {
     "duration": 1.23869,
     "end_time": "2020-10-07T13:01:50.652746",
     "exception": false,
     "start_time": "2020-10-07T13:01:49.414056",
     "status": "completed"
    },
    "tags": []
   },
   "outputs": [],
   "source": [
    "# import necessary libraries\n",
    "\n",
    "# File read and EDA(Data Cleansing & Transformations)\n",
    "import numpy as np  \n",
    "import pandas as pd \n",
    "\n",
    "# EDA Visualization\n",
    "import matplotlib.pyplot as plt\n",
    "import seaborn as sns"
   ]
  },
  {
   "cell_type": "markdown",
   "metadata": {
    "id": "XD_u28pnuGP_"
   },
   "source": [
    "## Mounting gDrive"
   ]
  },
  {
   "cell_type": "code",
   "execution_count": null,
   "metadata": {
    "id": "tjrT33QduFiX"
   },
   "outputs": [],
   "source": [
    "#Mounting gDrive in Colaboratory\n",
    "try:\n",
    "    from google.colab import drive\n",
    "    drive.mount(\"/content/drive/\", force_remount=True)\n",
    "    google_drive_prefix = \"/content/drive/My Drive\"\n",
    "    data_prefix = \"{}/mnist/\".format(google_drive_prefix)\n",
    "except ModuleNotFoundError: \n",
    "    data_prefix = \"data/\""
   ]
  },
  {
   "cell_type": "code",
   "execution_count": null,
   "metadata": {
    "id": "hK0Nd6qWuY7M"
   },
   "outputs": [],
   "source": [
    "#Change directory to my folder for analytics labs where I have cloned my gitHub repositories with magic command.\n",
    "\n",
    "%cd drive/My Drive/Data_analytics_lab"
   ]
  },
  {
   "cell_type": "markdown",
   "metadata": {
    "id": "ekMls2ZmsxI3",
    "papermill": {
     "duration": 0.034773,
     "end_time": "2020-10-07T13:01:50.722822",
     "exception": false,
     "start_time": "2020-10-07T13:01:50.688049",
     "status": "completed"
    },
    "tags": []
   },
   "source": [
    "# Read input json data"
   ]
  },
  {
   "cell_type": "code",
   "execution_count": 3,
   "metadata": {
    "execution": {
     "iopub.execute_input": "2020-10-07T13:01:50.797813Z",
     "iopub.status.busy": "2020-10-07T13:01:50.797219Z",
     "iopub.status.idle": "2020-10-07T13:01:52.279869Z",
     "shell.execute_reply": "2020-10-07T13:01:52.279388Z"
    },
    "id": "cVHvyXpFsxI3",
    "papermill": {
     "duration": 1.522854,
     "end_time": "2020-10-07T13:01:52.279963",
     "exception": false,
     "start_time": "2020-10-07T13:01:50.757109",
     "status": "completed"
    },
    "tags": []
   },
   "outputs": [
    {
     "data": {
      "text/html": [
       "<div>\n",
       "<style scoped>\n",
       "    .dataframe tbody tr th:only-of-type {\n",
       "        vertical-align: middle;\n",
       "    }\n",
       "\n",
       "    .dataframe tbody tr th {\n",
       "        vertical-align: top;\n",
       "    }\n",
       "\n",
       "    .dataframe thead th {\n",
       "        text-align: right;\n",
       "    }\n",
       "</style>\n",
       "<table border=\"1\" class=\"dataframe\">\n",
       "  <thead>\n",
       "    <tr style=\"text-align: right;\">\n",
       "      <th></th>\n",
       "      <th>item_id</th>\n",
       "      <th>waist</th>\n",
       "      <th>size</th>\n",
       "      <th>quality</th>\n",
       "      <th>cup size</th>\n",
       "      <th>hips</th>\n",
       "      <th>bra size</th>\n",
       "      <th>category</th>\n",
       "      <th>bust</th>\n",
       "      <th>height</th>\n",
       "      <th>user_name</th>\n",
       "      <th>length</th>\n",
       "      <th>fit</th>\n",
       "      <th>user_id</th>\n",
       "      <th>shoe size</th>\n",
       "      <th>shoe width</th>\n",
       "      <th>review_summary</th>\n",
       "      <th>review_text</th>\n",
       "    </tr>\n",
       "  </thead>\n",
       "  <tbody>\n",
       "    <tr>\n",
       "      <td>0</td>\n",
       "      <td>123373</td>\n",
       "      <td>29.0</td>\n",
       "      <td>7</td>\n",
       "      <td>5.0</td>\n",
       "      <td>d</td>\n",
       "      <td>38.0</td>\n",
       "      <td>34.0</td>\n",
       "      <td>new</td>\n",
       "      <td>36</td>\n",
       "      <td>5ft 6in</td>\n",
       "      <td>Emily</td>\n",
       "      <td>just right</td>\n",
       "      <td>small</td>\n",
       "      <td>991571</td>\n",
       "      <td>NaN</td>\n",
       "      <td>NaN</td>\n",
       "      <td>NaN</td>\n",
       "      <td>NaN</td>\n",
       "    </tr>\n",
       "    <tr>\n",
       "      <td>1</td>\n",
       "      <td>123373</td>\n",
       "      <td>31.0</td>\n",
       "      <td>13</td>\n",
       "      <td>3.0</td>\n",
       "      <td>b</td>\n",
       "      <td>30.0</td>\n",
       "      <td>36.0</td>\n",
       "      <td>new</td>\n",
       "      <td>NaN</td>\n",
       "      <td>5ft 2in</td>\n",
       "      <td>sydneybraden2001</td>\n",
       "      <td>just right</td>\n",
       "      <td>small</td>\n",
       "      <td>587883</td>\n",
       "      <td>NaN</td>\n",
       "      <td>NaN</td>\n",
       "      <td>NaN</td>\n",
       "      <td>NaN</td>\n",
       "    </tr>\n",
       "    <tr>\n",
       "      <td>2</td>\n",
       "      <td>123373</td>\n",
       "      <td>30.0</td>\n",
       "      <td>7</td>\n",
       "      <td>2.0</td>\n",
       "      <td>b</td>\n",
       "      <td>NaN</td>\n",
       "      <td>32.0</td>\n",
       "      <td>new</td>\n",
       "      <td>NaN</td>\n",
       "      <td>5ft 7in</td>\n",
       "      <td>Ugggh</td>\n",
       "      <td>slightly long</td>\n",
       "      <td>small</td>\n",
       "      <td>395665</td>\n",
       "      <td>9.0</td>\n",
       "      <td>NaN</td>\n",
       "      <td>NaN</td>\n",
       "      <td>NaN</td>\n",
       "    </tr>\n",
       "    <tr>\n",
       "      <td>3</td>\n",
       "      <td>123373</td>\n",
       "      <td>NaN</td>\n",
       "      <td>21</td>\n",
       "      <td>5.0</td>\n",
       "      <td>dd/e</td>\n",
       "      <td>NaN</td>\n",
       "      <td>NaN</td>\n",
       "      <td>new</td>\n",
       "      <td>NaN</td>\n",
       "      <td>NaN</td>\n",
       "      <td>alexmeyer626</td>\n",
       "      <td>just right</td>\n",
       "      <td>fit</td>\n",
       "      <td>875643</td>\n",
       "      <td>NaN</td>\n",
       "      <td>NaN</td>\n",
       "      <td>NaN</td>\n",
       "      <td>NaN</td>\n",
       "    </tr>\n",
       "    <tr>\n",
       "      <td>4</td>\n",
       "      <td>123373</td>\n",
       "      <td>NaN</td>\n",
       "      <td>18</td>\n",
       "      <td>5.0</td>\n",
       "      <td>b</td>\n",
       "      <td>NaN</td>\n",
       "      <td>36.0</td>\n",
       "      <td>new</td>\n",
       "      <td>NaN</td>\n",
       "      <td>5ft 2in</td>\n",
       "      <td>dberrones1</td>\n",
       "      <td>slightly long</td>\n",
       "      <td>small</td>\n",
       "      <td>944840</td>\n",
       "      <td>NaN</td>\n",
       "      <td>NaN</td>\n",
       "      <td>NaN</td>\n",
       "      <td>NaN</td>\n",
       "    </tr>\n",
       "  </tbody>\n",
       "</table>\n",
       "</div>"
      ],
      "text/plain": [
       "   item_id  waist  size  quality cup size  hips  bra size category bust  \\\n",
       "0   123373   29.0     7      5.0        d  38.0      34.0      new   36   \n",
       "1   123373   31.0    13      3.0        b  30.0      36.0      new  NaN   \n",
       "2   123373   30.0     7      2.0        b   NaN      32.0      new  NaN   \n",
       "3   123373    NaN    21      5.0     dd/e   NaN       NaN      new  NaN   \n",
       "4   123373    NaN    18      5.0        b   NaN      36.0      new  NaN   \n",
       "\n",
       "    height         user_name         length    fit  user_id  shoe size  \\\n",
       "0  5ft 6in             Emily     just right  small   991571        NaN   \n",
       "1  5ft 2in  sydneybraden2001     just right  small   587883        NaN   \n",
       "2  5ft 7in             Ugggh  slightly long  small   395665        9.0   \n",
       "3      NaN      alexmeyer626     just right    fit   875643        NaN   \n",
       "4  5ft 2in        dberrones1  slightly long  small   944840        NaN   \n",
       "\n",
       "  shoe width review_summary review_text  \n",
       "0        NaN            NaN         NaN  \n",
       "1        NaN            NaN         NaN  \n",
       "2        NaN            NaN         NaN  \n",
       "3        NaN            NaN         NaN  \n",
       "4        NaN            NaN         NaN  "
      ]
     },
     "execution_count": 3,
     "metadata": {},
     "output_type": "execute_result"
    }
   ],
   "source": [
    "#Read file and view first ten rows\n",
    "mc_data= pd.read_json(\"data_code_along/modcloth_final_data.json\", lines=True)\n",
    "mc_data.head() # displays first 5 records in the dataframe"
   ]
  },
  {
   "cell_type": "markdown",
   "metadata": {
    "id": "rT0bM85GsxI4",
    "papermill": {
     "duration": 0.050436,
     "end_time": "2020-10-07T13:01:52.381097",
     "exception": false,
     "start_time": "2020-10-07T13:01:52.330661",
     "status": "completed"
    },
    "tags": []
   },
   "source": [
    "## EDA - Exploratory Data Analysis"
   ]
  },
  {
   "cell_type": "markdown",
   "metadata": {
    "id": "nmtChSFRsxI4",
    "papermill": {
     "duration": 0.049735,
     "end_time": "2020-10-07T13:01:52.481036",
     "exception": false,
     "start_time": "2020-10-07T13:01:52.431301",
     "status": "completed"
    },
    "tags": []
   },
   "source": [
    "# Column names are inconsistent\n",
    "Some of the column names are having space and rest of them are having underscore in between them. Hence try to be consistent by adding underscore instead of space\n",
    "\n",
    "> for your information, size is the keyword in pandas , make sure to change the feature name \"size\" to some user defined name like \"mc_size\"\n",
    "https://pandas.pydata.org/pandas-docs/stable/reference/api/pandas.DataFrame.size.html"
   ]
  },
  {
   "cell_type": "code",
   "execution_count": 3,
   "metadata": {
    "execution": {
     "iopub.execute_input": "2020-10-07T13:01:52.584252Z",
     "iopub.status.busy": "2020-10-07T13:01:52.583668Z",
     "iopub.status.idle": "2020-10-07T13:01:52.586540Z",
     "shell.execute_reply": "2020-10-07T13:01:52.586052Z"
    },
    "id": "QmpOm7FdsxI4",
    "papermill": {
     "duration": 0.053752,
     "end_time": "2020-10-07T13:01:52.586622",
     "exception": false,
     "start_time": "2020-10-07T13:01:52.532870",
     "status": "completed"
    },
    "tags": []
   },
   "outputs": [],
   "source": [
    "mc_data.columns = ['item_id', 'waist', 'mc_size', 'quality', 'cup_size', 'hips', 'bra_size', 'category', 'bust', 'height', 'user_name', 'length', 'fit', 'user_id', 'shoe_size', 'shoe_width', 'review_summary', 'review_test']"
   ]
  },
  {
   "cell_type": "markdown",
   "metadata": {
    "id": "2tufuE6WsxI5",
    "papermill": {
     "duration": 0.034055,
     "end_time": "2020-10-07T13:01:52.655611",
     "exception": false,
     "start_time": "2020-10-07T13:01:52.621556",
     "status": "completed"
    },
    "tags": []
   },
   "source": [
    "> see the total number of observations, column names and datatypes info "
   ]
  },
  {
   "cell_type": "code",
   "execution_count": 4,
   "metadata": {
    "execution": {
     "iopub.execute_input": "2020-10-07T13:01:52.729128Z",
     "iopub.status.busy": "2020-10-07T13:01:52.728690Z",
     "iopub.status.idle": "2020-10-07T13:01:52.826207Z",
     "shell.execute_reply": "2020-10-07T13:01:52.825797Z"
    },
    "id": "zMBJT6NRsxI5",
    "papermill": {
     "duration": 0.136337,
     "end_time": "2020-10-07T13:01:52.826289",
     "exception": false,
     "start_time": "2020-10-07T13:01:52.689952",
     "status": "completed"
    },
    "tags": []
   },
   "outputs": [
    {
     "name": "stdout",
     "output_type": "stream",
     "text": [
      "<class 'pandas.core.frame.DataFrame'>\n",
      "RangeIndex: 82790 entries, 0 to 82789\n",
      "Data columns (total 18 columns):\n",
      "item_id           82790 non-null int64\n",
      "waist             2882 non-null float64\n",
      "mc_size           82790 non-null int64\n",
      "quality           82722 non-null float64\n",
      "cup_size          76535 non-null object\n",
      "hips              56064 non-null float64\n",
      "bra_size          76772 non-null float64\n",
      "category          82790 non-null object\n",
      "bust              11854 non-null object\n",
      "height            81683 non-null object\n",
      "user_name         82790 non-null object\n",
      "length            82755 non-null object\n",
      "fit               82790 non-null object\n",
      "user_id           82790 non-null int64\n",
      "shoe_size         27915 non-null float64\n",
      "shoe_width        18607 non-null object\n",
      "review_summary    76065 non-null object\n",
      "review_test       76065 non-null object\n",
      "dtypes: float64(5), int64(3), object(10)\n",
      "memory usage: 11.4+ MB\n"
     ]
    }
   ],
   "source": [
    "mc_data.info()"
   ]
  },
  {
   "cell_type": "markdown",
   "metadata": {
    "id": "26PMR8C4sxI5",
    "papermill": {
     "duration": 0.034869,
     "end_time": "2020-10-07T13:01:52.896385",
     "exception": false,
     "start_time": "2020-10-07T13:01:52.861516",
     "status": "completed"
    },
    "tags": []
   },
   "source": [
    "# Sparse Data\n",
    "\n",
    "Given data is having lot of missing values , for example look at the columns such as shoe_size and show_width.\n",
    "\n",
    "> lets check the missing values percentage for each feature"
   ]
  },
  {
   "cell_type": "code",
   "execution_count": 5,
   "metadata": {
    "execution": {
     "iopub.execute_input": "2020-10-07T13:01:52.973065Z",
     "iopub.status.busy": "2020-10-07T13:01:52.972653Z",
     "iopub.status.idle": "2020-10-07T13:01:53.115325Z",
     "shell.execute_reply": "2020-10-07T13:01:53.114946Z"
    },
    "id": "4Ui9o69DsxI5",
    "papermill": {
     "duration": 0.183048,
     "end_time": "2020-10-07T13:01:53.115403",
     "exception": false,
     "start_time": "2020-10-07T13:01:52.932355",
     "status": "completed"
    },
    "tags": []
   },
   "outputs": [
    {
     "data": {
      "text/html": [
       "<div>\n",
       "<style scoped>\n",
       "    .dataframe tbody tr th:only-of-type {\n",
       "        vertical-align: middle;\n",
       "    }\n",
       "\n",
       "    .dataframe tbody tr th {\n",
       "        vertical-align: top;\n",
       "    }\n",
       "\n",
       "    .dataframe thead th {\n",
       "        text-align: right;\n",
       "    }\n",
       "</style>\n",
       "<table border=\"1\" class=\"dataframe\">\n",
       "  <thead>\n",
       "    <tr style=\"text-align: right;\">\n",
       "      <th></th>\n",
       "      <th>total_missing_values</th>\n",
       "      <th>percentage_of_missing_values</th>\n",
       "    </tr>\n",
       "  </thead>\n",
       "  <tbody>\n",
       "    <tr>\n",
       "      <td>item_id</td>\n",
       "      <td>0</td>\n",
       "      <td>0.000000</td>\n",
       "    </tr>\n",
       "    <tr>\n",
       "      <td>waist</td>\n",
       "      <td>79908</td>\n",
       "      <td>96.518903</td>\n",
       "    </tr>\n",
       "    <tr>\n",
       "      <td>mc_size</td>\n",
       "      <td>0</td>\n",
       "      <td>0.000000</td>\n",
       "    </tr>\n",
       "    <tr>\n",
       "      <td>quality</td>\n",
       "      <td>68</td>\n",
       "      <td>0.082136</td>\n",
       "    </tr>\n",
       "    <tr>\n",
       "      <td>cup_size</td>\n",
       "      <td>6255</td>\n",
       "      <td>7.555260</td>\n",
       "    </tr>\n",
       "    <tr>\n",
       "      <td>hips</td>\n",
       "      <td>26726</td>\n",
       "      <td>32.281677</td>\n",
       "    </tr>\n",
       "    <tr>\n",
       "      <td>bra_size</td>\n",
       "      <td>6018</td>\n",
       "      <td>7.268994</td>\n",
       "    </tr>\n",
       "    <tr>\n",
       "      <td>category</td>\n",
       "      <td>0</td>\n",
       "      <td>0.000000</td>\n",
       "    </tr>\n",
       "    <tr>\n",
       "      <td>bust</td>\n",
       "      <td>70936</td>\n",
       "      <td>85.681846</td>\n",
       "    </tr>\n",
       "    <tr>\n",
       "      <td>height</td>\n",
       "      <td>1107</td>\n",
       "      <td>1.337118</td>\n",
       "    </tr>\n",
       "    <tr>\n",
       "      <td>user_name</td>\n",
       "      <td>0</td>\n",
       "      <td>0.000000</td>\n",
       "    </tr>\n",
       "    <tr>\n",
       "      <td>length</td>\n",
       "      <td>35</td>\n",
       "      <td>0.042276</td>\n",
       "    </tr>\n",
       "    <tr>\n",
       "      <td>fit</td>\n",
       "      <td>0</td>\n",
       "      <td>0.000000</td>\n",
       "    </tr>\n",
       "    <tr>\n",
       "      <td>user_id</td>\n",
       "      <td>0</td>\n",
       "      <td>0.000000</td>\n",
       "    </tr>\n",
       "    <tr>\n",
       "      <td>shoe_size</td>\n",
       "      <td>54875</td>\n",
       "      <td>66.282160</td>\n",
       "    </tr>\n",
       "    <tr>\n",
       "      <td>shoe_width</td>\n",
       "      <td>64183</td>\n",
       "      <td>77.525063</td>\n",
       "    </tr>\n",
       "    <tr>\n",
       "      <td>review_summary</td>\n",
       "      <td>6725</td>\n",
       "      <td>8.122962</td>\n",
       "    </tr>\n",
       "    <tr>\n",
       "      <td>review_test</td>\n",
       "      <td>6725</td>\n",
       "      <td>8.122962</td>\n",
       "    </tr>\n",
       "  </tbody>\n",
       "</table>\n",
       "</div>"
      ],
      "text/plain": [
       "                total_missing_values  percentage_of_missing_values\n",
       "item_id                            0                      0.000000\n",
       "waist                          79908                     96.518903\n",
       "mc_size                            0                      0.000000\n",
       "quality                           68                      0.082136\n",
       "cup_size                        6255                      7.555260\n",
       "hips                           26726                     32.281677\n",
       "bra_size                        6018                      7.268994\n",
       "category                           0                      0.000000\n",
       "bust                           70936                     85.681846\n",
       "height                          1107                      1.337118\n",
       "user_name                          0                      0.000000\n",
       "length                            35                      0.042276\n",
       "fit                                0                      0.000000\n",
       "user_id                            0                      0.000000\n",
       "shoe_size                      54875                     66.282160\n",
       "shoe_width                     64183                     77.525063\n",
       "review_summary                  6725                      8.122962\n",
       "review_test                     6725                      8.122962"
      ]
     },
     "execution_count": 5,
     "metadata": {},
     "output_type": "execute_result"
    }
   ],
   "source": [
    "missing_data_sum = mc_data.isnull().sum()\n",
    "missing_data = pd.DataFrame({'total_missing_values': missing_data_sum,'percentage_of_missing_values': (missing_data_sum/mc_data.shape[0])*100})\n",
    "missing_data"
   ]
  },
  {
   "cell_type": "markdown",
   "metadata": {
    "id": "GmJ3IVcIsxI6",
    "papermill": {
     "duration": 0.034981,
     "end_time": "2020-10-07T13:01:53.185402",
     "exception": false,
     "start_time": "2020-10-07T13:01:53.150421",
     "status": "completed"
    },
    "tags": []
   },
   "source": [
    "*Out of 18 columns, only 6 columns have complete data. And columns such as waist , bust, shoe_size, show_width and hips are highly sparse*"
   ]
  },
  {
   "cell_type": "markdown",
   "metadata": {
    "id": "1jdjY6RXsxI6",
    "papermill": {
     "duration": 0.034739,
     "end_time": "2020-10-07T13:01:53.255064",
     "exception": false,
     "start_time": "2020-10-07T13:01:53.220325",
     "status": "completed"
    },
    "tags": []
   },
   "source": [
    "> Check Data types which are having numerical/categorical data"
   ]
  },
  {
   "cell_type": "code",
   "execution_count": 6,
   "metadata": {
    "execution": {
     "iopub.execute_input": "2020-10-07T13:01:53.330902Z",
     "iopub.status.busy": "2020-10-07T13:01:53.330335Z",
     "iopub.status.idle": "2020-10-07T13:01:53.334444Z",
     "shell.execute_reply": "2020-10-07T13:01:53.333950Z"
    },
    "id": "Eu4_BkshsxI6",
    "papermill": {
     "duration": 0.044227,
     "end_time": "2020-10-07T13:01:53.334514",
     "exception": false,
     "start_time": "2020-10-07T13:01:53.290287",
     "status": "completed"
    },
    "tags": []
   },
   "outputs": [
    {
     "data": {
      "text/plain": [
       "item_id             int64\n",
       "waist             float64\n",
       "mc_size             int64\n",
       "quality           float64\n",
       "cup_size           object\n",
       "hips              float64\n",
       "bra_size          float64\n",
       "category           object\n",
       "bust               object\n",
       "height             object\n",
       "user_name          object\n",
       "length             object\n",
       "fit                object\n",
       "user_id             int64\n",
       "shoe_size         float64\n",
       "shoe_width         object\n",
       "review_summary     object\n",
       "review_test        object\n",
       "dtype: object"
      ]
     },
     "execution_count": 6,
     "metadata": {},
     "output_type": "execute_result"
    }
   ],
   "source": [
    "mc_data.dtypes"
   ]
  },
  {
   "cell_type": "markdown",
   "metadata": {
    "id": "hWLmj3tLsxI6",
    "papermill": {
     "duration": 0.036486,
     "end_time": "2020-10-07T13:01:53.406680",
     "exception": false,
     "start_time": "2020-10-07T13:01:53.370194",
     "status": "completed"
    },
    "tags": []
   },
   "source": [
    "*pandas library identifies item_id, waist, mc_size, quality, hips, bra_size, user_id, shoe_size are numeric And cup_size, category, bust, height, user_name, length, fit, shoe_width, review_summary , review_test are object type . Take away from this is \"There are some numeric data columns are fall under Object types\" . Hence we need to handle the misclassification of these data types. For example, bust data contains numeric values but its dtype is Object.*"
   ]
  },
  {
   "cell_type": "markdown",
   "metadata": {
    "id": "IT69P8BOsxI7",
    "papermill": {
     "duration": 0.035696,
     "end_time": "2020-10-07T13:01:53.478268",
     "exception": false,
     "start_time": "2020-10-07T13:01:53.442572",
     "status": "completed"
    },
    "tags": []
   },
   "source": [
    "# Unique number of observations for each feature"
   ]
  },
  {
   "cell_type": "markdown",
   "metadata": {
    "id": "12cwMjaasxI7",
    "papermill": {
     "duration": 0.036718,
     "end_time": "2020-10-07T13:01:53.550334",
     "exception": false,
     "start_time": "2020-10-07T13:01:53.513616",
     "status": "completed"
    },
    "tags": []
   },
   "source": [
    "> If the dataset is having less number of observations then we can see the unique data that resides in each feature(There are 82790 observations)"
   ]
  },
  {
   "cell_type": "code",
   "execution_count": 7,
   "metadata": {
    "execution": {
     "iopub.execute_input": "2020-10-07T13:01:53.625092Z",
     "iopub.status.busy": "2020-10-07T13:01:53.624675Z",
     "iopub.status.idle": "2020-10-07T13:01:53.805886Z",
     "shell.execute_reply": "2020-10-07T13:01:53.806237Z"
    },
    "id": "YCk1qC9osxI7",
    "papermill": {
     "duration": 0.220401,
     "end_time": "2020-10-07T13:01:53.806347",
     "exception": false,
     "start_time": "2020-10-07T13:01:53.585946",
     "status": "completed"
    },
    "tags": []
   },
   "outputs": [
    {
     "data": {
      "text/plain": [
       "item_id            1378\n",
       "waist                31\n",
       "mc_size              29\n",
       "quality               5\n",
       "cup_size             12\n",
       "hips                 31\n",
       "bra_size             11\n",
       "category              7\n",
       "bust                 40\n",
       "height               41\n",
       "user_name         32429\n",
       "length                5\n",
       "fit                   3\n",
       "user_id           47958\n",
       "shoe_size            15\n",
       "shoe_width            3\n",
       "review_summary    61713\n",
       "review_test       73313\n",
       "dtype: int64"
      ]
     },
     "execution_count": 7,
     "metadata": {},
     "output_type": "execute_result"
    }
   ],
   "source": [
    "mc_data.nunique()"
   ]
  },
  {
   "cell_type": "markdown",
   "metadata": {
    "id": "MTpmVe7ksxI7",
    "papermill": {
     "duration": 0.036537,
     "end_time": "2020-10-07T13:01:53.880003",
     "exception": false,
     "start_time": "2020-10-07T13:01:53.843466",
     "status": "completed"
    },
    "tags": []
   },
   "source": [
    "*With this, we can clearly understand there is no unique data entirely for one feature to make the index if any.\n",
    "And just to make a note the columns item_id and user_id are repeating.*"
   ]
  },
  {
   "cell_type": "markdown",
   "metadata": {
    "id": "rb9o0xLjsxI7",
    "papermill": {
     "duration": 0.036336,
     "end_time": "2020-10-07T13:01:53.952864",
     "exception": false,
     "start_time": "2020-10-07T13:01:53.916528",
     "status": "completed"
    },
    "tags": []
   },
   "source": [
    "> Lets look into unique observations which are having less uniqueness"
   ]
  },
  {
   "cell_type": "code",
   "execution_count": null,
   "metadata": {
    "execution": {
     "iopub.execute_input": "2020-10-07T13:01:54.032567Z",
     "iopub.status.busy": "2020-10-07T13:01:54.031985Z",
     "iopub.status.idle": "2020-10-07T13:01:54.035360Z",
     "shell.execute_reply": "2020-10-07T13:01:54.034829Z"
    },
    "id": "yU9ngyJDsxI8",
    "papermill": {
     "duration": 0.045479,
     "end_time": "2020-10-07T13:01:54.035455",
     "exception": false,
     "start_time": "2020-10-07T13:01:53.989976",
     "status": "completed"
    },
    "tags": []
   },
   "outputs": [],
   "source": [
    "def countplot(indipendent_features):\n",
    "  plt.figure(figsize=(25, 25))\n",
    "  for loc, feature in enumerate(indipendent_features):\n",
    "    ax = plt.subplot(3, 4, loc+1)\n",
    "    ax.set_xlabel('{}'.format(feature), fontsize=10)\n",
    "    chart = sns.countplot(mc_data[feature])\n",
    "    chart.set_xticklabels(chart.get_xticklabels(), rotation=90)\n",
    "  return None"
   ]
  },
  {
   "cell_type": "code",
   "execution_count": null,
   "metadata": {
    "execution": {
     "iopub.execute_input": "2020-10-07T13:01:54.146851Z",
     "iopub.status.busy": "2020-10-07T13:01:54.146293Z",
     "iopub.status.idle": "2020-10-07T13:01:56.170057Z",
     "shell.execute_reply": "2020-10-07T13:01:56.169475Z"
    },
    "id": "ZyjITizHsxI8",
    "papermill": {
     "duration": 2.080919,
     "end_time": "2020-10-07T13:01:56.170181",
     "exception": false,
     "start_time": "2020-10-07T13:01:54.089262",
     "status": "completed"
    },
    "tags": []
   },
   "outputs": [],
   "source": [
    "uniques_data = ['quality', 'cup_size', 'bra_size', 'category', 'length', 'fit',  'shoe_size', 'shoe_width', 'height', 'bust', 'mc_size']\n",
    "countplot(uniques_data)"
   ]
  },
  {
   "cell_type": "markdown",
   "metadata": {
    "id": "nCM02xHZsxI8",
    "papermill": {
     "duration": 0.055171,
     "end_time": "2020-10-07T13:01:56.281008",
     "exception": false,
     "start_time": "2020-10-07T13:01:56.225837",
     "status": "completed"
    },
    "tags": []
   },
   "source": [
    "*Few observations*\n",
    "* cup_size contains some format which might represents the measurement\n",
    "* shoe_size 38 is an outlier , there we can see lot of variance \n",
    "* height column also having few outliers (May be we can see those things after converting categorical data into numeric values)\n",
    "* there are categorical data exists such as shoe_width, category, length, fit and height. \n",
    "* For the feature bust - clearly there is one observation with different data, hence we need to format it i.e \"37 - 39\". Will try to replace this value with mean\n"
   ]
  },
  {
   "cell_type": "code",
   "execution_count": null,
   "metadata": {
    "execution": {
     "iopub.execute_input": "2020-10-07T13:01:56.402556Z",
     "iopub.status.busy": "2020-10-07T13:01:56.401916Z",
     "iopub.status.idle": "2020-10-07T13:01:56.405886Z",
     "shell.execute_reply": "2020-10-07T13:01:56.405441Z"
    },
    "id": "5nXl92ETsxI8",
    "papermill": {
     "duration": 0.070394,
     "end_time": "2020-10-07T13:01:56.405966",
     "exception": false,
     "start_time": "2020-10-07T13:01:56.335572",
     "status": "completed"
    },
    "tags": []
   },
   "outputs": [],
   "source": [
    "# replacing bust unformatted value with mean 38 which is taken from the values 37 & 39 \n",
    "mc_data.at[mc_data[mc_data.bust == '37-39'].index[0],'bust'] = '38'"
   ]
  },
  {
   "cell_type": "markdown",
   "metadata": {
    "id": "WzlIbH56sxI8",
    "papermill": {
     "duration": 0.037623,
     "end_time": "2020-10-07T13:01:56.482203",
     "exception": false,
     "start_time": "2020-10-07T13:01:56.444580",
     "status": "completed"
    },
    "tags": []
   },
   "source": [
    "# Height feature - Convert US units to Metric units (ft & in to cm)."
   ]
  },
  {
   "cell_type": "code",
   "execution_count": 8,
   "metadata": {
    "execution": {
     "iopub.execute_input": "2020-10-07T13:01:56.596706Z",
     "iopub.status.busy": "2020-10-07T13:01:56.595856Z",
     "iopub.status.idle": "2020-10-07T13:01:56.881464Z",
     "shell.execute_reply": "2020-10-07T13:01:56.880972Z"
    },
    "id": "2S8GUZopsxI9",
    "papermill": {
     "duration": 0.361257,
     "end_time": "2020-10-07T13:01:56.881541",
     "exception": false,
     "start_time": "2020-10-07T13:01:56.520284",
     "status": "completed"
    },
    "tags": []
   },
   "outputs": [
    {
     "data": {
      "text/html": [
       "<div>\n",
       "<style scoped>\n",
       "    .dataframe tbody tr th:only-of-type {\n",
       "        vertical-align: middle;\n",
       "    }\n",
       "\n",
       "    .dataframe tbody tr th {\n",
       "        vertical-align: top;\n",
       "    }\n",
       "\n",
       "    .dataframe thead th {\n",
       "        text-align: right;\n",
       "    }\n",
       "</style>\n",
       "<table border=\"1\" class=\"dataframe\">\n",
       "  <thead>\n",
       "    <tr style=\"text-align: right;\">\n",
       "      <th></th>\n",
       "      <th>item_id</th>\n",
       "      <th>waist</th>\n",
       "      <th>mc_size</th>\n",
       "      <th>quality</th>\n",
       "      <th>cup_size</th>\n",
       "      <th>hips</th>\n",
       "      <th>bra_size</th>\n",
       "      <th>category</th>\n",
       "      <th>bust</th>\n",
       "      <th>height</th>\n",
       "      <th>user_name</th>\n",
       "      <th>length</th>\n",
       "      <th>fit</th>\n",
       "      <th>user_id</th>\n",
       "      <th>shoe_size</th>\n",
       "      <th>shoe_width</th>\n",
       "      <th>review_summary</th>\n",
       "      <th>review_test</th>\n",
       "    </tr>\n",
       "  </thead>\n",
       "  <tbody>\n",
       "    <tr>\n",
       "      <td>0</td>\n",
       "      <td>123373</td>\n",
       "      <td>29.0</td>\n",
       "      <td>7</td>\n",
       "      <td>5.0</td>\n",
       "      <td>d</td>\n",
       "      <td>38.0</td>\n",
       "      <td>34.0</td>\n",
       "      <td>new</td>\n",
       "      <td>36</td>\n",
       "      <td>167.6</td>\n",
       "      <td>Emily</td>\n",
       "      <td>just right</td>\n",
       "      <td>small</td>\n",
       "      <td>991571</td>\n",
       "      <td>NaN</td>\n",
       "      <td>NaN</td>\n",
       "      <td>NaN</td>\n",
       "      <td>NaN</td>\n",
       "    </tr>\n",
       "    <tr>\n",
       "      <td>1</td>\n",
       "      <td>123373</td>\n",
       "      <td>31.0</td>\n",
       "      <td>13</td>\n",
       "      <td>3.0</td>\n",
       "      <td>b</td>\n",
       "      <td>30.0</td>\n",
       "      <td>36.0</td>\n",
       "      <td>new</td>\n",
       "      <td>NaN</td>\n",
       "      <td>157.5</td>\n",
       "      <td>sydneybraden2001</td>\n",
       "      <td>just right</td>\n",
       "      <td>small</td>\n",
       "      <td>587883</td>\n",
       "      <td>NaN</td>\n",
       "      <td>NaN</td>\n",
       "      <td>NaN</td>\n",
       "      <td>NaN</td>\n",
       "    </tr>\n",
       "    <tr>\n",
       "      <td>2</td>\n",
       "      <td>123373</td>\n",
       "      <td>30.0</td>\n",
       "      <td>7</td>\n",
       "      <td>2.0</td>\n",
       "      <td>b</td>\n",
       "      <td>NaN</td>\n",
       "      <td>32.0</td>\n",
       "      <td>new</td>\n",
       "      <td>NaN</td>\n",
       "      <td>170.2</td>\n",
       "      <td>Ugggh</td>\n",
       "      <td>slightly long</td>\n",
       "      <td>small</td>\n",
       "      <td>395665</td>\n",
       "      <td>9.0</td>\n",
       "      <td>NaN</td>\n",
       "      <td>NaN</td>\n",
       "      <td>NaN</td>\n",
       "    </tr>\n",
       "    <tr>\n",
       "      <td>3</td>\n",
       "      <td>123373</td>\n",
       "      <td>NaN</td>\n",
       "      <td>21</td>\n",
       "      <td>5.0</td>\n",
       "      <td>dd/e</td>\n",
       "      <td>NaN</td>\n",
       "      <td>NaN</td>\n",
       "      <td>new</td>\n",
       "      <td>NaN</td>\n",
       "      <td>NaN</td>\n",
       "      <td>alexmeyer626</td>\n",
       "      <td>just right</td>\n",
       "      <td>fit</td>\n",
       "      <td>875643</td>\n",
       "      <td>NaN</td>\n",
       "      <td>NaN</td>\n",
       "      <td>NaN</td>\n",
       "      <td>NaN</td>\n",
       "    </tr>\n",
       "    <tr>\n",
       "      <td>4</td>\n",
       "      <td>123373</td>\n",
       "      <td>NaN</td>\n",
       "      <td>18</td>\n",
       "      <td>5.0</td>\n",
       "      <td>b</td>\n",
       "      <td>NaN</td>\n",
       "      <td>36.0</td>\n",
       "      <td>new</td>\n",
       "      <td>NaN</td>\n",
       "      <td>157.5</td>\n",
       "      <td>dberrones1</td>\n",
       "      <td>slightly long</td>\n",
       "      <td>small</td>\n",
       "      <td>944840</td>\n",
       "      <td>NaN</td>\n",
       "      <td>NaN</td>\n",
       "      <td>NaN</td>\n",
       "      <td>NaN</td>\n",
       "    </tr>\n",
       "  </tbody>\n",
       "</table>\n",
       "</div>"
      ],
      "text/plain": [
       "   item_id  waist  mc_size  quality cup_size  hips  bra_size category bust  \\\n",
       "0   123373   29.0        7      5.0        d  38.0      34.0      new   36   \n",
       "1   123373   31.0       13      3.0        b  30.0      36.0      new  NaN   \n",
       "2   123373   30.0        7      2.0        b   NaN      32.0      new  NaN   \n",
       "3   123373    NaN       21      5.0     dd/e   NaN       NaN      new  NaN   \n",
       "4   123373    NaN       18      5.0        b   NaN      36.0      new  NaN   \n",
       "\n",
       "   height         user_name         length    fit  user_id  shoe_size  \\\n",
       "0   167.6             Emily     just right  small   991571        NaN   \n",
       "1   157.5  sydneybraden2001     just right  small   587883        NaN   \n",
       "2   170.2             Ugggh  slightly long  small   395665        9.0   \n",
       "3     NaN      alexmeyer626     just right    fit   875643        NaN   \n",
       "4   157.5        dberrones1  slightly long  small   944840        NaN   \n",
       "\n",
       "  shoe_width review_summary review_test  \n",
       "0        NaN            NaN         NaN  \n",
       "1        NaN            NaN         NaN  \n",
       "2        NaN            NaN         NaN  \n",
       "3        NaN            NaN         NaN  \n",
       "4        NaN            NaN         NaN  "
      ]
     },
     "execution_count": 8,
     "metadata": {},
     "output_type": "execute_result"
    }
   ],
   "source": [
    "def height_in_cms(ht):\n",
    "  if ht.lower() != 'nan':\n",
    "    ht = ht.replace('ft','').replace('in', '')\n",
    "    h_ft = int(ht.split()[0])\n",
    "    if len(ht.split()) > 1:\n",
    "      h_inch = int(ht.split()[1])\n",
    "    else:\n",
    "      h_inch = 0\n",
    "    h_inch += h_ft * 12\n",
    "    h_cm = round(h_inch * 2.54, 1)\n",
    "    return h_cm\n",
    "\n",
    "mc_data.height = mc_data.height.astype(str).apply(height_in_cms)\n",
    "mc_data.head()"
   ]
  },
  {
   "cell_type": "markdown",
   "metadata": {
    "id": "YK4csn9asxI9",
    "papermill": {
     "duration": 0.038316,
     "end_time": "2020-10-07T13:01:56.958670",
     "exception": false,
     "start_time": "2020-10-07T13:01:56.920354",
     "status": "completed"
    },
    "tags": []
   },
   "source": [
    "> we successfully converted metrics to centimetres. Now lets handle the missing values with mean imputation and then look into the outliers for this height feature. Use box/scatter plot for outliers visualization"
   ]
  },
  {
   "cell_type": "code",
   "execution_count": 9,
   "metadata": {
    "execution": {
     "iopub.execute_input": "2020-10-07T13:01:57.043589Z",
     "iopub.status.busy": "2020-10-07T13:01:57.043102Z",
     "iopub.status.idle": "2020-10-07T13:01:57.049132Z",
     "shell.execute_reply": "2020-10-07T13:01:57.049556Z"
    },
    "id": "6SbMrdWfsxI9",
    "papermill": {
     "duration": 0.050139,
     "end_time": "2020-10-07T13:01:57.049667",
     "exception": false,
     "start_time": "2020-10-07T13:01:56.999528",
     "status": "completed"
    },
    "tags": []
   },
   "outputs": [
    {
     "data": {
      "text/plain": [
       "0"
      ]
     },
     "execution_count": 9,
     "metadata": {},
     "output_type": "execute_result"
    }
   ],
   "source": [
    "mc_data.height.fillna(value=mc_data.height.mean(), inplace=True)\n",
    "mc_data.height.isnull().sum()"
   ]
  },
  {
   "cell_type": "code",
   "execution_count": 10,
   "metadata": {
    "execution": {
     "iopub.execute_input": "2020-10-07T13:01:57.143061Z",
     "iopub.status.busy": "2020-10-07T13:01:57.142619Z",
     "iopub.status.idle": "2020-10-07T13:01:57.244078Z",
     "shell.execute_reply": "2020-10-07T13:01:57.243691Z"
    },
    "id": "Fv5KxtrKsxI-",
    "papermill": {
     "duration": 0.154647,
     "end_time": "2020-10-07T13:01:57.244188",
     "exception": false,
     "start_time": "2020-10-07T13:01:57.089541",
     "status": "completed"
    },
    "tags": []
   },
   "outputs": [
    {
     "data": {
      "image/png": "[encoded data removed]",
      "text/plain": [
       "<Figure size 1800x432 with 1 Axes>"
      ]
     },
     "metadata": {
      "needs_background": "light"
     },
     "output_type": "display_data"
    }
   ],
   "source": [
    "def plot_outlier(feature):\n",
    "  plt.figure(figsize=(25, 6))\n",
    "  ax = sns.boxplot(x=feature, linewidth=2.5)\n",
    "plot_outlier(mc_data.height)"
   ]
  },
  {
   "cell_type": "markdown",
   "metadata": {
    "id": "m6wi1uMUsxI-",
    "papermill": {
     "duration": 0.038802,
     "end_time": "2020-10-07T13:01:57.322282",
     "exception": false,
     "start_time": "2020-10-07T13:01:57.283480",
     "status": "completed"
    },
    "tags": []
   },
   "source": [
    "> Check the lower and upper cutoff range values for the outliers"
   ]
  },
  {
   "cell_type": "code",
   "execution_count": 11,
   "metadata": {
    "execution": {
     "iopub.execute_input": "2020-10-07T13:01:57.405959Z",
     "iopub.status.busy": "2020-10-07T13:01:57.405488Z",
     "iopub.status.idle": "2020-10-07T13:01:57.407924Z",
     "shell.execute_reply": "2020-10-07T13:01:57.407472Z"
    },
    "id": "em-I_ABCsxI-",
    "papermill": {
     "duration": 0.046529,
     "end_time": "2020-10-07T13:01:57.408002",
     "exception": false,
     "start_time": "2020-10-07T13:01:57.361473",
     "status": "completed"
    },
    "tags": []
   },
   "outputs": [],
   "source": [
    "def get_outliers_range(datacolumn):\n",
    "  sorted(datacolumn)\n",
    "  Q1,Q3 = np.percentile(datacolumn , [25,75])\n",
    "  IQR = Q3 - Q1\n",
    "  lower_range = Q1 - (1.5 * IQR)\n",
    "  upper_range = Q3 + (1.5 * IQR)\n",
    "  return lower_range,upper_range"
   ]
  },
  {
   "cell_type": "code",
   "execution_count": 12,
   "metadata": {
    "execution": {
     "iopub.execute_input": "2020-10-07T13:01:57.508897Z",
     "iopub.status.busy": "2020-10-07T13:01:57.508458Z",
     "iopub.status.idle": "2020-10-07T13:01:57.514671Z",
     "shell.execute_reply": "2020-10-07T13:01:57.514304Z"
    },
    "id": "K5eTw2N6sxI-",
    "papermill": {
     "duration": 0.066125,
     "end_time": "2020-10-07T13:01:57.514753",
     "exception": false,
     "start_time": "2020-10-07T13:01:57.448628",
     "status": "completed"
    },
    "tags": []
   },
   "outputs": [
    {
     "data": {
      "text/plain": [
       "(144.70000000000002, 185.49999999999997)"
      ]
     },
     "execution_count": 12,
     "metadata": {},
     "output_type": "execute_result"
    }
   ],
   "source": [
    "\n",
    "ht_lower_range,ht_upper_range = get_outliers_range(mc_data.height)\n",
    "ht_lower_range,ht_upper_range"
   ]
  },
  {
   "cell_type": "markdown",
   "metadata": {
    "id": "GU7ZLNY1sxI-",
    "papermill": {
     "duration": 0.040367,
     "end_time": "2020-10-07T13:01:57.596233",
     "exception": false,
     "start_time": "2020-10-07T13:01:57.555866",
     "status": "completed"
    },
    "tags": []
   },
   "source": [
    "> Take away \"there are so many outliers\" exists. Here I have used Inter Quartile Range calculation to find the lower range and upper range cutoff. \n",
    "So the outlier would be anything less than the lower range cutoff(144.7) or anything more than the upper range cutoff(185.5) is an outlier.  \\\n",
    "\n",
    "Note: there are different techniques to identify the outliers \n",
    "Please check out this link for more details on this\n",
    "https://statisticsbyjim.com/basics/outliers/\n"
   ]
  },
  {
   "cell_type": "markdown",
   "metadata": {
    "id": "zUYtGKVzsxI_",
    "papermill": {
     "duration": 0.040198,
     "end_time": "2020-10-07T13:01:57.677007",
     "exception": false,
     "start_time": "2020-10-07T13:01:57.636809",
     "status": "completed"
    },
    "tags": []
   },
   "source": [
    "> Lets count how many outliers exists for this height feature\n"
   ]
  },
  {
   "cell_type": "code",
   "execution_count": 13,
   "metadata": {
    "execution": {
     "iopub.execute_input": "2020-10-07T13:01:57.794049Z",
     "iopub.status.busy": "2020-10-07T13:01:57.792296Z",
     "iopub.status.idle": "2020-10-07T13:01:57.821910Z",
     "shell.execute_reply": "2020-10-07T13:01:57.821551Z"
    },
    "id": "w7LiRuyCsxI_",
    "papermill": {
     "duration": 0.104176,
     "end_time": "2020-10-07T13:01:57.821988",
     "exception": false,
     "start_time": "2020-10-07T13:01:57.717812",
     "status": "completed"
    },
    "tags": []
   },
   "outputs": [
    {
     "data": {
      "text/html": [
       "<div>\n",
       "<style scoped>\n",
       "    .dataframe tbody tr th:only-of-type {\n",
       "        vertical-align: middle;\n",
       "    }\n",
       "\n",
       "    .dataframe tbody tr th {\n",
       "        vertical-align: top;\n",
       "    }\n",
       "\n",
       "    .dataframe thead th {\n",
       "        text-align: right;\n",
       "    }\n",
       "</style>\n",
       "<table border=\"1\" class=\"dataframe\">\n",
       "  <thead>\n",
       "    <tr style=\"text-align: right;\">\n",
       "      <th></th>\n",
       "      <th>item_id</th>\n",
       "      <th>waist</th>\n",
       "      <th>mc_size</th>\n",
       "      <th>quality</th>\n",
       "      <th>cup_size</th>\n",
       "      <th>hips</th>\n",
       "      <th>bra_size</th>\n",
       "      <th>category</th>\n",
       "      <th>bust</th>\n",
       "      <th>height</th>\n",
       "      <th>user_name</th>\n",
       "      <th>length</th>\n",
       "      <th>fit</th>\n",
       "      <th>user_id</th>\n",
       "      <th>shoe_size</th>\n",
       "      <th>shoe_width</th>\n",
       "      <th>review_summary</th>\n",
       "      <th>review_test</th>\n",
       "    </tr>\n",
       "  </thead>\n",
       "  <tbody>\n",
       "    <tr>\n",
       "      <td>468</td>\n",
       "      <td>125442</td>\n",
       "      <td>NaN</td>\n",
       "      <td>5</td>\n",
       "      <td>5.0</td>\n",
       "      <td>c</td>\n",
       "      <td>35.0</td>\n",
       "      <td>34.0</td>\n",
       "      <td>new</td>\n",
       "      <td>NaN</td>\n",
       "      <td>101.6</td>\n",
       "      <td>sarah.d.charleton</td>\n",
       "      <td>just right</td>\n",
       "      <td>fit</td>\n",
       "      <td>536627</td>\n",
       "      <td>NaN</td>\n",
       "      <td>NaN</td>\n",
       "      <td>NaN</td>\n",
       "      <td>NaN</td>\n",
       "    </tr>\n",
       "    <tr>\n",
       "      <td>1895</td>\n",
       "      <td>129268</td>\n",
       "      <td>NaN</td>\n",
       "      <td>20</td>\n",
       "      <td>3.0</td>\n",
       "      <td>NaN</td>\n",
       "      <td>NaN</td>\n",
       "      <td>NaN</td>\n",
       "      <td>new</td>\n",
       "      <td>NaN</td>\n",
       "      <td>190.5</td>\n",
       "      <td>fran4252</td>\n",
       "      <td>slightly short</td>\n",
       "      <td>small</td>\n",
       "      <td>768980</td>\n",
       "      <td>NaN</td>\n",
       "      <td>NaN</td>\n",
       "      <td>NaN</td>\n",
       "      <td>NaN</td>\n",
       "    </tr>\n",
       "    <tr>\n",
       "      <td>1952</td>\n",
       "      <td>129268</td>\n",
       "      <td>NaN</td>\n",
       "      <td>26</td>\n",
       "      <td>5.0</td>\n",
       "      <td>d</td>\n",
       "      <td>49.0</td>\n",
       "      <td>40.0</td>\n",
       "      <td>new</td>\n",
       "      <td>45</td>\n",
       "      <td>188.0</td>\n",
       "      <td>folkloregray</td>\n",
       "      <td>slightly long</td>\n",
       "      <td>fit</td>\n",
       "      <td>463032</td>\n",
       "      <td>10.5</td>\n",
       "      <td>average</td>\n",
       "      <td>NaN</td>\n",
       "      <td>NaN</td>\n",
       "    </tr>\n",
       "    <tr>\n",
       "      <td>2919</td>\n",
       "      <td>136482</td>\n",
       "      <td>NaN</td>\n",
       "      <td>32</td>\n",
       "      <td>4.0</td>\n",
       "      <td>ddd/f</td>\n",
       "      <td>46.0</td>\n",
       "      <td>40.0</td>\n",
       "      <td>new</td>\n",
       "      <td>NaN</td>\n",
       "      <td>188.0</td>\n",
       "      <td>krobinson2011</td>\n",
       "      <td>just right</td>\n",
       "      <td>fit</td>\n",
       "      <td>372482</td>\n",
       "      <td>NaN</td>\n",
       "      <td>NaN</td>\n",
       "      <td>NaN</td>\n",
       "      <td>NaN</td>\n",
       "    </tr>\n",
       "    <tr>\n",
       "      <td>3223</td>\n",
       "      <td>137865</td>\n",
       "      <td>NaN</td>\n",
       "      <td>26</td>\n",
       "      <td>4.0</td>\n",
       "      <td>h</td>\n",
       "      <td>47.0</td>\n",
       "      <td>36.0</td>\n",
       "      <td>new</td>\n",
       "      <td>NaN</td>\n",
       "      <td>188.0</td>\n",
       "      <td>Leila</td>\n",
       "      <td>just right</td>\n",
       "      <td>fit</td>\n",
       "      <td>527524</td>\n",
       "      <td>NaN</td>\n",
       "      <td>NaN</td>\n",
       "      <td>NaN</td>\n",
       "      <td>NaN</td>\n",
       "    </tr>\n",
       "    <tr>\n",
       "      <td>...</td>\n",
       "      <td>...</td>\n",
       "      <td>...</td>\n",
       "      <td>...</td>\n",
       "      <td>...</td>\n",
       "      <td>...</td>\n",
       "      <td>...</td>\n",
       "      <td>...</td>\n",
       "      <td>...</td>\n",
       "      <td>...</td>\n",
       "      <td>...</td>\n",
       "      <td>...</td>\n",
       "      <td>...</td>\n",
       "      <td>...</td>\n",
       "      <td>...</td>\n",
       "      <td>...</td>\n",
       "      <td>...</td>\n",
       "      <td>...</td>\n",
       "      <td>...</td>\n",
       "    </tr>\n",
       "    <tr>\n",
       "      <td>80344</td>\n",
       "      <td>792842</td>\n",
       "      <td>NaN</td>\n",
       "      <td>12</td>\n",
       "      <td>4.0</td>\n",
       "      <td>k</td>\n",
       "      <td>60.0</td>\n",
       "      <td>48.0</td>\n",
       "      <td>outerwear</td>\n",
       "      <td>NaN</td>\n",
       "      <td>241.3</td>\n",
       "      <td>bandnerd2522</td>\n",
       "      <td>just right</td>\n",
       "      <td>small</td>\n",
       "      <td>810539</td>\n",
       "      <td>11.5</td>\n",
       "      <td>average</td>\n",
       "      <td>I need blazers to wear ov</td>\n",
       "      <td>I need blazers to wear over some of my dresses...</td>\n",
       "    </tr>\n",
       "    <tr>\n",
       "      <td>80713</td>\n",
       "      <td>796383</td>\n",
       "      <td>NaN</td>\n",
       "      <td>12</td>\n",
       "      <td>4.0</td>\n",
       "      <td>k</td>\n",
       "      <td>60.0</td>\n",
       "      <td>48.0</td>\n",
       "      <td>outerwear</td>\n",
       "      <td>NaN</td>\n",
       "      <td>241.3</td>\n",
       "      <td>bandnerd2522</td>\n",
       "      <td>just right</td>\n",
       "      <td>small</td>\n",
       "      <td>810539</td>\n",
       "      <td>11.5</td>\n",
       "      <td>average</td>\n",
       "      <td>This jacket is lovely, bu</td>\n",
       "      <td>This jacket is lovely, but I couldn't move my ...</td>\n",
       "    </tr>\n",
       "    <tr>\n",
       "      <td>81083</td>\n",
       "      <td>803464</td>\n",
       "      <td>NaN</td>\n",
       "      <td>4</td>\n",
       "      <td>5.0</td>\n",
       "      <td>NaN</td>\n",
       "      <td>NaN</td>\n",
       "      <td>NaN</td>\n",
       "      <td>outerwear</td>\n",
       "      <td>NaN</td>\n",
       "      <td>241.3</td>\n",
       "      <td>Ida</td>\n",
       "      <td>just right</td>\n",
       "      <td>fit</td>\n",
       "      <td>887787</td>\n",
       "      <td>NaN</td>\n",
       "      <td>NaN</td>\n",
       "      <td>Finally a blazer that fit</td>\n",
       "      <td>Finally a blazer that fits me perfectly and do...</td>\n",
       "    </tr>\n",
       "    <tr>\n",
       "      <td>81846</td>\n",
       "      <td>806479</td>\n",
       "      <td>NaN</td>\n",
       "      <td>15</td>\n",
       "      <td>5.0</td>\n",
       "      <td>c</td>\n",
       "      <td>40.0</td>\n",
       "      <td>34.0</td>\n",
       "      <td>outerwear</td>\n",
       "      <td>NaN</td>\n",
       "      <td>188.0</td>\n",
       "      <td>brittanna75</td>\n",
       "      <td>slightly long</td>\n",
       "      <td>large</td>\n",
       "      <td>910471</td>\n",
       "      <td>9.5</td>\n",
       "      <td>average</td>\n",
       "      <td>I am very happy with this</td>\n",
       "      <td>I am very happy with this coat.  It will be a ...</td>\n",
       "    </tr>\n",
       "    <tr>\n",
       "      <td>82029</td>\n",
       "      <td>806856</td>\n",
       "      <td>NaN</td>\n",
       "      <td>15</td>\n",
       "      <td>5.0</td>\n",
       "      <td>dd/e</td>\n",
       "      <td>NaN</td>\n",
       "      <td>38.0</td>\n",
       "      <td>outerwear</td>\n",
       "      <td>NaN</td>\n",
       "      <td>188.0</td>\n",
       "      <td>kelly.hollister</td>\n",
       "      <td>just right</td>\n",
       "      <td>fit</td>\n",
       "      <td>394196</td>\n",
       "      <td>NaN</td>\n",
       "      <td>NaN</td>\n",
       "      <td>This coat is EVERYTHING.</td>\n",
       "      <td>This coat is EVERYTHING. You will NOT be disap...</td>\n",
       "    </tr>\n",
       "  </tbody>\n",
       "</table>\n",
       "<p>199 rows × 18 columns</p>\n",
       "</div>"
      ],
      "text/plain": [
       "       item_id  waist  mc_size  quality cup_size  hips  bra_size   category  \\\n",
       "468     125442    NaN        5      5.0        c  35.0      34.0        new   \n",
       "1895    129268    NaN       20      3.0      NaN   NaN       NaN        new   \n",
       "1952    129268    NaN       26      5.0        d  49.0      40.0        new   \n",
       "2919    136482    NaN       32      4.0    ddd/f  46.0      40.0        new   \n",
       "3223    137865    NaN       26      4.0        h  47.0      36.0        new   \n",
       "...        ...    ...      ...      ...      ...   ...       ...        ...   \n",
       "80344   792842    NaN       12      4.0        k  60.0      48.0  outerwear   \n",
       "80713   796383    NaN       12      4.0        k  60.0      48.0  outerwear   \n",
       "81083   803464    NaN        4      5.0      NaN   NaN       NaN  outerwear   \n",
       "81846   806479    NaN       15      5.0        c  40.0      34.0  outerwear   \n",
       "82029   806856    NaN       15      5.0     dd/e   NaN      38.0  outerwear   \n",
       "\n",
       "      bust  height          user_name          length    fit  user_id  \\\n",
       "468    NaN   101.6  sarah.d.charleton      just right    fit   536627   \n",
       "1895   NaN   190.5           fran4252  slightly short  small   768980   \n",
       "1952    45   188.0       folkloregray   slightly long    fit   463032   \n",
       "2919   NaN   188.0      krobinson2011      just right    fit   372482   \n",
       "3223   NaN   188.0              Leila      just right    fit   527524   \n",
       "...    ...     ...                ...             ...    ...      ...   \n",
       "80344  NaN   241.3       bandnerd2522      just right  small   810539   \n",
       "80713  NaN   241.3       bandnerd2522      just right  small   810539   \n",
       "81083  NaN   241.3                Ida      just right    fit   887787   \n",
       "81846  NaN   188.0        brittanna75   slightly long  large   910471   \n",
       "82029  NaN   188.0    kelly.hollister      just right    fit   394196   \n",
       "\n",
       "       shoe_size shoe_width             review_summary  \\\n",
       "468          NaN        NaN                        NaN   \n",
       "1895         NaN        NaN                        NaN   \n",
       "1952        10.5    average                        NaN   \n",
       "2919         NaN        NaN                        NaN   \n",
       "3223         NaN        NaN                        NaN   \n",
       "...          ...        ...                        ...   \n",
       "80344       11.5    average  I need blazers to wear ov   \n",
       "80713       11.5    average  This jacket is lovely, bu   \n",
       "81083        NaN        NaN  Finally a blazer that fit   \n",
       "81846        9.5    average  I am very happy with this   \n",
       "82029        NaN        NaN   This coat is EVERYTHING.   \n",
       "\n",
       "                                             review_test  \n",
       "468                                                  NaN  \n",
       "1895                                                 NaN  \n",
       "1952                                                 NaN  \n",
       "2919                                                 NaN  \n",
       "3223                                                 NaN  \n",
       "...                                                  ...  \n",
       "80344  I need blazers to wear over some of my dresses...  \n",
       "80713  This jacket is lovely, but I couldn't move my ...  \n",
       "81083  Finally a blazer that fits me perfectly and do...  \n",
       "81846  I am very happy with this coat.  It will be a ...  \n",
       "82029  This coat is EVERYTHING. You will NOT be disap...  \n",
       "\n",
       "[199 rows x 18 columns]"
      ]
     },
     "execution_count": 13,
     "metadata": {},
     "output_type": "execute_result"
    }
   ],
   "source": [
    "mc_data[(mc_data.height < ht_lower_range) | (mc_data.height > ht_upper_range)]"
   ]
  },
  {
   "cell_type": "markdown",
   "metadata": {
    "id": "CfBn4vObsxI_",
    "papermill": {
     "duration": 0.042027,
     "end_time": "2020-10-07T13:01:57.905016",
     "exception": false,
     "start_time": "2020-10-07T13:01:57.862989",
     "status": "completed"
    },
    "tags": []
   },
   "source": [
    "> Take Away \"There are 199 outliers\". which is 0.2% of total number observations. Hence we can remove/drop/delete these outliers"
   ]
  },
  {
   "cell_type": "code",
   "execution_count": 14,
   "metadata": {
    "execution": {
     "iopub.execute_input": "2020-10-07T13:01:57.994768Z",
     "iopub.status.busy": "2020-10-07T13:01:57.994328Z",
     "iopub.status.idle": "2020-10-07T13:01:58.019471Z",
     "shell.execute_reply": "2020-10-07T13:01:58.019057Z"
    },
    "id": "NI7gQoVfsxI_",
    "papermill": {
     "duration": 0.072994,
     "end_time": "2020-10-07T13:01:58.019553",
     "exception": false,
     "start_time": "2020-10-07T13:01:57.946559",
     "status": "completed"
    },
    "tags": []
   },
   "outputs": [
    {
     "data": {
      "text/plain": [
       "(82591, 18)"
      ]
     },
     "execution_count": 14,
     "metadata": {},
     "output_type": "execute_result"
    }
   ],
   "source": [
    "mc_df = mc_data.drop(mc_data[(mc_data.height < ht_lower_range) | (mc_data.height > ht_upper_range)].index)\n",
    "\n",
    "mc_df.reset_index(drop=True, inplace=True)\n",
    "mc_df.shape"
   ]
  },
  {
   "cell_type": "markdown",
   "metadata": {
    "id": "iooYNNvYsxJA",
    "papermill": {
     "duration": 0.042094,
     "end_time": "2020-10-07T13:01:58.103287",
     "exception": false,
     "start_time": "2020-10-07T13:01:58.061193",
     "status": "completed"
    },
    "tags": []
   },
   "source": [
    "> Lets look again the height feature using box plot to see the handling of outlier "
   ]
  },
  {
   "cell_type": "code",
   "execution_count": 15,
   "metadata": {
    "execution": {
     "iopub.execute_input": "2020-10-07T13:01:58.219051Z",
     "iopub.status.busy": "2020-10-07T13:01:58.218597Z",
     "iopub.status.idle": "2020-10-07T13:01:58.315185Z",
     "shell.execute_reply": "2020-10-07T13:01:58.314723Z"
    },
    "id": "duEORYTesxJA",
    "papermill": {
     "duration": 0.169618,
     "end_time": "2020-10-07T13:01:58.315263",
     "exception": false,
     "start_time": "2020-10-07T13:01:58.145645",
     "status": "completed"
    },
    "tags": []
   },
   "outputs": [
    {
     "data": {
      "image/png": "[encoded data removed]",
      "text/plain": [
       "<Figure size 1800x432 with 1 Axes>"
      ]
     },
     "metadata": {
      "needs_background": "light"
     },
     "output_type": "display_data"
    }
   ],
   "source": [
    "plot_outlier(mc_df.height)"
   ]
  },
  {
   "cell_type": "markdown",
   "metadata": {
    "id": "4-vWNHSqsxJA",
    "papermill": {
     "duration": 0.043231,
     "end_time": "2020-10-07T13:01:58.401165",
     "exception": false,
     "start_time": "2020-10-07T13:01:58.357934",
     "status": "completed"
    },
    "tags": []
   },
   "source": [
    "# Numeric features distributions Visualization "
   ]
  },
  {
   "cell_type": "code",
   "execution_count": null,
   "metadata": {
    "execution": {
     "iopub.execute_input": "2020-10-07T13:01:58.494737Z",
     "iopub.status.busy": "2020-10-07T13:01:58.494279Z",
     "iopub.status.idle": "2020-10-07T13:01:58.496992Z",
     "shell.execute_reply": "2020-10-07T13:01:58.496623Z"
    },
    "id": "LDZ_OSgIsxJA",
    "papermill": {
     "duration": 0.051569,
     "end_time": "2020-10-07T13:01:58.497065",
     "exception": false,
     "start_time": "2020-10-07T13:01:58.445496",
     "status": "completed"
    },
    "tags": []
   },
   "outputs": [],
   "source": [
    "def plot_dist(df, indipendent_features):\n",
    "  plt.figure(figsize=(25, 20))\n",
    "  for loc, feature in enumerate(indipendent_features):\n",
    "    ax = plt.subplot(3, 3, loc+1)\n",
    "    sns.distplot(df[feature]) # you can try histplot as well\n",
    "  return None"
   ]
  },
  {
   "cell_type": "code",
   "execution_count": null,
   "metadata": {
    "execution": {
     "iopub.execute_input": "2020-10-07T13:01:58.614401Z",
     "iopub.status.busy": "2020-10-07T13:01:58.613900Z",
     "iopub.status.idle": "2020-10-07T13:01:59.879178Z",
     "shell.execute_reply": "2020-10-07T13:01:59.878705Z"
    },
    "id": "VIoaJgG8sxJA",
    "papermill": {
     "duration": 1.338943,
     "end_time": "2020-10-07T13:01:59.879258",
     "exception": false,
     "start_time": "2020-10-07T13:01:58.540315",
     "status": "completed"
    },
    "tags": []
   },
   "outputs": [],
   "source": [
    "plot_dist(mc_data, ['height', 'waist', 'mc_size', 'quality', 'hips', 'bra_size', 'shoe_size'])"
   ]
  },
  {
   "cell_type": "markdown",
   "metadata": {
    "id": "MpX6x5IIsxJA",
    "papermill": {
     "duration": 0.045302,
     "end_time": "2020-10-07T13:01:59.970311",
     "exception": false,
     "start_time": "2020-10-07T13:01:59.925009",
     "status": "completed"
    },
    "tags": []
   },
   "source": [
    "# Missing Values Handling for numeric features\n",
    "\n",
    "> as we see there are lot of missing values in this dataset. Since the data is highly sparse, i am trying to use KNN algorith to impute the relavant features."
   ]
  },
  {
   "cell_type": "code",
   "execution_count": null,
   "metadata": {
    "execution": {
     "iopub.execute_input": "2020-10-07T13:02:00.067648Z",
     "iopub.status.busy": "2020-10-07T13:02:00.067183Z",
     "iopub.status.idle": "2020-10-07T13:06:24.085925Z",
     "shell.execute_reply": "2020-10-07T13:06:24.085409Z"
    },
    "id": "GSzwlhuosxJB",
    "papermill": {
     "duration": 264.070364,
     "end_time": "2020-10-07T13:06:24.086033",
     "exception": false,
     "start_time": "2020-10-07T13:02:00.015669",
     "status": "completed"
    },
    "tags": []
   },
   "outputs": [],
   "source": [
    "from sklearn.impute import KNNImputer\n",
    "imputer = KNNImputer(n_neighbors=10)\n",
    "\n",
    "# finding imputation using other features (it will take couple of minutes to complete the execution)\n",
    "mc_data_knn_ind_features = mc_df[['waist', 'hips', 'bra_size', 'bust', 'height', 'shoe_size']]\n",
    "\n",
    "df_filled = imputer.fit_transform(mc_data_knn_ind_features)\n",
    "\n",
    "\n",
    "knn_numeric_imputations = pd.DataFrame(data=df_filled, columns=['waist', 'hips', 'bra_size', 'bust', 'height', 'shoe_size'])\n",
    "\n",
    "\n",
    "# remove the existing numeric columns (waist, height, hips, bra_size, bust, shoe_size ) from the main dataframe and concatenate  with knn imputed data\n",
    "#mc_df = mc_data\n",
    "mc_new_df = mc_df.drop(['waist', 'hips', 'bra_size', 'bust', 'height', 'shoe_size'], axis=1)\n",
    "\n",
    "\n"
   ]
  },
  {
   "cell_type": "code",
   "execution_count": null,
   "metadata": {
    "execution": {
     "iopub.execute_input": "2020-10-07T13:06:24.184406Z",
     "iopub.status.busy": "2020-10-07T13:06:24.183011Z",
     "iopub.status.idle": "2020-10-07T13:06:24.272814Z",
     "shell.execute_reply": "2020-10-07T13:06:24.272314Z"
    },
    "id": "GoLkjtRNsxJB",
    "papermill": {
     "duration": 0.139941,
     "end_time": "2020-10-07T13:06:24.272893",
     "exception": false,
     "start_time": "2020-10-07T13:06:24.132952",
     "status": "completed"
    },
    "tags": []
   },
   "outputs": [],
   "source": [
    "# concat the imputations data with mc data frame\n",
    "mc = pd.concat([mc_new_df, knn_numeric_imputations], axis=1)\n",
    "mc.isnull().sum()"
   ]
  },
  {
   "cell_type": "markdown",
   "metadata": {
    "id": "1q_GYj0vsxJB",
    "papermill": {
     "duration": 0.045941,
     "end_time": "2020-10-07T13:06:24.364511",
     "exception": false,
     "start_time": "2020-10-07T13:06:24.318570",
     "status": "completed"
    },
    "tags": []
   },
   "source": [
    "> we successfully done the imputations for some of the numeric features"
   ]
  },
  {
   "cell_type": "markdown",
   "metadata": {
    "id": "mm5x7U-ksxJB",
    "papermill": {
     "duration": 0.045661,
     "end_time": "2020-10-07T13:06:24.456728",
     "exception": false,
     "start_time": "2020-10-07T13:06:24.411067",
     "status": "completed"
    },
    "tags": []
   },
   "source": [
    "# Handling shoe-size outliers"
   ]
  },
  {
   "cell_type": "code",
   "execution_count": null,
   "metadata": {
    "execution": {
     "iopub.execute_input": "2020-10-07T13:06:24.561370Z",
     "iopub.status.busy": "2020-10-07T13:06:24.556761Z",
     "iopub.status.idle": "2020-10-07T13:06:24.656770Z",
     "shell.execute_reply": "2020-10-07T13:06:24.656414Z"
    },
    "id": "_OVkyofZsxJB",
    "papermill": {
     "duration": 0.154279,
     "end_time": "2020-10-07T13:06:24.656849",
     "exception": false,
     "start_time": "2020-10-07T13:06:24.502570",
     "status": "completed"
    },
    "tags": []
   },
   "outputs": [],
   "source": [
    "plot_outlier(mc.shoe_size)"
   ]
  },
  {
   "cell_type": "markdown",
   "metadata": {
    "id": "6zK1lAAEsxJC",
    "papermill": {
     "duration": 0.045063,
     "end_time": "2020-10-07T13:06:24.747638",
     "exception": false,
     "start_time": "2020-10-07T13:06:24.702575",
     "status": "completed"
    },
    "tags": []
   },
   "source": [
    "clearly, there are few outliers, using IQR cutoff range values remove there observations"
   ]
  },
  {
   "cell_type": "code",
   "execution_count": null,
   "metadata": {
    "execution": {
     "iopub.execute_input": "2020-10-07T13:06:24.861022Z",
     "iopub.status.busy": "2020-10-07T13:06:24.860581Z",
     "iopub.status.idle": "2020-10-07T13:06:25.017114Z",
     "shell.execute_reply": "2020-10-07T13:06:25.017469Z"
    },
    "id": "2O6w0_QUsxJC",
    "papermill": {
     "duration": 0.224317,
     "end_time": "2020-10-07T13:06:25.017569",
     "exception": false,
     "start_time": "2020-10-07T13:06:24.793252",
     "status": "completed"
    },
    "tags": []
   },
   "outputs": [],
   "source": [
    "ss_lower_range,ss_upper_range = get_outliers_range(mc.shoe_size)\n",
    "#print(ss_lower_range,ss_upper_range)\n",
    "\n",
    "mc.drop(mc[(mc.shoe_size < ss_lower_range) | (mc.shoe_size > ss_upper_range)].index, axis=0, inplace=True) # found 390 observations \n",
    "plot_outlier(mc.shoe_size)"
   ]
  },
  {
   "cell_type": "code",
   "execution_count": null,
   "metadata": {
    "id": "lloay3tqsxJC",
    "papermill": {
     "duration": 0.046937,
     "end_time": "2020-10-07T13:06:25.111506",
     "exception": false,
     "start_time": "2020-10-07T13:06:25.064569",
     "status": "completed"
    },
    "tags": []
   },
   "outputs": [],
   "source": []
  },
  {
   "cell_type": "markdown",
   "metadata": {
    "id": "Uh4iGqygsxJC",
    "papermill": {
     "duration": 0.04623,
     "end_time": "2020-10-07T13:06:25.204093",
     "exception": false,
     "start_time": "2020-10-07T13:06:25.157863",
     "status": "completed"
    },
    "tags": []
   },
   "source": [
    "# Transform some of categorical variables to numeric "
   ]
  },
  {
   "cell_type": "markdown",
   "metadata": {
    "id": "tbqzWpRfsxJC",
    "papermill": {
     "duration": 0.046763,
     "end_time": "2020-10-07T13:06:25.297343",
     "exception": false,
     "start_time": "2020-10-07T13:06:25.250580",
     "status": "completed"
    },
    "tags": []
   },
   "source": [
    "### feature : Cup size - used open source data to convert measurements into numerical data"
   ]
  },
  {
   "cell_type": "markdown",
   "metadata": {
    "id": "sEnkNeMPsxJC",
    "papermill": {
     "duration": 0.046726,
     "end_time": "2020-10-07T13:06:25.391285",
     "exception": false,
     "start_time": "2020-10-07T13:06:25.344559",
     "status": "completed"
    },
    "tags": []
   },
   "source": [
    "![image.png](attachment:image.png)\n",
    "source taken from https://www.blitzresults.com/en/bra-size/\n",
    "\n",
    "Adding two new columns for the feture \"cup_size\" in order to convert the measurements into centimeters and then imputing missing values with mean values. "
   ]
  },
  {
   "cell_type": "code",
   "execution_count": null,
   "metadata": {
    "execution": {
     "iopub.execute_input": "2020-10-07T13:06:25.494618Z",
     "iopub.status.busy": "2020-10-07T13:06:25.492940Z",
     "iopub.status.idle": "2020-10-07T13:06:25.498006Z",
     "shell.execute_reply": "2020-10-07T13:06:25.497531Z"
    },
    "id": "EiPGJPy4sxJD",
    "papermill": {
     "duration": 0.060177,
     "end_time": "2020-10-07T13:06:25.498089",
     "exception": false,
     "start_time": "2020-10-07T13:06:25.437912",
     "status": "completed"
    },
    "tags": []
   },
   "outputs": [],
   "source": [
    "def convert_cup_size_to_cms(cup_size_code):\n",
    "  if cup_size_code == 'aa':\n",
    "    return 10, 11\n",
    "  if cup_size_code == 'a':\n",
    "    return 12, 13\n",
    "  if cup_size_code == 'b':\n",
    "    return 14, 15\n",
    "  if cup_size_code == 'c':\n",
    "    return 16, 17\n",
    "  if cup_size_code == 'd':\n",
    "    return 18, 19\n",
    "  if cup_size_code == 'dd/e':\n",
    "    return 20, 21\n",
    "  if cup_size_code == 'ddd/f':\n",
    "    return 22, 23\n",
    "  if cup_size_code == 'dddd/g':\n",
    "    return 24, 25\n",
    "  if cup_size_code == 'h':\n",
    "    return 26, 27\n",
    "  if cup_size_code == 'i':\n",
    "    return 28, 29\n",
    "  if cup_size_code == 'j':\n",
    "    return 30, 31\n",
    "  if cup_size_code == 'k':\n",
    "    return 32, 33 \n",
    "  else:\n",
    "    return str('unknown')"
   ]
  },
  {
   "cell_type": "code",
   "execution_count": null,
   "metadata": {
    "execution": {
     "iopub.execute_input": "2020-10-07T13:06:25.596133Z",
     "iopub.status.busy": "2020-10-07T13:06:25.595045Z",
     "iopub.status.idle": "2020-10-07T13:06:25.641726Z",
     "shell.execute_reply": "2020-10-07T13:06:25.641341Z"
    },
    "id": "fj5RWuQTsxJD",
    "papermill": {
     "duration": 0.09651,
     "end_time": "2020-10-07T13:06:25.641808",
     "exception": false,
     "start_time": "2020-10-07T13:06:25.545298",
     "status": "completed"
    },
    "tags": []
   },
   "outputs": [],
   "source": [
    "mc['cup_size_in_cms'] = mc.cup_size.apply(convert_cup_size_to_cms)\n",
    "mc.head()"
   ]
  },
  {
   "cell_type": "code",
   "execution_count": null,
   "metadata": {
    "execution": {
     "iopub.execute_input": "2020-10-07T13:06:25.774293Z",
     "iopub.status.busy": "2020-10-07T13:06:25.773036Z",
     "iopub.status.idle": "2020-10-07T13:06:25.969574Z",
     "shell.execute_reply": "2020-10-07T13:06:25.969099Z"
    },
    "id": "Pschzw4wsxJD",
    "papermill": {
     "duration": 0.280551,
     "end_time": "2020-10-07T13:06:25.969661",
     "exception": false,
     "start_time": "2020-10-07T13:06:25.689110",
     "status": "completed"
    },
    "tags": []
   },
   "outputs": [],
   "source": [
    "def split_cup_size_data(data, index):\n",
    "  if data.lower() == 'unknown':\n",
    "    return 0\n",
    "  value = data.replace('(','').replace(')','').replace(',','')\n",
    "  return value.split()[index]\n",
    "\n",
    "mc['cup_size_start_in_cms'] =  mc.cup_size_in_cms.astype(str).apply(lambda x : split_cup_size_data(x, 0))\n",
    "mc['cup_size_end_in_cms'] =  mc.cup_size_in_cms.astype(str).apply(lambda x : split_cup_size_data(x, 1))\n",
    "mc.head()"
   ]
  },
  {
   "cell_type": "code",
   "execution_count": null,
   "metadata": {
    "execution": {
     "iopub.execute_input": "2020-10-07T13:06:26.079342Z",
     "iopub.status.busy": "2020-10-07T13:06:26.078888Z",
     "iopub.status.idle": "2020-10-07T13:06:26.095718Z",
     "shell.execute_reply": "2020-10-07T13:06:26.096302Z"
    },
    "id": "vwjtJ6DisxJD",
    "papermill": {
     "duration": 0.078579,
     "end_time": "2020-10-07T13:06:26.096410",
     "exception": false,
     "start_time": "2020-10-07T13:06:26.017831",
     "status": "completed"
    },
    "tags": []
   },
   "outputs": [],
   "source": [
    "mc['cup_size_start_in_cms'] = mc.cup_size_start_in_cms.astype('int')\n",
    "mc['cup_size_end_in_cms'] = mc.cup_size_end_in_cms.astype('int')\n",
    "\n",
    "\n",
    "# missing values imputation with mean\n",
    "mc['cup_size_start_in_cms']  = mc.cup_size_start_in_cms.mask(mc.cup_size_start_in_cms==0).fillna(value=mc.cup_size_start_in_cms.mean())\n",
    "mc['cup_size_end_in_cms']  = mc.cup_size_end_in_cms.mask(mc.cup_size_end_in_cms==0).fillna(value=mc.cup_size_end_in_cms.mean())"
   ]
  },
  {
   "cell_type": "markdown",
   "metadata": {
    "id": "6tDwjOZOsxJD",
    "papermill": {
     "duration": 0.067577,
     "end_time": "2020-10-07T13:06:26.232612",
     "exception": false,
     "start_time": "2020-10-07T13:06:26.165035",
     "status": "completed"
    },
    "tags": []
   },
   "source": [
    "> lets double check the NaN values imputations for the newly added features"
   ]
  },
  {
   "cell_type": "code",
   "execution_count": null,
   "metadata": {
    "execution": {
     "iopub.execute_input": "2020-10-07T13:06:26.377674Z",
     "iopub.status.busy": "2020-10-07T13:06:26.376977Z",
     "iopub.status.idle": "2020-10-07T13:06:26.438765Z",
     "shell.execute_reply": "2020-10-07T13:06:26.438386Z"
    },
    "id": "GZDJRoy6sxJD",
    "papermill": {
     "duration": 0.138601,
     "end_time": "2020-10-07T13:06:26.438838",
     "exception": false,
     "start_time": "2020-10-07T13:06:26.300237",
     "status": "completed"
    },
    "tags": []
   },
   "outputs": [],
   "source": [
    "mc[mc.cup_size.isnull()]"
   ]
  },
  {
   "cell_type": "code",
   "execution_count": null,
   "metadata": {
    "execution": {
     "iopub.execute_input": "2020-10-07T13:06:26.544517Z",
     "iopub.status.busy": "2020-10-07T13:06:26.544028Z",
     "iopub.status.idle": "2020-10-07T13:06:26.564793Z",
     "shell.execute_reply": "2020-10-07T13:06:26.564357Z"
    },
    "id": "mrSeGsq0sxJE",
    "papermill": {
     "duration": 0.07683,
     "end_time": "2020-10-07T13:06:26.564872",
     "exception": false,
     "start_time": "2020-10-07T13:06:26.488042",
     "status": "completed"
    },
    "tags": []
   },
   "outputs": [],
   "source": [
    "# drop the columns which are used for reference\n",
    "mc = mc.drop(['cup_size', 'cup_size_in_cms'], axis = 1)\n",
    "mc.reset_index(drop=True,  inplace=True)"
   ]
  },
  {
   "cell_type": "markdown",
   "metadata": {
    "id": "lkgbhUxNsxJE",
    "papermill": {
     "duration": 0.047982,
     "end_time": "2020-10-07T13:06:26.661074",
     "exception": false,
     "start_time": "2020-10-07T13:06:26.613092",
     "status": "completed"
    },
    "tags": []
   },
   "source": [
    "## Categorical data to Numeric using one-hot encoding"
   ]
  },
  {
   "cell_type": "markdown",
   "metadata": {
    "id": "n-DQrkdAsxJE",
    "papermill": {
     "duration": 0.04782,
     "end_time": "2020-10-07T13:06:26.757042",
     "exception": false,
     "start_time": "2020-10-07T13:06:26.709222",
     "status": "completed"
    },
    "tags": []
   },
   "source": [
    "> lets try to see the visualization for categorical data against the dependent feature fit\n"
   ]
  },
  {
   "cell_type": "code",
   "execution_count": null,
   "metadata": {
    "execution": {
     "iopub.execute_input": "2020-10-07T13:06:26.861596Z",
     "iopub.status.busy": "2020-10-07T13:06:26.860917Z",
     "iopub.status.idle": "2020-10-07T13:06:26.863671Z",
     "shell.execute_reply": "2020-10-07T13:06:26.863235Z"
    },
    "id": "AZC6dh3fsxJE",
    "papermill": {
     "duration": 0.058542,
     "end_time": "2020-10-07T13:06:26.863748",
     "exception": false,
     "start_time": "2020-10-07T13:06:26.805206",
     "status": "completed"
    },
    "tags": []
   },
   "outputs": [],
   "source": [
    "def countplot_wrt_target(indipendent_features, df):\n",
    "  plt.figure(figsize=(28, 10))\n",
    "  for loc, feature in enumerate(indipendent_features):\n",
    "    ax = plt.subplot(1, 3, loc+1)\n",
    "    ax.set_xlabel('{}'.format(feature), fontsize=10)\n",
    "    chart = sns.countplot(x=df[feature], hue=df.fit)\n",
    "    chart.set_xticklabels(chart.get_xticklabels(), rotation=90)\n",
    "  return None\n"
   ]
  },
  {
   "cell_type": "code",
   "execution_count": null,
   "metadata": {
    "execution": {
     "iopub.execute_input": "2020-10-07T13:06:26.977258Z",
     "iopub.status.busy": "2020-10-07T13:06:26.976566Z",
     "iopub.status.idle": "2020-10-07T13:06:28.037438Z",
     "shell.execute_reply": "2020-10-07T13:06:28.036931Z"
    },
    "id": "WlytbsXLsxJE",
    "papermill": {
     "duration": 1.124155,
     "end_time": "2020-10-07T13:06:28.037536",
     "exception": false,
     "start_time": "2020-10-07T13:06:26.913381",
     "status": "completed"
    },
    "tags": []
   },
   "outputs": [],
   "source": [
    "countplot_wrt_target(['category', 'length', 'quality'], mc)"
   ]
  },
  {
   "cell_type": "markdown",
   "metadata": {
    "id": "X2jQ81OCsxJE",
    "papermill": {
     "duration": 0.07125,
     "end_time": "2020-10-07T13:06:28.180349",
     "exception": false,
     "start_time": "2020-10-07T13:06:28.109099",
     "status": "completed"
    },
    "tags": []
   },
   "source": [
    "# feature shoe_width : used open source data to identify shoe width based on shoe size\n",
    "\n",
    "![image.png](attachment:image.png)\n",
    "\n",
    "Reference link : https://images-na.ssl-images-amazon.com/images/I/71u90X9oX3S.pdf"
   ]
  },
  {
   "cell_type": "code",
   "execution_count": null,
   "metadata": {
    "execution": {
     "iopub.execute_input": "2020-10-07T13:06:28.331282Z",
     "iopub.status.busy": "2020-10-07T13:06:28.330780Z",
     "iopub.status.idle": "2020-10-07T13:06:28.338122Z",
     "shell.execute_reply": "2020-10-07T13:06:28.337772Z"
    },
    "id": "nwYSHPe8sxJE",
    "papermill": {
     "duration": 0.086999,
     "end_time": "2020-10-07T13:06:28.338222",
     "exception": false,
     "start_time": "2020-10-07T13:06:28.251223",
     "status": "completed"
    },
    "tags": []
   },
   "outputs": [],
   "source": [
    "# fill NaN with average shoe width category (this is just an assumption)\n",
    "mc.shoe_width = mc.shoe_width.fillna('average')"
   ]
  },
  {
   "cell_type": "code",
   "execution_count": null,
   "metadata": {
    "execution": {
     "iopub.execute_input": "2020-10-07T13:06:28.463883Z",
     "iopub.status.busy": "2020-10-07T13:06:28.448452Z",
     "iopub.status.idle": "2020-10-07T13:06:28.807670Z",
     "shell.execute_reply": "2020-10-07T13:06:28.807259Z"
    },
    "id": "Ce1UU83-sxJF",
    "papermill": {
     "duration": 0.420654,
     "end_time": "2020-10-07T13:06:28.807750",
     "exception": false,
     "start_time": "2020-10-07T13:06:28.387096",
     "status": "completed"
    },
    "tags": []
   },
   "outputs": [],
   "source": [
    "# Use above chart to convert shoe width data such as 'wide','average','narrow' to inches\n",
    "mc['shoe_width_in_inches'] = np.where(((mc.shoe_size >= 5) & (mc.shoe_size < 5.5)) & (mc.shoe_width == 'narrow') , 2.81, \n",
    "np.where(((mc.shoe_size >= 5) & (mc.shoe_size < 5.5)) & (mc.shoe_width == 'average') , 3.19, \n",
    "np.where(((mc.shoe_size >= 5) & (mc.shoe_size < 5.5)) & (mc.shoe_width == 'wide') , 3.56,\n",
    "np.where(((mc.shoe_size >= 5.5) & (mc.shoe_size < 6)) & (mc.shoe_width == 'narrow') , 2.87, \n",
    "np.where(((mc.shoe_size >= 5.5) & (mc.shoe_size < 6)) & (mc.shoe_width == 'average') , 3.25, \n",
    "np.where(((mc.shoe_size >= 5.5) & (mc.shoe_size < 6)) & (mc.shoe_width == 'wide') , 3.62, \n",
    "np.where(((mc.shoe_size >= 6) & (mc.shoe_size < 6.5)) & (mc.shoe_width == 'narrow') , 2.94, \n",
    "np.where(((mc.shoe_size >= 6) & (mc.shoe_size < 6.5)) & (mc.shoe_width == 'average') , 3.31, \n",
    "np.where(((mc.shoe_size >= 6) & (mc.shoe_size < 6.5)) & (mc.shoe_width == 'wide') , 3.69,\n",
    "np.where(((mc.shoe_size >= 6.5) & (mc.shoe_size < 7)) & (mc.shoe_width == 'narrow') , 3, \n",
    "np.where(((mc.shoe_size >= 6.5) & (mc.shoe_size < 7)) & (mc.shoe_width == 'average') , 3.37, \n",
    "np.where(((mc.shoe_size >= 6.5) & (mc.shoe_size < 7)) & (mc.shoe_width == 'wide') , 3.75,\n",
    "np.where(((mc.shoe_size >= 7) & (mc.shoe_size < 7.5)) & (mc.shoe_width == 'narrow') , 3.06, \n",
    "np.where(((mc.shoe_size >= 7) & (mc.shoe_size < 7.5)) & (mc.shoe_width == 'average') , 3.44, \n",
    "np.where(((mc.shoe_size >= 7) & (mc.shoe_size < 7.5)) & (mc.shoe_width == 'wide') , 3.81, \n",
    "np.where(((mc.shoe_size >= 7.5) & (mc.shoe_size < 8)) & (mc.shoe_width == 'narrow') , 3.12, \n",
    "np.where(((mc.shoe_size >= 7.5) & (mc.shoe_size < 8)) & (mc.shoe_width == 'average') , 3.5, \n",
    "np.where(((mc.shoe_size >= 7.5) & (mc.shoe_size < 8)) & (mc.shoe_width == 'wide') , 3.87, \n",
    "np.where(((mc.shoe_size >= 8) & (mc.shoe_size < 8.5)) & (mc.shoe_width == 'narrow') , 3.19, \n",
    "np.where(((mc.shoe_size >= 8) & (mc.shoe_size < 8.5)) & (mc.shoe_width == 'average') , 3.56, \n",
    "np.where(((mc.shoe_size >= 8) & (mc.shoe_size < 8.5)) & (mc.shoe_width == 'wide') , 3.94, \n",
    "np.where(((mc.shoe_size >= 8.5) & (mc.shoe_size < 9)) & (mc.shoe_width == 'narrow') , 3.25, \n",
    "np.where(((mc.shoe_size >= 8.5) & (mc.shoe_size < 9)) & (mc.shoe_width == 'average') , 3.62, \n",
    "np.where(((mc.shoe_size >= 8.5) & (mc.shoe_size < 9)) & (mc.shoe_width == 'wide') , 4, \n",
    "np.where(((mc.shoe_size >= 9) & (mc.shoe_size < 9.5)) & (mc.shoe_width == 'narrow') , 3.37, \n",
    "np.where(((mc.shoe_size >= 9) & (mc.shoe_size < 9.5)) & (mc.shoe_width == 'average') , 3.69, \n",
    "np.where(((mc.shoe_size >= 9) & (mc.shoe_size < 9.5)) & (mc.shoe_width == 'wide') , 4.06, \n",
    "np.where(((mc.shoe_size >= 9.5) & (mc.shoe_size < 10)) & (mc.shoe_width == 'narrow') , 3.37, \n",
    "np.where(((mc.shoe_size >= 9.5) & (mc.shoe_size < 10)) & (mc.shoe_width == 'average') , 3.75, \n",
    "np.where(((mc.shoe_size >= 9.5) & (mc.shoe_size < 10)) & (mc.shoe_width == 'wide') , 4.12, \n",
    "np.where(((mc.shoe_size >= 10) & (mc.shoe_size < 10.5)) & (mc.shoe_width == 'narrow') , 3.44, \n",
    "np.where(((mc.shoe_size >= 10) & (mc.shoe_size < 10.5)) & (mc.shoe_width == 'average') , 3.75, \n",
    "np.where(((mc.shoe_size >= 10) & (mc.shoe_size < 10.5)) & (mc.shoe_width == 'wide') , 4.19, \n",
    "np.where(((mc.shoe_size >= 10.5) & (mc.shoe_size < 11)) & (mc.shoe_width == 'narrow') , 3.5, \n",
    "np.where(((mc.shoe_size >= 10.5) & (mc.shoe_size < 11)) & (mc.shoe_width == 'average') , 3.87, \n",
    "np.where(((mc.shoe_size >= 10.5) & (mc.shoe_size < 11)) & (mc.shoe_width == 'wide') , 4.19, \n",
    "np.where(((mc.shoe_size >= 11) & (mc.shoe_size < 12)) & (mc.shoe_width == 'narrow') , 3.56, \n",
    "np.where(((mc.shoe_size >= 11) & (mc.shoe_size < 12)) & (mc.shoe_width == 'average') , 3.94, \n",
    "np.where(((mc.shoe_size >= 11) & (mc.shoe_size < 12)) & (mc.shoe_width == 'wide') , 4.19,\n",
    "np.nan)))))))))))))))))))))))))))))))))))))))"
   ]
  },
  {
   "cell_type": "code",
   "execution_count": null,
   "metadata": {
    "execution": {
     "iopub.execute_input": "2020-10-07T13:06:28.915222Z",
     "iopub.status.busy": "2020-10-07T13:06:28.914749Z",
     "iopub.status.idle": "2020-10-07T13:06:28.938355Z",
     "shell.execute_reply": "2020-10-07T13:06:28.937820Z"
    },
    "id": "n67G9iCqsxJF",
    "papermill": {
     "duration": 0.076844,
     "end_time": "2020-10-07T13:06:28.938463",
     "exception": false,
     "start_time": "2020-10-07T13:06:28.861619",
     "status": "completed"
    },
    "tags": []
   },
   "outputs": [],
   "source": [
    "# drop the refrence colum shoe_width\n",
    "mc.drop(['shoe_width'], axis=1, inplace=True)"
   ]
  },
  {
   "cell_type": "markdown",
   "metadata": {
    "id": "R4qWL5vssxJF",
    "papermill": {
     "duration": 0.072428,
     "end_time": "2020-10-07T13:06:29.081892",
     "exception": false,
     "start_time": "2020-10-07T13:06:29.009464",
     "status": "completed"
    },
    "tags": []
   },
   "source": [
    "# Applied one-hot encoding for the features length & category "
   ]
  },
  {
   "cell_type": "markdown",
   "metadata": {
    "id": "xpj23rN9sxJF",
    "papermill": {
     "duration": 0.071255,
     "end_time": "2020-10-07T13:06:29.230869",
     "exception": false,
     "start_time": "2020-10-07T13:06:29.159614",
     "status": "completed"
    },
    "tags": []
   },
   "source": [
    "> when we dont find any ascending/descending order between the category values one way to overcome this problem is \"by using one hot encoding\".\n",
    "\n",
    "> \n"
   ]
  },
  {
   "cell_type": "code",
   "execution_count": null,
   "metadata": {
    "execution": {
     "iopub.execute_input": "2020-10-07T13:06:29.389710Z",
     "iopub.status.busy": "2020-10-07T13:06:29.387720Z",
     "iopub.status.idle": "2020-10-07T13:06:29.396477Z",
     "shell.execute_reply": "2020-10-07T13:06:29.396046Z"
    },
    "id": "NQuouTp-sxJF",
    "papermill": {
     "duration": 0.094769,
     "end_time": "2020-10-07T13:06:29.396560",
     "exception": false,
     "start_time": "2020-10-07T13:06:29.301791",
     "status": "completed"
    },
    "tags": []
   },
   "outputs": [],
   "source": [
    "# lets replace NaN values with unknown for the feature length\n",
    "mc.length = mc.length.fillna('unknown')"
   ]
  },
  {
   "cell_type": "code",
   "execution_count": null,
   "metadata": {
    "execution": {
     "iopub.execute_input": "2020-10-07T13:06:29.518815Z",
     "iopub.status.busy": "2020-10-07T13:06:29.505261Z",
     "iopub.status.idle": "2020-10-07T13:06:29.700826Z",
     "shell.execute_reply": "2020-10-07T13:06:29.700439Z"
    },
    "id": "bfJzy8rFsxJF",
    "papermill": {
     "duration": 0.25441,
     "end_time": "2020-10-07T13:06:29.700910",
     "exception": false,
     "start_time": "2020-10-07T13:06:29.446500",
     "status": "completed"
    },
    "tags": []
   },
   "outputs": [],
   "source": [
    "# apply one hot encoding using dummies\n",
    "\n",
    "length_dummies  = pd.get_dummies(mc['length'])\n",
    "length_dummies.columns = ['just_right','slightly_long','very_short','slightly_short','very_long', 'length_unkown']\n",
    "\n",
    "category_dummies  = pd.get_dummies(mc['category'])\n",
    "category_dummies.columns = ['new','dresses','wedding','sale','tops', 'bottoms','outerwear']\n",
    "\n",
    "model_input_df = pd.concat([mc, length_dummies,category_dummies], axis = 1)\n",
    "model_input_df.drop(['length'], axis=1, inplace=True)\n",
    "model_input_df.drop(['category'], axis=1, inplace=True)\n",
    "\n",
    "# target variable \n",
    "fit = {'small':0, 'fit':1, 'large':2}\n",
    "model_input_df['fit'] = model_input_df['fit'].map(fit)\n"
   ]
  },
  {
   "cell_type": "code",
   "execution_count": null,
   "metadata": {
    "execution": {
     "iopub.execute_input": "2020-10-07T13:06:29.805178Z",
     "iopub.status.busy": "2020-10-07T13:06:29.804733Z",
     "iopub.status.idle": "2020-10-07T13:06:29.848307Z",
     "shell.execute_reply": "2020-10-07T13:06:29.847936Z"
    },
    "id": "og21gKO5sxJF",
    "papermill": {
     "duration": 0.097724,
     "end_time": "2020-10-07T13:06:29.848380",
     "exception": false,
     "start_time": "2020-10-07T13:06:29.750656",
     "status": "completed"
    },
    "tags": []
   },
   "outputs": [],
   "source": [
    "# since there is no value add to the features like item_id , user_id and user_name\n",
    "\n",
    "model_input_df.drop(['item_id'], axis=1, inplace=True)\n",
    "\n",
    "model_input_df.drop(['user_id'], axis=1, inplace=True)\n",
    "\n",
    "model_input_df.drop(['user_name'], axis=1, inplace=True)\n",
    "model_input_df.head()"
   ]
  }
 ],
 "metadata": {
  "colab": {
   "name": "Kopia av Data-precossesing modcloth.ipynb",
   "provenance": []
  },
  "kernelspec": {
   "display_name": "Python 3",
   "language": "python",
   "name": "python3"
  },
  "language_info": {
   "codemirror_mode": {
    "name": "ipython",
    "version": 3
   },
   "file_extension": ".py",
   "mimetype": "text/x-python",
   "name": "python",
   "nbconvert_exporter": "python",
   "pygments_lexer": "ipython3",
   "version": "3.7.4"
  },
  "papermill": {
   "duration": 285.198038,
   "end_time": "2020-10-07T13:06:30.207600",
   "environment_variables": {},
   "exception": null,
   "input_path": "__notebook__.ipynb",
   "output_path": "__notebook__.ipynb",
   "parameters": {},
   "start_time": "2020-10-07T13:01:45.009562",
   "version": "2.1.0"
  }
 },
 "nbformat": 4,
 "nbformat_minor": 4
}
