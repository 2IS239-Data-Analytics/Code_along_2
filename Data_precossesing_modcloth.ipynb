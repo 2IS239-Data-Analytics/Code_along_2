{
  "nbformat": 4,
  "nbformat_minor": 0,
  "metadata": {
    "kernelspec": {
      "display_name": "Python 3",
      "language": "python",
      "name": "python3"
    },
    "language_info": {
      "codemirror_mode": {
        "name": "ipython",
        "version": 3
      },
      "file_extension": ".py",
      "mimetype": "text/x-python",
      "name": "python",
      "nbconvert_exporter": "python",
      "pygments_lexer": "ipython3",
      "version": "3.7.6"
    },
    "papermill": {
      "duration": 285.198038,
      "end_time": "2020-10-07T13:06:30.207600",
      "environment_variables": {},
      "exception": null,
      "input_path": "__notebook__.ipynb",
      "output_path": "__notebook__.ipynb",
      "parameters": {},
      "start_time": "2020-10-07T13:01:45.009562",
      "version": "2.1.0"
    },
    "colab": {
      "name": "Kopia av Data-precossesing modcloth.ipynb",
      "provenance": []
    }
  },
  "cells": [
    {
      "cell_type": "markdown",
      "metadata": {
        "id": "zfDcmTIqtf8j"
      },
      "source": [
        "# Pre-processing examples on modcloth dataset\n",
        "\n",
        "### Attribution: Soujanya G, Kaggle\n",
        "\n",
        "The notebook was released under the [Apache 2.0](http://www.apache.org/licenses/LICENSE-2.0) open source license."
      ]
    },
    {
      "cell_type": "markdown",
      "metadata": {
        "papermill": {
          "duration": 0.03365,
          "end_time": "2020-10-07T13:01:49.380394",
          "exception": false,
          "start_time": "2020-10-07T13:01:49.346744",
          "status": "completed"
        },
        "tags": [],
        "id": "_b_falCzsxI3"
      },
      "source": [
        "# **About the dataset**\n",
        "\n",
        "In this notebook, we will use modcloth_final_data.json as input dataset"
      ]
    },
    {
      "cell_type": "code",
      "metadata": {
        "execution": {
          "iopub.execute_input": "2020-10-07T13:01:49.453033Z",
          "iopub.status.busy": "2020-10-07T13:01:49.452557Z",
          "iopub.status.idle": "2020-10-07T13:01:50.652666Z",
          "shell.execute_reply": "2020-10-07T13:01:50.652212Z"
        },
        "papermill": {
          "duration": 1.23869,
          "end_time": "2020-10-07T13:01:50.652746",
          "exception": false,
          "start_time": "2020-10-07T13:01:49.414056",
          "status": "completed"
        },
        "tags": [],
        "id": "psZFn_WLsxI3"
      },
      "source": [
        "# import necessary libraries\n",
        "\n",
        "# File read and EDA(Data Cleansing & Transformations)\n",
        "import numpy as np  \n",
        "import pandas as pd \n",
        "\n",
        "# EDA Visualization\n",
        "import matplotlib.pyplot as plt\n",
        "import seaborn as sns"
      ],
      "execution_count": null,
      "outputs": []
    },
    {
      "cell_type": "markdown",
      "metadata": {
        "id": "XD_u28pnuGP_"
      },
      "source": [
        "## Mounting gDrive"
      ]
    },
    {
      "cell_type": "code",
      "metadata": {
        "id": "tjrT33QduFiX"
      },
      "source": [
        "#Mounting gDrive in Colaboratory\n",
        "try:\n",
        "    from google.colab import drive\n",
        "    drive.mount(\"/content/drive/\", force_remount=True)\n",
        "    google_drive_prefix = \"/content/drive/My Drive\"\n",
        "    data_prefix = \"{}/mnist/\".format(google_drive_prefix)\n",
        "except ModuleNotFoundError: \n",
        "    data_prefix = \"data/\""
      ],
      "execution_count": null,
      "outputs": []
    },
    {
      "cell_type": "code",
      "metadata": {
        "id": "hK0Nd6qWuY7M"
      },
      "source": [
        "#Change directory to my folder for analytics labs where I have cloned my gitHub repositories with magic command.\n",
        "\n",
        "%cd drive/My Drive/Data_analytics_lab"
      ],
      "execution_count": null,
      "outputs": []
    },
    {
      "cell_type": "markdown",
      "metadata": {
        "papermill": {
          "duration": 0.034773,
          "end_time": "2020-10-07T13:01:50.722822",
          "exception": false,
          "start_time": "2020-10-07T13:01:50.688049",
          "status": "completed"
        },
        "tags": [],
        "id": "ekMls2ZmsxI3"
      },
      "source": [
        "# Read input json data"
      ]
    },
    {
      "cell_type": "code",
      "metadata": {
        "execution": {
          "iopub.execute_input": "2020-10-07T13:01:50.797813Z",
          "iopub.status.busy": "2020-10-07T13:01:50.797219Z",
          "iopub.status.idle": "2020-10-07T13:01:52.279869Z",
          "shell.execute_reply": "2020-10-07T13:01:52.279388Z"
        },
        "papermill": {
          "duration": 1.522854,
          "end_time": "2020-10-07T13:01:52.279963",
          "exception": false,
          "start_time": "2020-10-07T13:01:50.757109",
          "status": "completed"
        },
        "tags": [],
        "id": "cVHvyXpFsxI3"
      },
      "source": [
        "#Read file and view first ten rows\n",
        "mc_data= pd.read_json(\"/content/drive/MyDrive/Data_analytics_lab/Laboration_2/Data/modcloth_final_data.json\", lines=True)\n",
        "mc_data.head() # displays first 5 records in the dataframe"
      ],
      "execution_count": null,
      "outputs": []
    },
    {
      "cell_type": "markdown",
      "metadata": {
        "papermill": {
          "duration": 0.050436,
          "end_time": "2020-10-07T13:01:52.381097",
          "exception": false,
          "start_time": "2020-10-07T13:01:52.330661",
          "status": "completed"
        },
        "tags": [],
        "id": "rT0bM85GsxI4"
      },
      "source": [
        "## EDA - Exploratory Data Analysis"
      ]
    },
    {
      "cell_type": "markdown",
      "metadata": {
        "papermill": {
          "duration": 0.049735,
          "end_time": "2020-10-07T13:01:52.481036",
          "exception": false,
          "start_time": "2020-10-07T13:01:52.431301",
          "status": "completed"
        },
        "tags": [],
        "id": "nmtChSFRsxI4"
      },
      "source": [
        "# Column names are inconsistent\n",
        "Some of the column names are having space and rest of them are having underscore in between them. Hence try to be consistent by adding underscore instead of space\n",
        "\n",
        "> for your information, size is the keyword in pandas , make sure to change the feature name \"size\" to some user defined name like \"mc_size\"\n",
        "https://pandas.pydata.org/pandas-docs/stable/reference/api/pandas.DataFrame.size.html"
      ]
    },
    {
      "cell_type": "code",
      "metadata": {
        "execution": {
          "iopub.execute_input": "2020-10-07T13:01:52.584252Z",
          "iopub.status.busy": "2020-10-07T13:01:52.583668Z",
          "iopub.status.idle": "2020-10-07T13:01:52.586540Z",
          "shell.execute_reply": "2020-10-07T13:01:52.586052Z"
        },
        "papermill": {
          "duration": 0.053752,
          "end_time": "2020-10-07T13:01:52.586622",
          "exception": false,
          "start_time": "2020-10-07T13:01:52.532870",
          "status": "completed"
        },
        "tags": [],
        "id": "QmpOm7FdsxI4"
      },
      "source": [
        "mc_data.columns = ['item_id', 'waist', 'mc_size', 'quality', 'cup_size', 'hips', 'bra_size', 'category', 'bust', 'height', 'user_name', 'length', 'fit', 'user_id', 'shoe_size', 'shoe_width', 'review_summary', 'review_test']"
      ],
      "execution_count": null,
      "outputs": []
    },
    {
      "cell_type": "markdown",
      "metadata": {
        "papermill": {
          "duration": 0.034055,
          "end_time": "2020-10-07T13:01:52.655611",
          "exception": false,
          "start_time": "2020-10-07T13:01:52.621556",
          "status": "completed"
        },
        "tags": [],
        "id": "2tufuE6WsxI5"
      },
      "source": [
        "> see the total number of observations, column names and datatypes info "
      ]
    },
    {
      "cell_type": "code",
      "metadata": {
        "execution": {
          "iopub.execute_input": "2020-10-07T13:01:52.729128Z",
          "iopub.status.busy": "2020-10-07T13:01:52.728690Z",
          "iopub.status.idle": "2020-10-07T13:01:52.826207Z",
          "shell.execute_reply": "2020-10-07T13:01:52.825797Z"
        },
        "papermill": {
          "duration": 0.136337,
          "end_time": "2020-10-07T13:01:52.826289",
          "exception": false,
          "start_time": "2020-10-07T13:01:52.689952",
          "status": "completed"
        },
        "tags": [],
        "id": "zMBJT6NRsxI5"
      },
      "source": [
        "mc_data.info()"
      ],
      "execution_count": null,
      "outputs": []
    },
    {
      "cell_type": "markdown",
      "metadata": {
        "papermill": {
          "duration": 0.034869,
          "end_time": "2020-10-07T13:01:52.896385",
          "exception": false,
          "start_time": "2020-10-07T13:01:52.861516",
          "status": "completed"
        },
        "tags": [],
        "id": "26PMR8C4sxI5"
      },
      "source": [
        "# Sparse Data\n",
        "\n",
        "Given data is having lot of missing values , for example look at the columns such as shoe_size and show_width.\n",
        "\n",
        "> lets check the missing values percentage for each feature"
      ]
    },
    {
      "cell_type": "code",
      "metadata": {
        "execution": {
          "iopub.execute_input": "2020-10-07T13:01:52.973065Z",
          "iopub.status.busy": "2020-10-07T13:01:52.972653Z",
          "iopub.status.idle": "2020-10-07T13:01:53.115325Z",
          "shell.execute_reply": "2020-10-07T13:01:53.114946Z"
        },
        "papermill": {
          "duration": 0.183048,
          "end_time": "2020-10-07T13:01:53.115403",
          "exception": false,
          "start_time": "2020-10-07T13:01:52.932355",
          "status": "completed"
        },
        "tags": [],
        "id": "4Ui9o69DsxI5"
      },
      "source": [
        "missing_data_sum = mc_data.isnull().sum()\n",
        "missing_data = pd.DataFrame({'total_missing_values': missing_data_sum,'percentage_of_missing_values': (missing_data_sum/mc_data.shape[0])*100})\n",
        "missing_data"
      ],
      "execution_count": null,
      "outputs": []
    },
    {
      "cell_type": "markdown",
      "metadata": {
        "papermill": {
          "duration": 0.034981,
          "end_time": "2020-10-07T13:01:53.185402",
          "exception": false,
          "start_time": "2020-10-07T13:01:53.150421",
          "status": "completed"
        },
        "tags": [],
        "id": "GmJ3IVcIsxI6"
      },
      "source": [
        "*Out of 18 columns, only 6 columns have complete data. And columns such as waist , bust, shoe_size, show_width and hips are highly sparse*"
      ]
    },
    {
      "cell_type": "markdown",
      "metadata": {
        "papermill": {
          "duration": 0.034739,
          "end_time": "2020-10-07T13:01:53.255064",
          "exception": false,
          "start_time": "2020-10-07T13:01:53.220325",
          "status": "completed"
        },
        "tags": [],
        "id": "1jdjY6RXsxI6"
      },
      "source": [
        "> Check Data types which are having numerical/categorical data"
      ]
    },
    {
      "cell_type": "code",
      "metadata": {
        "execution": {
          "iopub.execute_input": "2020-10-07T13:01:53.330902Z",
          "iopub.status.busy": "2020-10-07T13:01:53.330335Z",
          "iopub.status.idle": "2020-10-07T13:01:53.334444Z",
          "shell.execute_reply": "2020-10-07T13:01:53.333950Z"
        },
        "papermill": {
          "duration": 0.044227,
          "end_time": "2020-10-07T13:01:53.334514",
          "exception": false,
          "start_time": "2020-10-07T13:01:53.290287",
          "status": "completed"
        },
        "tags": [],
        "id": "Eu4_BkshsxI6"
      },
      "source": [
        "mc_data.dtypes"
      ],
      "execution_count": null,
      "outputs": []
    },
    {
      "cell_type": "markdown",
      "metadata": {
        "papermill": {
          "duration": 0.036486,
          "end_time": "2020-10-07T13:01:53.406680",
          "exception": false,
          "start_time": "2020-10-07T13:01:53.370194",
          "status": "completed"
        },
        "tags": [],
        "id": "hWLmj3tLsxI6"
      },
      "source": [
        "*pandas library identifies item_id, waist, mc_size, quality, hips, bra_size, user_id, shoe_size are numeric And cup_size, category, bust, height, user_name, length, fit, shoe_width, review_summary , review_test are object type . Take away from this is \"There are some numeric data columns are fall under Object types\" . Hence we need to handle the misclassification of these data types. For example, bust data contains numeric values but its dtype is Object.*"
      ]
    },
    {
      "cell_type": "markdown",
      "metadata": {
        "papermill": {
          "duration": 0.035696,
          "end_time": "2020-10-07T13:01:53.478268",
          "exception": false,
          "start_time": "2020-10-07T13:01:53.442572",
          "status": "completed"
        },
        "tags": [],
        "id": "IT69P8BOsxI7"
      },
      "source": [
        "# Unique number of observations for each feature"
      ]
    },
    {
      "cell_type": "markdown",
      "metadata": {
        "papermill": {
          "duration": 0.036718,
          "end_time": "2020-10-07T13:01:53.550334",
          "exception": false,
          "start_time": "2020-10-07T13:01:53.513616",
          "status": "completed"
        },
        "tags": [],
        "id": "12cwMjaasxI7"
      },
      "source": [
        "> If the dataset is having less number of observations then we can see the unique data that resides in each feature(There are 82790 observations)"
      ]
    },
    {
      "cell_type": "code",
      "metadata": {
        "execution": {
          "iopub.execute_input": "2020-10-07T13:01:53.625092Z",
          "iopub.status.busy": "2020-10-07T13:01:53.624675Z",
          "iopub.status.idle": "2020-10-07T13:01:53.805886Z",
          "shell.execute_reply": "2020-10-07T13:01:53.806237Z"
        },
        "papermill": {
          "duration": 0.220401,
          "end_time": "2020-10-07T13:01:53.806347",
          "exception": false,
          "start_time": "2020-10-07T13:01:53.585946",
          "status": "completed"
        },
        "tags": [],
        "id": "YCk1qC9osxI7"
      },
      "source": [
        "mc_data.nunique()"
      ],
      "execution_count": null,
      "outputs": []
    },
    {
      "cell_type": "markdown",
      "metadata": {
        "papermill": {
          "duration": 0.036537,
          "end_time": "2020-10-07T13:01:53.880003",
          "exception": false,
          "start_time": "2020-10-07T13:01:53.843466",
          "status": "completed"
        },
        "tags": [],
        "id": "MTpmVe7ksxI7"
      },
      "source": [
        "*With this, we can clearly understand there is no unique data entirely for one feature to make the index if any.\n",
        "And just to make a note the columns item_id and user_id are repeating.*"
      ]
    },
    {
      "cell_type": "markdown",
      "metadata": {
        "papermill": {
          "duration": 0.036336,
          "end_time": "2020-10-07T13:01:53.952864",
          "exception": false,
          "start_time": "2020-10-07T13:01:53.916528",
          "status": "completed"
        },
        "tags": [],
        "id": "rb9o0xLjsxI7"
      },
      "source": [
        "> Lets look into unique observations which are having less uniqueness"
      ]
    },
    {
      "cell_type": "code",
      "metadata": {
        "execution": {
          "iopub.execute_input": "2020-10-07T13:01:54.032567Z",
          "iopub.status.busy": "2020-10-07T13:01:54.031985Z",
          "iopub.status.idle": "2020-10-07T13:01:54.035360Z",
          "shell.execute_reply": "2020-10-07T13:01:54.034829Z"
        },
        "papermill": {
          "duration": 0.045479,
          "end_time": "2020-10-07T13:01:54.035455",
          "exception": false,
          "start_time": "2020-10-07T13:01:53.989976",
          "status": "completed"
        },
        "tags": [],
        "id": "yU9ngyJDsxI8"
      },
      "source": [
        "def countplot(indipendent_features):\n",
        "  plt.figure(figsize=(25, 25))\n",
        "  for loc, feature in enumerate(indipendent_features):\n",
        "    ax = plt.subplot(3, 4, loc+1)\n",
        "    ax.set_xlabel('{}'.format(feature), fontsize=10)\n",
        "    chart = sns.countplot(mc_data[feature])\n",
        "    chart.set_xticklabels(chart.get_xticklabels(), rotation=90)\n",
        "  return None"
      ],
      "execution_count": null,
      "outputs": []
    },
    {
      "cell_type": "code",
      "metadata": {
        "execution": {
          "iopub.execute_input": "2020-10-07T13:01:54.146851Z",
          "iopub.status.busy": "2020-10-07T13:01:54.146293Z",
          "iopub.status.idle": "2020-10-07T13:01:56.170057Z",
          "shell.execute_reply": "2020-10-07T13:01:56.169475Z"
        },
        "papermill": {
          "duration": 2.080919,
          "end_time": "2020-10-07T13:01:56.170181",
          "exception": false,
          "start_time": "2020-10-07T13:01:54.089262",
          "status": "completed"
        },
        "tags": [],
        "id": "ZyjITizHsxI8"
      },
      "source": [
        "uniques_data = ['quality', 'cup_size', 'bra_size', 'category', 'length', 'fit',  'shoe_size', 'shoe_width', 'height', 'bust', 'mc_size']\n",
        "countplot(uniques_data)"
      ],
      "execution_count": null,
      "outputs": []
    },
    {
      "cell_type": "markdown",
      "metadata": {
        "papermill": {
          "duration": 0.055171,
          "end_time": "2020-10-07T13:01:56.281008",
          "exception": false,
          "start_time": "2020-10-07T13:01:56.225837",
          "status": "completed"
        },
        "tags": [],
        "id": "nCM02xHZsxI8"
      },
      "source": [
        "*Few observations*\n",
        "* cup_size contains some format which might represents the measurement\n",
        "* shoe_size 38 is an outlier , there we can see lot of variance \n",
        "* height column also having few outliers (May be we can see those things after converting categorical data into numeric values)\n",
        "* there are categorical data exists such as shoe_width, category, length, fit and height. \n",
        "* For the feature bust - clearly there is one observation with different data, hence we need to format it i.e \"37 - 39\". Will try to replace this value with mean\n"
      ]
    },
    {
      "cell_type": "code",
      "metadata": {
        "execution": {
          "iopub.execute_input": "2020-10-07T13:01:56.402556Z",
          "iopub.status.busy": "2020-10-07T13:01:56.401916Z",
          "iopub.status.idle": "2020-10-07T13:01:56.405886Z",
          "shell.execute_reply": "2020-10-07T13:01:56.405441Z"
        },
        "papermill": {
          "duration": 0.070394,
          "end_time": "2020-10-07T13:01:56.405966",
          "exception": false,
          "start_time": "2020-10-07T13:01:56.335572",
          "status": "completed"
        },
        "tags": [],
        "id": "5nXl92ETsxI8"
      },
      "source": [
        "# replacing bust unformatted value with mean 38 which is taken from the values 37 & 39 \n",
        "mc_data.at[mc_data[mc_data.bust == '37-39'].index[0],'bust'] = '38'"
      ],
      "execution_count": null,
      "outputs": []
    },
    {
      "cell_type": "markdown",
      "metadata": {
        "papermill": {
          "duration": 0.037623,
          "end_time": "2020-10-07T13:01:56.482203",
          "exception": false,
          "start_time": "2020-10-07T13:01:56.444580",
          "status": "completed"
        },
        "tags": [],
        "id": "WzlIbH56sxI8"
      },
      "source": [
        "# Height feature - Convert US units to Metric units (ft & in to cm)."
      ]
    },
    {
      "cell_type": "code",
      "metadata": {
        "execution": {
          "iopub.execute_input": "2020-10-07T13:01:56.596706Z",
          "iopub.status.busy": "2020-10-07T13:01:56.595856Z",
          "iopub.status.idle": "2020-10-07T13:01:56.881464Z",
          "shell.execute_reply": "2020-10-07T13:01:56.880972Z"
        },
        "papermill": {
          "duration": 0.361257,
          "end_time": "2020-10-07T13:01:56.881541",
          "exception": false,
          "start_time": "2020-10-07T13:01:56.520284",
          "status": "completed"
        },
        "tags": [],
        "id": "2S8GUZopsxI9"
      },
      "source": [
        "def height_in_cms(ht):\n",
        "  if ht.lower() != 'nan':\n",
        "    ht = ht.replace('ft','').replace('in', '')\n",
        "    h_ft = int(ht.split()[0])\n",
        "    if len(ht.split()) > 1:\n",
        "      h_inch = int(ht.split()[1])\n",
        "    else:\n",
        "      h_inch = 0\n",
        "    h_inch += h_ft * 12\n",
        "    h_cm = round(h_inch * 2.54, 1)\n",
        "    return h_cm\n",
        "\n",
        "mc_data.height = mc_data.height.astype(str).apply(height_in_cms)\n",
        "mc_data.head()"
      ],
      "execution_count": null,
      "outputs": []
    },
    {
      "cell_type": "markdown",
      "metadata": {
        "papermill": {
          "duration": 0.038316,
          "end_time": "2020-10-07T13:01:56.958670",
          "exception": false,
          "start_time": "2020-10-07T13:01:56.920354",
          "status": "completed"
        },
        "tags": [],
        "id": "YK4csn9asxI9"
      },
      "source": [
        "> we successfully converted metrics to centimetres. Now lets handle the missing values with mean imputation and then look into the outliers for this height feature. Use box/scatter plot for outliers visualization"
      ]
    },
    {
      "cell_type": "code",
      "metadata": {
        "execution": {
          "iopub.execute_input": "2020-10-07T13:01:57.043589Z",
          "iopub.status.busy": "2020-10-07T13:01:57.043102Z",
          "iopub.status.idle": "2020-10-07T13:01:57.049132Z",
          "shell.execute_reply": "2020-10-07T13:01:57.049556Z"
        },
        "papermill": {
          "duration": 0.050139,
          "end_time": "2020-10-07T13:01:57.049667",
          "exception": false,
          "start_time": "2020-10-07T13:01:56.999528",
          "status": "completed"
        },
        "tags": [],
        "id": "6SbMrdWfsxI9"
      },
      "source": [
        "mc_data.height.fillna(value=mc_data.height.mean(), inplace=True)\n",
        "mc_data.height.isnull().sum()"
      ],
      "execution_count": null,
      "outputs": []
    },
    {
      "cell_type": "code",
      "metadata": {
        "execution": {
          "iopub.execute_input": "2020-10-07T13:01:57.143061Z",
          "iopub.status.busy": "2020-10-07T13:01:57.142619Z",
          "iopub.status.idle": "2020-10-07T13:01:57.244078Z",
          "shell.execute_reply": "2020-10-07T13:01:57.243691Z"
        },
        "papermill": {
          "duration": 0.154647,
          "end_time": "2020-10-07T13:01:57.244188",
          "exception": false,
          "start_time": "2020-10-07T13:01:57.089541",
          "status": "completed"
        },
        "tags": [],
        "id": "Fv5KxtrKsxI-"
      },
      "source": [
        "def plot_outlier(feature):\n",
        "  plt.figure(figsize=(25, 6))\n",
        "  ax = sns.boxplot(x=feature, linewidth=2.5)\n",
        "plot_outlier(mc_data.height)"
      ],
      "execution_count": null,
      "outputs": []
    },
    {
      "cell_type": "markdown",
      "metadata": {
        "papermill": {
          "duration": 0.038802,
          "end_time": "2020-10-07T13:01:57.322282",
          "exception": false,
          "start_time": "2020-10-07T13:01:57.283480",
          "status": "completed"
        },
        "tags": [],
        "id": "m6wi1uMUsxI-"
      },
      "source": [
        "> Check the lower and upper cutoff range values for the outliers"
      ]
    },
    {
      "cell_type": "code",
      "metadata": {
        "execution": {
          "iopub.execute_input": "2020-10-07T13:01:57.405959Z",
          "iopub.status.busy": "2020-10-07T13:01:57.405488Z",
          "iopub.status.idle": "2020-10-07T13:01:57.407924Z",
          "shell.execute_reply": "2020-10-07T13:01:57.407472Z"
        },
        "papermill": {
          "duration": 0.046529,
          "end_time": "2020-10-07T13:01:57.408002",
          "exception": false,
          "start_time": "2020-10-07T13:01:57.361473",
          "status": "completed"
        },
        "tags": [],
        "id": "em-I_ABCsxI-"
      },
      "source": [
        "def get_outliers_range(datacolumn):\n",
        "  sorted(datacolumn)\n",
        "  Q1,Q3 = np.percentile(datacolumn , [25,75])\n",
        "  IQR = Q3 - Q1\n",
        "  lower_range = Q1 - (1.5 * IQR)\n",
        "  upper_range = Q3 + (1.5 * IQR)\n",
        "  return lower_range,upper_range"
      ],
      "execution_count": null,
      "outputs": []
    },
    {
      "cell_type": "code",
      "metadata": {
        "execution": {
          "iopub.execute_input": "2020-10-07T13:01:57.508897Z",
          "iopub.status.busy": "2020-10-07T13:01:57.508458Z",
          "iopub.status.idle": "2020-10-07T13:01:57.514671Z",
          "shell.execute_reply": "2020-10-07T13:01:57.514304Z"
        },
        "papermill": {
          "duration": 0.066125,
          "end_time": "2020-10-07T13:01:57.514753",
          "exception": false,
          "start_time": "2020-10-07T13:01:57.448628",
          "status": "completed"
        },
        "tags": [],
        "id": "K5eTw2N6sxI-"
      },
      "source": [
        "\n",
        "ht_lower_range,ht_upper_range = get_outliers_range(mc_data.height)\n",
        "ht_lower_range,ht_upper_range"
      ],
      "execution_count": null,
      "outputs": []
    },
    {
      "cell_type": "markdown",
      "metadata": {
        "papermill": {
          "duration": 0.040367,
          "end_time": "2020-10-07T13:01:57.596233",
          "exception": false,
          "start_time": "2020-10-07T13:01:57.555866",
          "status": "completed"
        },
        "tags": [],
        "id": "GU7ZLNY1sxI-"
      },
      "source": [
        "> Take away \"there are so many outliers\" exists. Here I have used Inter Quartile Range calculation to find the lower range and upper range cutoff. \n",
        "So the outlier would be anything less than the lower range cutoff(144.7) or anything more than the upper range cutoff(185.5) is an outlier.  \\\n",
        "\n",
        "Note: there are different techniques to identify the outliers \n",
        "Please check out this link for more details on this\n",
        "https://statisticsbyjim.com/basics/outliers/\n"
      ]
    },
    {
      "cell_type": "markdown",
      "metadata": {
        "papermill": {
          "duration": 0.040198,
          "end_time": "2020-10-07T13:01:57.677007",
          "exception": false,
          "start_time": "2020-10-07T13:01:57.636809",
          "status": "completed"
        },
        "tags": [],
        "id": "zUYtGKVzsxI_"
      },
      "source": [
        "> Lets count how many outliers exists for this height feature\n"
      ]
    },
    {
      "cell_type": "code",
      "metadata": {
        "execution": {
          "iopub.execute_input": "2020-10-07T13:01:57.794049Z",
          "iopub.status.busy": "2020-10-07T13:01:57.792296Z",
          "iopub.status.idle": "2020-10-07T13:01:57.821910Z",
          "shell.execute_reply": "2020-10-07T13:01:57.821551Z"
        },
        "papermill": {
          "duration": 0.104176,
          "end_time": "2020-10-07T13:01:57.821988",
          "exception": false,
          "start_time": "2020-10-07T13:01:57.717812",
          "status": "completed"
        },
        "tags": [],
        "id": "w7LiRuyCsxI_"
      },
      "source": [
        "mc_data[(mc_data.height < ht_lower_range) | (mc_data.height > ht_upper_range)]"
      ],
      "execution_count": null,
      "outputs": []
    },
    {
      "cell_type": "markdown",
      "metadata": {
        "papermill": {
          "duration": 0.042027,
          "end_time": "2020-10-07T13:01:57.905016",
          "exception": false,
          "start_time": "2020-10-07T13:01:57.862989",
          "status": "completed"
        },
        "tags": [],
        "id": "CfBn4vObsxI_"
      },
      "source": [
        "> Take Away \"There are 199 outliers\". which is 0.2% of total number observations. Hence we can remove/drop/delete these outliers"
      ]
    },
    {
      "cell_type": "code",
      "metadata": {
        "execution": {
          "iopub.execute_input": "2020-10-07T13:01:57.994768Z",
          "iopub.status.busy": "2020-10-07T13:01:57.994328Z",
          "iopub.status.idle": "2020-10-07T13:01:58.019471Z",
          "shell.execute_reply": "2020-10-07T13:01:58.019057Z"
        },
        "papermill": {
          "duration": 0.072994,
          "end_time": "2020-10-07T13:01:58.019553",
          "exception": false,
          "start_time": "2020-10-07T13:01:57.946559",
          "status": "completed"
        },
        "tags": [],
        "id": "NI7gQoVfsxI_"
      },
      "source": [
        "mc_df = mc_data.drop(mc_data[(mc_data.height < ht_lower_range) | (mc_data.height > ht_upper_range)].index)\n",
        "\n",
        "mc_df.reset_index(drop=True, inplace=True)\n",
        "mc_df.shape"
      ],
      "execution_count": null,
      "outputs": []
    },
    {
      "cell_type": "markdown",
      "metadata": {
        "papermill": {
          "duration": 0.042094,
          "end_time": "2020-10-07T13:01:58.103287",
          "exception": false,
          "start_time": "2020-10-07T13:01:58.061193",
          "status": "completed"
        },
        "tags": [],
        "id": "iooYNNvYsxJA"
      },
      "source": [
        "> Lets look again the height feature using box plot to see the handling of outlier "
      ]
    },
    {
      "cell_type": "code",
      "metadata": {
        "execution": {
          "iopub.execute_input": "2020-10-07T13:01:58.219051Z",
          "iopub.status.busy": "2020-10-07T13:01:58.218597Z",
          "iopub.status.idle": "2020-10-07T13:01:58.315185Z",
          "shell.execute_reply": "2020-10-07T13:01:58.314723Z"
        },
        "papermill": {
          "duration": 0.169618,
          "end_time": "2020-10-07T13:01:58.315263",
          "exception": false,
          "start_time": "2020-10-07T13:01:58.145645",
          "status": "completed"
        },
        "tags": [],
        "id": "duEORYTesxJA"
      },
      "source": [
        "plot_outlier(mc_df.height)"
      ],
      "execution_count": null,
      "outputs": []
    },
    {
      "cell_type": "markdown",
      "metadata": {
        "papermill": {
          "duration": 0.043231,
          "end_time": "2020-10-07T13:01:58.401165",
          "exception": false,
          "start_time": "2020-10-07T13:01:58.357934",
          "status": "completed"
        },
        "tags": [],
        "id": "4-vWNHSqsxJA"
      },
      "source": [
        "# Numeric features distributions Visualization "
      ]
    },
    {
      "cell_type": "code",
      "metadata": {
        "execution": {
          "iopub.execute_input": "2020-10-07T13:01:58.494737Z",
          "iopub.status.busy": "2020-10-07T13:01:58.494279Z",
          "iopub.status.idle": "2020-10-07T13:01:58.496992Z",
          "shell.execute_reply": "2020-10-07T13:01:58.496623Z"
        },
        "papermill": {
          "duration": 0.051569,
          "end_time": "2020-10-07T13:01:58.497065",
          "exception": false,
          "start_time": "2020-10-07T13:01:58.445496",
          "status": "completed"
        },
        "tags": [],
        "id": "LDZ_OSgIsxJA"
      },
      "source": [
        "def plot_dist(df, indipendent_features):\n",
        "  plt.figure(figsize=(25, 20))\n",
        "  for loc, feature in enumerate(indipendent_features):\n",
        "    ax = plt.subplot(3, 3, loc+1)\n",
        "    sns.distplot(df[feature]) # you can try histplot as well\n",
        "  return None"
      ],
      "execution_count": null,
      "outputs": []
    },
    {
      "cell_type": "code",
      "metadata": {
        "execution": {
          "iopub.execute_input": "2020-10-07T13:01:58.614401Z",
          "iopub.status.busy": "2020-10-07T13:01:58.613900Z",
          "iopub.status.idle": "2020-10-07T13:01:59.879178Z",
          "shell.execute_reply": "2020-10-07T13:01:59.878705Z"
        },
        "papermill": {
          "duration": 1.338943,
          "end_time": "2020-10-07T13:01:59.879258",
          "exception": false,
          "start_time": "2020-10-07T13:01:58.540315",
          "status": "completed"
        },
        "tags": [],
        "id": "VIoaJgG8sxJA"
      },
      "source": [
        "plot_dist(mc_data, ['height', 'waist', 'mc_size', 'quality', 'hips', 'bra_size', 'shoe_size'])"
      ],
      "execution_count": null,
      "outputs": []
    },
    {
      "cell_type": "markdown",
      "metadata": {
        "papermill": {
          "duration": 0.045302,
          "end_time": "2020-10-07T13:01:59.970311",
          "exception": false,
          "start_time": "2020-10-07T13:01:59.925009",
          "status": "completed"
        },
        "tags": [],
        "id": "MpX6x5IIsxJA"
      },
      "source": [
        "# Missing Values Handling for numeric features\n",
        "\n",
        "> as we see there are lot of missing values in this dataset. Since the data is highly sparse, i am trying to use KNN algorith to impute the relavant features."
      ]
    },
    {
      "cell_type": "code",
      "metadata": {
        "execution": {
          "iopub.execute_input": "2020-10-07T13:02:00.067648Z",
          "iopub.status.busy": "2020-10-07T13:02:00.067183Z",
          "iopub.status.idle": "2020-10-07T13:06:24.085925Z",
          "shell.execute_reply": "2020-10-07T13:06:24.085409Z"
        },
        "papermill": {
          "duration": 264.070364,
          "end_time": "2020-10-07T13:06:24.086033",
          "exception": false,
          "start_time": "2020-10-07T13:02:00.015669",
          "status": "completed"
        },
        "tags": [],
        "id": "GSzwlhuosxJB"
      },
      "source": [
        "from sklearn.impute import KNNImputer\n",
        "imputer = KNNImputer(n_neighbors=10)\n",
        "\n",
        "# finding imputation using other features (it will take couple of minutes to complete the execution)\n",
        "mc_data_knn_ind_features = mc_df[['waist', 'hips', 'bra_size', 'bust', 'height', 'shoe_size']]\n",
        "\n",
        "df_filled = imputer.fit_transform(mc_data_knn_ind_features)\n",
        "\n",
        "\n",
        "knn_numeric_imputations = pd.DataFrame(data=df_filled, columns=['waist', 'hips', 'bra_size', 'bust', 'height', 'shoe_size'])\n",
        "\n",
        "\n",
        "# remove the existing numeric columns (waist, height, hips, bra_size, bust, shoe_size ) from the main dataframe and concatenate  with knn imputed data\n",
        "#mc_df = mc_data\n",
        "mc_new_df = mc_df.drop(['waist', 'hips', 'bra_size', 'bust', 'height', 'shoe_size'], axis=1)\n",
        "\n",
        "\n"
      ],
      "execution_count": null,
      "outputs": []
    },
    {
      "cell_type": "code",
      "metadata": {
        "execution": {
          "iopub.execute_input": "2020-10-07T13:06:24.184406Z",
          "iopub.status.busy": "2020-10-07T13:06:24.183011Z",
          "iopub.status.idle": "2020-10-07T13:06:24.272814Z",
          "shell.execute_reply": "2020-10-07T13:06:24.272314Z"
        },
        "papermill": {
          "duration": 0.139941,
          "end_time": "2020-10-07T13:06:24.272893",
          "exception": false,
          "start_time": "2020-10-07T13:06:24.132952",
          "status": "completed"
        },
        "tags": [],
        "id": "GoLkjtRNsxJB"
      },
      "source": [
        "# concat the imputations data with mc data frame\n",
        "mc = pd.concat([mc_new_df, knn_numeric_imputations], axis=1)\n",
        "mc.isnull().sum()"
      ],
      "execution_count": null,
      "outputs": []
    },
    {
      "cell_type": "markdown",
      "metadata": {
        "papermill": {
          "duration": 0.045941,
          "end_time": "2020-10-07T13:06:24.364511",
          "exception": false,
          "start_time": "2020-10-07T13:06:24.318570",
          "status": "completed"
        },
        "tags": [],
        "id": "1q_GYj0vsxJB"
      },
      "source": [
        "> we successfully done the imputations for some of the numeric features"
      ]
    },
    {
      "cell_type": "markdown",
      "metadata": {
        "papermill": {
          "duration": 0.045661,
          "end_time": "2020-10-07T13:06:24.456728",
          "exception": false,
          "start_time": "2020-10-07T13:06:24.411067",
          "status": "completed"
        },
        "tags": [],
        "id": "mm5x7U-ksxJB"
      },
      "source": [
        "# Handling shoe-size outliers"
      ]
    },
    {
      "cell_type": "code",
      "metadata": {
        "execution": {
          "iopub.execute_input": "2020-10-07T13:06:24.561370Z",
          "iopub.status.busy": "2020-10-07T13:06:24.556761Z",
          "iopub.status.idle": "2020-10-07T13:06:24.656770Z",
          "shell.execute_reply": "2020-10-07T13:06:24.656414Z"
        },
        "papermill": {
          "duration": 0.154279,
          "end_time": "2020-10-07T13:06:24.656849",
          "exception": false,
          "start_time": "2020-10-07T13:06:24.502570",
          "status": "completed"
        },
        "tags": [],
        "id": "_OVkyofZsxJB"
      },
      "source": [
        "plot_outlier(mc.shoe_size)"
      ],
      "execution_count": null,
      "outputs": []
    },
    {
      "cell_type": "markdown",
      "metadata": {
        "papermill": {
          "duration": 0.045063,
          "end_time": "2020-10-07T13:06:24.747638",
          "exception": false,
          "start_time": "2020-10-07T13:06:24.702575",
          "status": "completed"
        },
        "tags": [],
        "id": "6zK1lAAEsxJC"
      },
      "source": [
        "clearly, there are few outliers, using IQR cutoff range values remove there observations"
      ]
    },
    {
      "cell_type": "code",
      "metadata": {
        "execution": {
          "iopub.execute_input": "2020-10-07T13:06:24.861022Z",
          "iopub.status.busy": "2020-10-07T13:06:24.860581Z",
          "iopub.status.idle": "2020-10-07T13:06:25.017114Z",
          "shell.execute_reply": "2020-10-07T13:06:25.017469Z"
        },
        "papermill": {
          "duration": 0.224317,
          "end_time": "2020-10-07T13:06:25.017569",
          "exception": false,
          "start_time": "2020-10-07T13:06:24.793252",
          "status": "completed"
        },
        "tags": [],
        "id": "2O6w0_QUsxJC"
      },
      "source": [
        "ss_lower_range,ss_upper_range = get_outliers_range(mc.shoe_size)\n",
        "#print(ss_lower_range,ss_upper_range)\n",
        "\n",
        "mc.drop(mc[(mc.shoe_size < ss_lower_range) | (mc.shoe_size > ss_upper_range)].index, axis=0, inplace=True) # found 390 observations \n",
        "plot_outlier(mc.shoe_size)"
      ],
      "execution_count": null,
      "outputs": []
    },
    {
      "cell_type": "code",
      "metadata": {
        "papermill": {
          "duration": 0.046937,
          "end_time": "2020-10-07T13:06:25.111506",
          "exception": false,
          "start_time": "2020-10-07T13:06:25.064569",
          "status": "completed"
        },
        "tags": [],
        "id": "lloay3tqsxJC"
      },
      "source": [
        ""
      ],
      "execution_count": null,
      "outputs": []
    },
    {
      "cell_type": "markdown",
      "metadata": {
        "papermill": {
          "duration": 0.04623,
          "end_time": "2020-10-07T13:06:25.204093",
          "exception": false,
          "start_time": "2020-10-07T13:06:25.157863",
          "status": "completed"
        },
        "tags": [],
        "id": "Uh4iGqygsxJC"
      },
      "source": [
        "# Transform some of categorical variables to numeric "
      ]
    },
    {
      "cell_type": "markdown",
      "metadata": {
        "papermill": {
          "duration": 0.046763,
          "end_time": "2020-10-07T13:06:25.297343",
          "exception": false,
          "start_time": "2020-10-07T13:06:25.250580",
          "status": "completed"
        },
        "tags": [],
        "id": "tbqzWpRfsxJC"
      },
      "source": [
        "### feature : Cup size - used open source data to convert measurements into numerical data"
      ]
    },
    {
      "cell_type": "markdown",
      "metadata": {
        "papermill": {
          "duration": 0.046726,
          "end_time": "2020-10-07T13:06:25.391285",
          "exception": false,
          "start_time": "2020-10-07T13:06:25.344559",
          "status": "completed"
        },
        "tags": [],
        "id": "sEnkNeMPsxJC"
      },
      "source": [
        "![image.png](attachment:image.png)\n",
        "source taken from https://www.blitzresults.com/en/bra-size/\n",
        "\n",
        "Adding two new columns for the feture \"cup_size\" in order to convert the measurements into centimeters and then imputing missing values with mean values. "
      ]
    },
    {
      "cell_type": "code",
      "metadata": {
        "execution": {
          "iopub.execute_input": "2020-10-07T13:06:25.494618Z",
          "iopub.status.busy": "2020-10-07T13:06:25.492940Z",
          "iopub.status.idle": "2020-10-07T13:06:25.498006Z",
          "shell.execute_reply": "2020-10-07T13:06:25.497531Z"
        },
        "papermill": {
          "duration": 0.060177,
          "end_time": "2020-10-07T13:06:25.498089",
          "exception": false,
          "start_time": "2020-10-07T13:06:25.437912",
          "status": "completed"
        },
        "tags": [],
        "id": "EiPGJPy4sxJD"
      },
      "source": [
        "def convert_cup_size_to_cms(cup_size_code):\n",
        "  if cup_size_code == 'aa':\n",
        "    return 10, 11\n",
        "  if cup_size_code == 'a':\n",
        "    return 12, 13\n",
        "  if cup_size_code == 'b':\n",
        "    return 14, 15\n",
        "  if cup_size_code == 'c':\n",
        "    return 16, 17\n",
        "  if cup_size_code == 'd':\n",
        "    return 18, 19\n",
        "  if cup_size_code == 'dd/e':\n",
        "    return 20, 21\n",
        "  if cup_size_code == 'ddd/f':\n",
        "    return 22, 23\n",
        "  if cup_size_code == 'dddd/g':\n",
        "    return 24, 25\n",
        "  if cup_size_code == 'h':\n",
        "    return 26, 27\n",
        "  if cup_size_code == 'i':\n",
        "    return 28, 29\n",
        "  if cup_size_code == 'j':\n",
        "    return 30, 31\n",
        "  if cup_size_code == 'k':\n",
        "    return 32, 33 \n",
        "  else:\n",
        "    return str('unknown')"
      ],
      "execution_count": null,
      "outputs": []
    },
    {
      "cell_type": "code",
      "metadata": {
        "execution": {
          "iopub.execute_input": "2020-10-07T13:06:25.596133Z",
          "iopub.status.busy": "2020-10-07T13:06:25.595045Z",
          "iopub.status.idle": "2020-10-07T13:06:25.641726Z",
          "shell.execute_reply": "2020-10-07T13:06:25.641341Z"
        },
        "papermill": {
          "duration": 0.09651,
          "end_time": "2020-10-07T13:06:25.641808",
          "exception": false,
          "start_time": "2020-10-07T13:06:25.545298",
          "status": "completed"
        },
        "tags": [],
        "id": "fj5RWuQTsxJD"
      },
      "source": [
        "mc['cup_size_in_cms'] = mc.cup_size.apply(convert_cup_size_to_cms)\n",
        "mc.head()"
      ],
      "execution_count": null,
      "outputs": []
    },
    {
      "cell_type": "code",
      "metadata": {
        "execution": {
          "iopub.execute_input": "2020-10-07T13:06:25.774293Z",
          "iopub.status.busy": "2020-10-07T13:06:25.773036Z",
          "iopub.status.idle": "2020-10-07T13:06:25.969574Z",
          "shell.execute_reply": "2020-10-07T13:06:25.969099Z"
        },
        "papermill": {
          "duration": 0.280551,
          "end_time": "2020-10-07T13:06:25.969661",
          "exception": false,
          "start_time": "2020-10-07T13:06:25.689110",
          "status": "completed"
        },
        "tags": [],
        "id": "Pschzw4wsxJD"
      },
      "source": [
        "def split_cup_size_data(data, index):\n",
        "  if data.lower() == 'unknown':\n",
        "    return 0\n",
        "  value = data.replace('(','').replace(')','').replace(',','')\n",
        "  return value.split()[index]\n",
        "\n",
        "mc['cup_size_start_in_cms'] =  mc.cup_size_in_cms.astype(str).apply(lambda x : split_cup_size_data(x, 0))\n",
        "mc['cup_size_end_in_cms'] =  mc.cup_size_in_cms.astype(str).apply(lambda x : split_cup_size_data(x, 1))\n",
        "mc.head()"
      ],
      "execution_count": null,
      "outputs": []
    },
    {
      "cell_type": "code",
      "metadata": {
        "execution": {
          "iopub.execute_input": "2020-10-07T13:06:26.079342Z",
          "iopub.status.busy": "2020-10-07T13:06:26.078888Z",
          "iopub.status.idle": "2020-10-07T13:06:26.095718Z",
          "shell.execute_reply": "2020-10-07T13:06:26.096302Z"
        },
        "papermill": {
          "duration": 0.078579,
          "end_time": "2020-10-07T13:06:26.096410",
          "exception": false,
          "start_time": "2020-10-07T13:06:26.017831",
          "status": "completed"
        },
        "tags": [],
        "id": "vwjtJ6DisxJD"
      },
      "source": [
        "mc['cup_size_start_in_cms'] = mc.cup_size_start_in_cms.astype('int')\n",
        "mc['cup_size_end_in_cms'] = mc.cup_size_end_in_cms.astype('int')\n",
        "\n",
        "\n",
        "# missing values imputation with mean\n",
        "mc['cup_size_start_in_cms']  = mc.cup_size_start_in_cms.mask(mc.cup_size_start_in_cms==0).fillna(value=mc.cup_size_start_in_cms.mean())\n",
        "mc['cup_size_end_in_cms']  = mc.cup_size_end_in_cms.mask(mc.cup_size_end_in_cms==0).fillna(value=mc.cup_size_end_in_cms.mean())"
      ],
      "execution_count": null,
      "outputs": []
    },
    {
      "cell_type": "markdown",
      "metadata": {
        "papermill": {
          "duration": 0.067577,
          "end_time": "2020-10-07T13:06:26.232612",
          "exception": false,
          "start_time": "2020-10-07T13:06:26.165035",
          "status": "completed"
        },
        "tags": [],
        "id": "6tDwjOZOsxJD"
      },
      "source": [
        "> lets double check the NaN values imputations for the newly added features"
      ]
    },
    {
      "cell_type": "code",
      "metadata": {
        "execution": {
          "iopub.execute_input": "2020-10-07T13:06:26.377674Z",
          "iopub.status.busy": "2020-10-07T13:06:26.376977Z",
          "iopub.status.idle": "2020-10-07T13:06:26.438765Z",
          "shell.execute_reply": "2020-10-07T13:06:26.438386Z"
        },
        "papermill": {
          "duration": 0.138601,
          "end_time": "2020-10-07T13:06:26.438838",
          "exception": false,
          "start_time": "2020-10-07T13:06:26.300237",
          "status": "completed"
        },
        "tags": [],
        "id": "GZDJRoy6sxJD"
      },
      "source": [
        "mc[mc.cup_size.isnull()]"
      ],
      "execution_count": null,
      "outputs": []
    },
    {
      "cell_type": "code",
      "metadata": {
        "execution": {
          "iopub.execute_input": "2020-10-07T13:06:26.544517Z",
          "iopub.status.busy": "2020-10-07T13:06:26.544028Z",
          "iopub.status.idle": "2020-10-07T13:06:26.564793Z",
          "shell.execute_reply": "2020-10-07T13:06:26.564357Z"
        },
        "papermill": {
          "duration": 0.07683,
          "end_time": "2020-10-07T13:06:26.564872",
          "exception": false,
          "start_time": "2020-10-07T13:06:26.488042",
          "status": "completed"
        },
        "tags": [],
        "id": "mrSeGsq0sxJE"
      },
      "source": [
        "# drop the columns which are used for reference\n",
        "mc = mc.drop(['cup_size', 'cup_size_in_cms'], axis = 1)\n",
        "mc.reset_index(drop=True,  inplace=True)"
      ],
      "execution_count": null,
      "outputs": []
    },
    {
      "cell_type": "markdown",
      "metadata": {
        "papermill": {
          "duration": 0.047982,
          "end_time": "2020-10-07T13:06:26.661074",
          "exception": false,
          "start_time": "2020-10-07T13:06:26.613092",
          "status": "completed"
        },
        "tags": [],
        "id": "lkgbhUxNsxJE"
      },
      "source": [
        "## Categorical data to Numeric using one-hot encoding"
      ]
    },
    {
      "cell_type": "markdown",
      "metadata": {
        "papermill": {
          "duration": 0.04782,
          "end_time": "2020-10-07T13:06:26.757042",
          "exception": false,
          "start_time": "2020-10-07T13:06:26.709222",
          "status": "completed"
        },
        "tags": [],
        "id": "n-DQrkdAsxJE"
      },
      "source": [
        "> lets try to see the visualization for categorical data against the dependent feature fit\n"
      ]
    },
    {
      "cell_type": "code",
      "metadata": {
        "execution": {
          "iopub.execute_input": "2020-10-07T13:06:26.861596Z",
          "iopub.status.busy": "2020-10-07T13:06:26.860917Z",
          "iopub.status.idle": "2020-10-07T13:06:26.863671Z",
          "shell.execute_reply": "2020-10-07T13:06:26.863235Z"
        },
        "papermill": {
          "duration": 0.058542,
          "end_time": "2020-10-07T13:06:26.863748",
          "exception": false,
          "start_time": "2020-10-07T13:06:26.805206",
          "status": "completed"
        },
        "tags": [],
        "id": "AZC6dh3fsxJE"
      },
      "source": [
        "def countplot_wrt_target(indipendent_features, df):\n",
        "  plt.figure(figsize=(28, 10))\n",
        "  for loc, feature in enumerate(indipendent_features):\n",
        "    ax = plt.subplot(1, 3, loc+1)\n",
        "    ax.set_xlabel('{}'.format(feature), fontsize=10)\n",
        "    chart = sns.countplot(x=df[feature], hue=df.fit)\n",
        "    chart.set_xticklabels(chart.get_xticklabels(), rotation=90)\n",
        "  return None\n"
      ],
      "execution_count": null,
      "outputs": []
    },
    {
      "cell_type": "code",
      "metadata": {
        "execution": {
          "iopub.execute_input": "2020-10-07T13:06:26.977258Z",
          "iopub.status.busy": "2020-10-07T13:06:26.976566Z",
          "iopub.status.idle": "2020-10-07T13:06:28.037438Z",
          "shell.execute_reply": "2020-10-07T13:06:28.036931Z"
        },
        "papermill": {
          "duration": 1.124155,
          "end_time": "2020-10-07T13:06:28.037536",
          "exception": false,
          "start_time": "2020-10-07T13:06:26.913381",
          "status": "completed"
        },
        "tags": [],
        "id": "WlytbsXLsxJE"
      },
      "source": [
        "countplot_wrt_target(['category', 'length', 'quality'], mc)"
      ],
      "execution_count": null,
      "outputs": []
    },
    {
      "cell_type": "markdown",
      "metadata": {
        "papermill": {
          "duration": 0.07125,
          "end_time": "2020-10-07T13:06:28.180349",
          "exception": false,
          "start_time": "2020-10-07T13:06:28.109099",
          "status": "completed"
        },
        "tags": [],
        "id": "X2jQ81OCsxJE"
      },
      "source": [
        "# feature shoe_width : used open source data to identify shoe width based on shoe size\n",
        "\n",
        "![image.png](attachment:image.png)\n",
        "\n",
        "Reference link : https://images-na.ssl-images-amazon.com/images/I/71u90X9oX3S.pdf"
      ]
    },
    {
      "cell_type": "code",
      "metadata": {
        "execution": {
          "iopub.execute_input": "2020-10-07T13:06:28.331282Z",
          "iopub.status.busy": "2020-10-07T13:06:28.330780Z",
          "iopub.status.idle": "2020-10-07T13:06:28.338122Z",
          "shell.execute_reply": "2020-10-07T13:06:28.337772Z"
        },
        "papermill": {
          "duration": 0.086999,
          "end_time": "2020-10-07T13:06:28.338222",
          "exception": false,
          "start_time": "2020-10-07T13:06:28.251223",
          "status": "completed"
        },
        "tags": [],
        "id": "nwYSHPe8sxJE"
      },
      "source": [
        "# fill NaN with average shoe width category (this is just an assumption)\n",
        "mc.shoe_width = mc.shoe_width.fillna('average')"
      ],
      "execution_count": null,
      "outputs": []
    },
    {
      "cell_type": "code",
      "metadata": {
        "execution": {
          "iopub.execute_input": "2020-10-07T13:06:28.463883Z",
          "iopub.status.busy": "2020-10-07T13:06:28.448452Z",
          "iopub.status.idle": "2020-10-07T13:06:28.807670Z",
          "shell.execute_reply": "2020-10-07T13:06:28.807259Z"
        },
        "papermill": {
          "duration": 0.420654,
          "end_time": "2020-10-07T13:06:28.807750",
          "exception": false,
          "start_time": "2020-10-07T13:06:28.387096",
          "status": "completed"
        },
        "tags": [],
        "id": "Ce1UU83-sxJF"
      },
      "source": [
        "# Use above chart to convert shoe width data such as 'wide','average','narrow' to inches\n",
        "mc['shoe_width_in_inches'] = np.where(((mc.shoe_size >= 5) & (mc.shoe_size < 5.5)) & (mc.shoe_width == 'narrow') , 2.81, \n",
        "np.where(((mc.shoe_size >= 5) & (mc.shoe_size < 5.5)) & (mc.shoe_width == 'average') , 3.19, \n",
        "np.where(((mc.shoe_size >= 5) & (mc.shoe_size < 5.5)) & (mc.shoe_width == 'wide') , 3.56,\n",
        "np.where(((mc.shoe_size >= 5.5) & (mc.shoe_size < 6)) & (mc.shoe_width == 'narrow') , 2.87, \n",
        "np.where(((mc.shoe_size >= 5.5) & (mc.shoe_size < 6)) & (mc.shoe_width == 'average') , 3.25, \n",
        "np.where(((mc.shoe_size >= 5.5) & (mc.shoe_size < 6)) & (mc.shoe_width == 'wide') , 3.62, \n",
        "np.where(((mc.shoe_size >= 6) & (mc.shoe_size < 6.5)) & (mc.shoe_width == 'narrow') , 2.94, \n",
        "np.where(((mc.shoe_size >= 6) & (mc.shoe_size < 6.5)) & (mc.shoe_width == 'average') , 3.31, \n",
        "np.where(((mc.shoe_size >= 6) & (mc.shoe_size < 6.5)) & (mc.shoe_width == 'wide') , 3.69,\n",
        "np.where(((mc.shoe_size >= 6.5) & (mc.shoe_size < 7)) & (mc.shoe_width == 'narrow') , 3, \n",
        "np.where(((mc.shoe_size >= 6.5) & (mc.shoe_size < 7)) & (mc.shoe_width == 'average') , 3.37, \n",
        "np.where(((mc.shoe_size >= 6.5) & (mc.shoe_size < 7)) & (mc.shoe_width == 'wide') , 3.75,\n",
        "np.where(((mc.shoe_size >= 7) & (mc.shoe_size < 7.5)) & (mc.shoe_width == 'narrow') , 3.06, \n",
        "np.where(((mc.shoe_size >= 7) & (mc.shoe_size < 7.5)) & (mc.shoe_width == 'average') , 3.44, \n",
        "np.where(((mc.shoe_size >= 7) & (mc.shoe_size < 7.5)) & (mc.shoe_width == 'wide') , 3.81, \n",
        "np.where(((mc.shoe_size >= 7.5) & (mc.shoe_size < 8)) & (mc.shoe_width == 'narrow') , 3.12, \n",
        "np.where(((mc.shoe_size >= 7.5) & (mc.shoe_size < 8)) & (mc.shoe_width == 'average') , 3.5, \n",
        "np.where(((mc.shoe_size >= 7.5) & (mc.shoe_size < 8)) & (mc.shoe_width == 'wide') , 3.87, \n",
        "np.where(((mc.shoe_size >= 8) & (mc.shoe_size < 8.5)) & (mc.shoe_width == 'narrow') , 3.19, \n",
        "np.where(((mc.shoe_size >= 8) & (mc.shoe_size < 8.5)) & (mc.shoe_width == 'average') , 3.56, \n",
        "np.where(((mc.shoe_size >= 8) & (mc.shoe_size < 8.5)) & (mc.shoe_width == 'wide') , 3.94, \n",
        "np.where(((mc.shoe_size >= 8.5) & (mc.shoe_size < 9)) & (mc.shoe_width == 'narrow') , 3.25, \n",
        "np.where(((mc.shoe_size >= 8.5) & (mc.shoe_size < 9)) & (mc.shoe_width == 'average') , 3.62, \n",
        "np.where(((mc.shoe_size >= 8.5) & (mc.shoe_size < 9)) & (mc.shoe_width == 'wide') , 4, \n",
        "np.where(((mc.shoe_size >= 9) & (mc.shoe_size < 9.5)) & (mc.shoe_width == 'narrow') , 3.37, \n",
        "np.where(((mc.shoe_size >= 9) & (mc.shoe_size < 9.5)) & (mc.shoe_width == 'average') , 3.69, \n",
        "np.where(((mc.shoe_size >= 9) & (mc.shoe_size < 9.5)) & (mc.shoe_width == 'wide') , 4.06, \n",
        "np.where(((mc.shoe_size >= 9.5) & (mc.shoe_size < 10)) & (mc.shoe_width == 'narrow') , 3.37, \n",
        "np.where(((mc.shoe_size >= 9.5) & (mc.shoe_size < 10)) & (mc.shoe_width == 'average') , 3.75, \n",
        "np.where(((mc.shoe_size >= 9.5) & (mc.shoe_size < 10)) & (mc.shoe_width == 'wide') , 4.12, \n",
        "np.where(((mc.shoe_size >= 10) & (mc.shoe_size < 10.5)) & (mc.shoe_width == 'narrow') , 3.44, \n",
        "np.where(((mc.shoe_size >= 10) & (mc.shoe_size < 10.5)) & (mc.shoe_width == 'average') , 3.75, \n",
        "np.where(((mc.shoe_size >= 10) & (mc.shoe_size < 10.5)) & (mc.shoe_width == 'wide') , 4.19, \n",
        "np.where(((mc.shoe_size >= 10.5) & (mc.shoe_size < 11)) & (mc.shoe_width == 'narrow') , 3.5, \n",
        "np.where(((mc.shoe_size >= 10.5) & (mc.shoe_size < 11)) & (mc.shoe_width == 'average') , 3.87, \n",
        "np.where(((mc.shoe_size >= 10.5) & (mc.shoe_size < 11)) & (mc.shoe_width == 'wide') , 4.19, \n",
        "np.where(((mc.shoe_size >= 11) & (mc.shoe_size < 12)) & (mc.shoe_width == 'narrow') , 3.56, \n",
        "np.where(((mc.shoe_size >= 11) & (mc.shoe_size < 12)) & (mc.shoe_width == 'average') , 3.94, \n",
        "np.where(((mc.shoe_size >= 11) & (mc.shoe_size < 12)) & (mc.shoe_width == 'wide') , 4.19,\n",
        "np.nan)))))))))))))))))))))))))))))))))))))))"
      ],
      "execution_count": null,
      "outputs": []
    },
    {
      "cell_type": "code",
      "metadata": {
        "execution": {
          "iopub.execute_input": "2020-10-07T13:06:28.915222Z",
          "iopub.status.busy": "2020-10-07T13:06:28.914749Z",
          "iopub.status.idle": "2020-10-07T13:06:28.938355Z",
          "shell.execute_reply": "2020-10-07T13:06:28.937820Z"
        },
        "papermill": {
          "duration": 0.076844,
          "end_time": "2020-10-07T13:06:28.938463",
          "exception": false,
          "start_time": "2020-10-07T13:06:28.861619",
          "status": "completed"
        },
        "tags": [],
        "id": "n67G9iCqsxJF"
      },
      "source": [
        "# drop the refrence colum shoe_width\n",
        "mc.drop(['shoe_width'], axis=1, inplace=True)"
      ],
      "execution_count": null,
      "outputs": []
    },
    {
      "cell_type": "markdown",
      "metadata": {
        "papermill": {
          "duration": 0.072428,
          "end_time": "2020-10-07T13:06:29.081892",
          "exception": false,
          "start_time": "2020-10-07T13:06:29.009464",
          "status": "completed"
        },
        "tags": [],
        "id": "R4qWL5vssxJF"
      },
      "source": [
        "# Applied one-hot encoding for the features length & category "
      ]
    },
    {
      "cell_type": "markdown",
      "metadata": {
        "papermill": {
          "duration": 0.071255,
          "end_time": "2020-10-07T13:06:29.230869",
          "exception": false,
          "start_time": "2020-10-07T13:06:29.159614",
          "status": "completed"
        },
        "tags": [],
        "id": "xpj23rN9sxJF"
      },
      "source": [
        "> when we dont find any ascending/descending order between the category values one way to overcome this problem is \"by using one hot encoding\".\n",
        "\n",
        "> \n"
      ]
    },
    {
      "cell_type": "code",
      "metadata": {
        "execution": {
          "iopub.execute_input": "2020-10-07T13:06:29.389710Z",
          "iopub.status.busy": "2020-10-07T13:06:29.387720Z",
          "iopub.status.idle": "2020-10-07T13:06:29.396477Z",
          "shell.execute_reply": "2020-10-07T13:06:29.396046Z"
        },
        "papermill": {
          "duration": 0.094769,
          "end_time": "2020-10-07T13:06:29.396560",
          "exception": false,
          "start_time": "2020-10-07T13:06:29.301791",
          "status": "completed"
        },
        "tags": [],
        "id": "NQuouTp-sxJF"
      },
      "source": [
        "# lets replace NaN values with unknown for the feature length\n",
        "mc.length = mc.length.fillna('unknown')"
      ],
      "execution_count": null,
      "outputs": []
    },
    {
      "cell_type": "code",
      "metadata": {
        "execution": {
          "iopub.execute_input": "2020-10-07T13:06:29.518815Z",
          "iopub.status.busy": "2020-10-07T13:06:29.505261Z",
          "iopub.status.idle": "2020-10-07T13:06:29.700826Z",
          "shell.execute_reply": "2020-10-07T13:06:29.700439Z"
        },
        "papermill": {
          "duration": 0.25441,
          "end_time": "2020-10-07T13:06:29.700910",
          "exception": false,
          "start_time": "2020-10-07T13:06:29.446500",
          "status": "completed"
        },
        "tags": [],
        "id": "bfJzy8rFsxJF"
      },
      "source": [
        "# apply one hot encoding using dummies\n",
        "\n",
        "length_dummies  = pd.get_dummies(mc['length'])\n",
        "length_dummies.columns = ['just_right','slightly_long','very_short','slightly_short','very_long', 'length_unkown']\n",
        "\n",
        "category_dummies  = pd.get_dummies(mc['category'])\n",
        "category_dummies.columns = ['new','dresses','wedding','sale','tops', 'bottoms','outerwear']\n",
        "\n",
        "model_input_df = pd.concat([mc, length_dummies,category_dummies], axis = 1)\n",
        "model_input_df.drop(['length'], axis=1, inplace=True)\n",
        "model_input_df.drop(['category'], axis=1, inplace=True)\n",
        "\n",
        "# target variable \n",
        "fit = {'small':0, 'fit':1, 'large':2}\n",
        "model_input_df['fit'] = model_input_df['fit'].map(fit)\n"
      ],
      "execution_count": null,
      "outputs": []
    },
    {
      "cell_type": "code",
      "metadata": {
        "execution": {
          "iopub.execute_input": "2020-10-07T13:06:29.805178Z",
          "iopub.status.busy": "2020-10-07T13:06:29.804733Z",
          "iopub.status.idle": "2020-10-07T13:06:29.848307Z",
          "shell.execute_reply": "2020-10-07T13:06:29.847936Z"
        },
        "papermill": {
          "duration": 0.097724,
          "end_time": "2020-10-07T13:06:29.848380",
          "exception": false,
          "start_time": "2020-10-07T13:06:29.750656",
          "status": "completed"
        },
        "tags": [],
        "id": "og21gKO5sxJF"
      },
      "source": [
        "# since there is no value add to the features like item_id , user_id and user_name\n",
        "\n",
        "model_input_df.drop(['item_id'], axis=1, inplace=True)\n",
        "\n",
        "model_input_df.drop(['user_id'], axis=1, inplace=True)\n",
        "\n",
        "model_input_df.drop(['user_name'], axis=1, inplace=True)\n",
        "model_input_df.head()"
      ],
      "execution_count": null,
      "outputs": []
    }
  ]
}