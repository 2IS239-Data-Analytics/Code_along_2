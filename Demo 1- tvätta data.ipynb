{
  "nbformat": 4,
  "nbformat_minor": 0,
  "metadata": {
    "kernelspec": {
      "display_name": "Python 3",
      "language": "python",
      "name": "python3"
    },
    "language_info": {
      "codemirror_mode": {
        "name": "ipython",
        "version": 3
      },
      "file_extension": ".py",
      "mimetype": "text/x-python",
      "name": "python",
      "nbconvert_exporter": "python",
      "pygments_lexer": "ipython3",
      "version": "3.7.4"
    },
    "colab": {
      "name": "Demo 1- tvätta data.ipynb",
      "provenance": [],
      "include_colab_link": true
    }
  },
  "cells": [
    {
      "cell_type": "markdown",
      "metadata": {
        "id": "view-in-github",
        "colab_type": "text"
      },
      "source": [
        "<a href=\"https://colab.research.google.com/github/2IS239-Data-Analytics/Code_along_1/blob/main/Demo%201-%20tva%CC%88tta%20data.ipynb\" target=\"_parent\"><img src=\"https://colab.research.google.com/assets/colab-badge.svg\" alt=\"Open In Colab\"/></a>"
      ]
    },
    {
      "cell_type": "markdown",
      "metadata": {
        "id": "YA2KMavdE2e0"
      },
      "source": [
        "## Demo - tvätta data med Pandas och Numpy\n",
        "\n",
        "Klick på Kernel och välj restart and Clear Output om ni vill ta bort all output och testa att köra koden själva. \n",
        "\n",
        "Beroende på hur ni väljer att köra Jupyter kan Pandas och Numpy behöva installeras. Om det inte går att importera i nästa steg så genomför följande installation. "
      ]
    },
    {
      "cell_type": "code",
      "metadata": {
        "id": "86u6SFVDE2e3"
      },
      "source": [
        "pip install pandas"
      ],
      "execution_count": null,
      "outputs": []
    },
    {
      "cell_type": "code",
      "metadata": {
        "id": "jXmSyPrIE2e4"
      },
      "source": [
        "#importera pandas och numpy\n",
        "import pandas as pd\n",
        "import numpy as np\n"
      ],
      "execution_count": 1,
      "outputs": []
    },
    {
      "cell_type": "code",
      "metadata": {
        "id": "0jYiSHIzInES"
      },
      "source": [
        "url = 'copied_raw_GH_link '\n",
        "df = pd.read_csv(url)"
      ],
      "execution_count": 2,
      "outputs": []
    },
    {
      "cell_type": "markdown",
      "metadata": {
        "id": "kpqAJBGlE2e4"
      },
      "source": [
        "Ladda det dataset som vi kommer att jobba med. Finns i filen BL-Flickr-Images-Book.csv som är en CSV fil som innehåller information om böcker från the British Library. "
      ]
    },
    {
      "cell_type": "code",
      "metadata": {
        "scrolled": true,
        "id": "ZTX3A8r3E2e5"
      },
      "source": [
        "# Undersöka dataset \"huvud\", dvs. kolumn rubriken och de första raderna. \n",
        "df.head()"
      ],
      "execution_count": null,
      "outputs": []
    },
    {
      "cell_type": "code",
      "metadata": {
        "id": "_2WZINvGE2e6",
        "outputId": "f9fbd72f-6d20-4259-8db2-344dfa1cae21",
        "colab": {
          "base_uri": "https://localhost:8080/"
        }
      },
      "source": [
        "# visa kolumner i dataset\n",
        "df.columns"
      ],
      "execution_count": 7,
      "outputs": [
        {
          "output_type": "execute_result",
          "data": {
            "text/plain": [
              "Index(['Identifier', 'Edition Statement', 'Place of Publication',\n",
              "       'Date of Publication', 'Publisher', 'Title', 'Author', 'Contributors',\n",
              "       'Corporate Author', 'Corporate Contributors', 'Former owner',\n",
              "       'Engraver', 'Issuance type', 'Flickr URL', 'Shelfmarks'],\n",
              "      dtype='object')"
            ]
          },
          "metadata": {},
          "execution_count": 7
        }
      ]
    },
    {
      "cell_type": "markdown",
      "metadata": {
        "id": "8qQWAe06E2e7"
      },
      "source": [
        "Ta bort kolumner som inte behövs i ett dataset."
      ]
    },
    {
      "cell_type": "code",
      "metadata": {
        "id": "SeQt2xnNE2e7",
        "outputId": "042c1579-8855-4122-80f9-aa18faaaca55",
        "colab": {
          "base_uri": "https://localhost:8080/",
          "height": 289
        }
      },
      "source": [
        "# Lägg först till kolumnnamn (labels) som ska tas bort i variabeln to_drop.\n",
        "to_drop = ['Edition Statement',\n",
        "           'Corporate Author', \n",
        "           'Corporate Contributors', \n",
        "           'Former owner',\n",
        "           'Engraver', \n",
        "           'Issuance type', \n",
        "           'Shelfmarks']\n",
        "\n",
        "# funktionen drop används sedan för att ta bort de kolumner som finns i strängen to_drop som skapades ovan. \n",
        "\n",
        "df.drop(to_drop, inplace=True, axis=1)\n",
        "df.head()\n",
        "\n",
        "# to_drop variabeln som innehåller lista med string med de labels som ska tas bort\n",
        "# inplace = True, dataframe i variabeln df modifieras istället för att retunera en kopia av denna dataframe. \n",
        "# axis används för att tala om vad som ska tas bort \n",
        "# axis=0 tar bort rader, axis = 1 tar bort kolumner, baserat på de labels som anges.\n",
        "# flera drop-funktioner: https://pandas.pydata.org/pandas-docs/stable/reference/api/pandas.DataFrame.drop.html"
      ],
      "execution_count": 8,
      "outputs": [
        {
          "output_type": "execute_result",
          "data": {
            "text/html": [
              "<div>\n",
              "<style scoped>\n",
              "    .dataframe tbody tr th:only-of-type {\n",
              "        vertical-align: middle;\n",
              "    }\n",
              "\n",
              "    .dataframe tbody tr th {\n",
              "        vertical-align: top;\n",
              "    }\n",
              "\n",
              "    .dataframe thead th {\n",
              "        text-align: right;\n",
              "    }\n",
              "</style>\n",
              "<table border=\"1\" class=\"dataframe\">\n",
              "  <thead>\n",
              "    <tr style=\"text-align: right;\">\n",
              "      <th></th>\n",
              "      <th>Identifier</th>\n",
              "      <th>Place of Publication</th>\n",
              "      <th>Date of Publication</th>\n",
              "      <th>Publisher</th>\n",
              "      <th>Title</th>\n",
              "      <th>Author</th>\n",
              "      <th>Contributors</th>\n",
              "      <th>Flickr URL</th>\n",
              "    </tr>\n",
              "  </thead>\n",
              "  <tbody>\n",
              "    <tr>\n",
              "      <th>0</th>\n",
              "      <td>206</td>\n",
              "      <td>London</td>\n",
              "      <td>1879 [1878]</td>\n",
              "      <td>S. Tinsley &amp; Co.</td>\n",
              "      <td>Walter Forbes. [A novel.] By A. A</td>\n",
              "      <td>A. A.</td>\n",
              "      <td>FORBES, Walter.</td>\n",
              "      <td>http://www.flickr.com/photos/britishlibrary/ta...</td>\n",
              "    </tr>\n",
              "    <tr>\n",
              "      <th>1</th>\n",
              "      <td>216</td>\n",
              "      <td>London; Virtue &amp; Yorston</td>\n",
              "      <td>1868</td>\n",
              "      <td>Virtue &amp; Co.</td>\n",
              "      <td>All for Greed. [A novel. The dedication signed...</td>\n",
              "      <td>A., A. A.</td>\n",
              "      <td>BLAZE DE BURY, Marie Pauline Rose - Baroness</td>\n",
              "      <td>http://www.flickr.com/photos/britishlibrary/ta...</td>\n",
              "    </tr>\n",
              "    <tr>\n",
              "      <th>2</th>\n",
              "      <td>218</td>\n",
              "      <td>London</td>\n",
              "      <td>1869</td>\n",
              "      <td>Bradbury, Evans &amp; Co.</td>\n",
              "      <td>Love the Avenger. By the author of “All for Gr...</td>\n",
              "      <td>A., A. A.</td>\n",
              "      <td>BLAZE DE BURY, Marie Pauline Rose - Baroness</td>\n",
              "      <td>http://www.flickr.com/photos/britishlibrary/ta...</td>\n",
              "    </tr>\n",
              "    <tr>\n",
              "      <th>3</th>\n",
              "      <td>472</td>\n",
              "      <td>London</td>\n",
              "      <td>1851</td>\n",
              "      <td>James Darling</td>\n",
              "      <td>Welsh Sketches, chiefly ecclesiastical, to the...</td>\n",
              "      <td>A., E. S.</td>\n",
              "      <td>Appleyard, Ernest Silvanus.</td>\n",
              "      <td>http://www.flickr.com/photos/britishlibrary/ta...</td>\n",
              "    </tr>\n",
              "    <tr>\n",
              "      <th>4</th>\n",
              "      <td>480</td>\n",
              "      <td>London</td>\n",
              "      <td>1857</td>\n",
              "      <td>Wertheim &amp; Macintosh</td>\n",
              "      <td>[The World in which I live, and my place in it...</td>\n",
              "      <td>A., E. S.</td>\n",
              "      <td>BROOME, John Henry.</td>\n",
              "      <td>http://www.flickr.com/photos/britishlibrary/ta...</td>\n",
              "    </tr>\n",
              "  </tbody>\n",
              "</table>\n",
              "</div>"
            ],
            "text/plain": [
              "   Identifier  ...                                         Flickr URL\n",
              "0         206  ...  http://www.flickr.com/photos/britishlibrary/ta...\n",
              "1         216  ...  http://www.flickr.com/photos/britishlibrary/ta...\n",
              "2         218  ...  http://www.flickr.com/photos/britishlibrary/ta...\n",
              "3         472  ...  http://www.flickr.com/photos/britishlibrary/ta...\n",
              "4         480  ...  http://www.flickr.com/photos/britishlibrary/ta...\n",
              "\n",
              "[5 rows x 8 columns]"
            ]
          },
          "metadata": {},
          "execution_count": 8
        }
      ]
    },
    {
      "cell_type": "markdown",
      "metadata": {
        "id": "knnOccXXE2e8"
      },
      "source": [
        "Index (första kolumnen, se ovan) genereras automatiskt av Panda när en csv fil laddas, detta för att panda inte vet på föväg vilken kolumn som ska användas som index. Nu vill vi ändra vilken kolumn som ska användas som identifierare till 'Identifier' men först behöver undersöka om raderna i kolumnen innehåller unika värden. "
      ]
    },
    {
      "cell_type": "code",
      "metadata": {
        "id": "lSaVYj9lE2e8",
        "outputId": "1280dfbb-91b1-49a6-8c3c-883ccfc153ea",
        "colab": {
          "base_uri": "https://localhost:8080/"
        }
      },
      "source": [
        "# funktionen nedan visar \"innehållet\" i en kolumn.\n",
        "# de fem första raderna och fem sista visas, även info om hur många rader, 8287 rader finns det i detta dataset. \n",
        "df['Identifier']"
      ],
      "execution_count": 9,
      "outputs": [
        {
          "output_type": "execute_result",
          "data": {
            "text/plain": [
              "0           206\n",
              "1           216\n",
              "2           218\n",
              "3           472\n",
              "4           480\n",
              "         ...   \n",
              "8282    4158088\n",
              "8283    4158128\n",
              "8284    4159563\n",
              "8285    4159587\n",
              "8286    4160339\n",
              "Name: Identifier, Length: 8287, dtype: int64"
            ]
          },
          "metadata": {},
          "execution_count": 9
        }
      ]
    },
    {
      "cell_type": "code",
      "metadata": {
        "id": "pcZrvEPSE2e9",
        "outputId": "7a664ac0-4526-4b00-8f1f-a61fafe65edb",
        "colab": {
          "base_uri": "https://localhost:8080/"
        }
      },
      "source": [
        "# är värderna i kolumnen Identifier unika? dvs. kan vi använda den som identifierare?\n",
        "df['Identifier'].is_unique"
      ],
      "execution_count": 10,
      "outputs": [
        {
          "output_type": "execute_result",
          "data": {
            "text/plain": [
              "True"
            ]
          },
          "metadata": {},
          "execution_count": 10
        }
      ]
    },
    {
      "cell_type": "markdown",
      "metadata": {
        "id": "Xa-YGqDME2e9"
      },
      "source": [
        "Alla värden i kolumnen är unika, så vi bör kunna använda kolumnen som unik identifierare. "
      ]
    },
    {
      "cell_type": "code",
      "metadata": {
        "id": "8KvJy6lTE2e9",
        "outputId": "7d81cea2-a79b-43a4-e5dc-fdb2476df77f",
        "colab": {
          "base_uri": "https://localhost:8080/",
          "height": 320
        }
      },
      "source": [
        "# byta ut det autogenererade index mot Identifier som index. \n",
        "# använder set_index funktionen, sätter Identifier till index.\n",
        "# efter det kan vi använda Identifiervärden som identifierare i vårt dataset\n",
        "df.set_index('Identifier', inplace=True)\n",
        "df.head()"
      ],
      "execution_count": 11,
      "outputs": [
        {
          "output_type": "execute_result",
          "data": {
            "text/html": [
              "<div>\n",
              "<style scoped>\n",
              "    .dataframe tbody tr th:only-of-type {\n",
              "        vertical-align: middle;\n",
              "    }\n",
              "\n",
              "    .dataframe tbody tr th {\n",
              "        vertical-align: top;\n",
              "    }\n",
              "\n",
              "    .dataframe thead th {\n",
              "        text-align: right;\n",
              "    }\n",
              "</style>\n",
              "<table border=\"1\" class=\"dataframe\">\n",
              "  <thead>\n",
              "    <tr style=\"text-align: right;\">\n",
              "      <th></th>\n",
              "      <th>Place of Publication</th>\n",
              "      <th>Date of Publication</th>\n",
              "      <th>Publisher</th>\n",
              "      <th>Title</th>\n",
              "      <th>Author</th>\n",
              "      <th>Contributors</th>\n",
              "      <th>Flickr URL</th>\n",
              "    </tr>\n",
              "    <tr>\n",
              "      <th>Identifier</th>\n",
              "      <th></th>\n",
              "      <th></th>\n",
              "      <th></th>\n",
              "      <th></th>\n",
              "      <th></th>\n",
              "      <th></th>\n",
              "      <th></th>\n",
              "    </tr>\n",
              "  </thead>\n",
              "  <tbody>\n",
              "    <tr>\n",
              "      <th>206</th>\n",
              "      <td>London</td>\n",
              "      <td>1879 [1878]</td>\n",
              "      <td>S. Tinsley &amp; Co.</td>\n",
              "      <td>Walter Forbes. [A novel.] By A. A</td>\n",
              "      <td>A. A.</td>\n",
              "      <td>FORBES, Walter.</td>\n",
              "      <td>http://www.flickr.com/photos/britishlibrary/ta...</td>\n",
              "    </tr>\n",
              "    <tr>\n",
              "      <th>216</th>\n",
              "      <td>London; Virtue &amp; Yorston</td>\n",
              "      <td>1868</td>\n",
              "      <td>Virtue &amp; Co.</td>\n",
              "      <td>All for Greed. [A novel. The dedication signed...</td>\n",
              "      <td>A., A. A.</td>\n",
              "      <td>BLAZE DE BURY, Marie Pauline Rose - Baroness</td>\n",
              "      <td>http://www.flickr.com/photos/britishlibrary/ta...</td>\n",
              "    </tr>\n",
              "    <tr>\n",
              "      <th>218</th>\n",
              "      <td>London</td>\n",
              "      <td>1869</td>\n",
              "      <td>Bradbury, Evans &amp; Co.</td>\n",
              "      <td>Love the Avenger. By the author of “All for Gr...</td>\n",
              "      <td>A., A. A.</td>\n",
              "      <td>BLAZE DE BURY, Marie Pauline Rose - Baroness</td>\n",
              "      <td>http://www.flickr.com/photos/britishlibrary/ta...</td>\n",
              "    </tr>\n",
              "    <tr>\n",
              "      <th>472</th>\n",
              "      <td>London</td>\n",
              "      <td>1851</td>\n",
              "      <td>James Darling</td>\n",
              "      <td>Welsh Sketches, chiefly ecclesiastical, to the...</td>\n",
              "      <td>A., E. S.</td>\n",
              "      <td>Appleyard, Ernest Silvanus.</td>\n",
              "      <td>http://www.flickr.com/photos/britishlibrary/ta...</td>\n",
              "    </tr>\n",
              "    <tr>\n",
              "      <th>480</th>\n",
              "      <td>London</td>\n",
              "      <td>1857</td>\n",
              "      <td>Wertheim &amp; Macintosh</td>\n",
              "      <td>[The World in which I live, and my place in it...</td>\n",
              "      <td>A., E. S.</td>\n",
              "      <td>BROOME, John Henry.</td>\n",
              "      <td>http://www.flickr.com/photos/britishlibrary/ta...</td>\n",
              "    </tr>\n",
              "  </tbody>\n",
              "</table>\n",
              "</div>"
            ],
            "text/plain": [
              "                Place of Publication  ...                                         Flickr URL\n",
              "Identifier                            ...                                                   \n",
              "206                           London  ...  http://www.flickr.com/photos/britishlibrary/ta...\n",
              "216         London; Virtue & Yorston  ...  http://www.flickr.com/photos/britishlibrary/ta...\n",
              "218                           London  ...  http://www.flickr.com/photos/britishlibrary/ta...\n",
              "472                           London  ...  http://www.flickr.com/photos/britishlibrary/ta...\n",
              "480                           London  ...  http://www.flickr.com/photos/britishlibrary/ta...\n",
              "\n",
              "[5 rows x 7 columns]"
            ]
          },
          "metadata": {},
          "execution_count": 11
        }
      ]
    },
    {
      "cell_type": "markdown",
      "metadata": {
        "id": "6728zy6xE2e-"
      },
      "source": [
        "Visa enskilda objekt (rader). "
      ]
    },
    {
      "cell_type": "code",
      "metadata": {
        "id": "G2SbRNH9E2e-",
        "outputId": "cc3b2407-56b8-4842-aa05-6d885c673155",
        "colab": {
          "base_uri": "https://localhost:8080/"
        }
      },
      "source": [
        "# df.loc[206] ger oss objektet 206\n",
        "\n",
        "df.loc[206]"
      ],
      "execution_count": 12,
      "outputs": [
        {
          "output_type": "execute_result",
          "data": {
            "text/plain": [
              "Place of Publication                                               London\n",
              "Date of Publication                                           1879 [1878]\n",
              "Publisher                                                S. Tinsley & Co.\n",
              "Title                                   Walter Forbes. [A novel.] By A. A\n",
              "Author                                                              A. A.\n",
              "Contributors                                              FORBES, Walter.\n",
              "Flickr URL              http://www.flickr.com/photos/britishlibrary/ta...\n",
              "Name: 206, dtype: object"
            ]
          },
          "metadata": {},
          "execution_count": 12
        }
      ]
    },
    {
      "cell_type": "code",
      "metadata": {
        "id": "sYc_eks9E2e-",
        "outputId": "2dc1717d-0164-4ce4-e41f-391b2baba11b",
        "colab": {
          "base_uri": "https://localhost:8080/"
        }
      },
      "source": [
        "# För att visa ett register/objekt/rad baserat på position används iloc funktionen.\n",
        "\n",
        "df.iloc[0]"
      ],
      "execution_count": 13,
      "outputs": [
        {
          "output_type": "execute_result",
          "data": {
            "text/plain": [
              "Place of Publication                                               London\n",
              "Date of Publication                                           1879 [1878]\n",
              "Publisher                                                S. Tinsley & Co.\n",
              "Title                                   Walter Forbes. [A novel.] By A. A\n",
              "Author                                                              A. A.\n",
              "Contributors                                              FORBES, Walter.\n",
              "Flickr URL              http://www.flickr.com/photos/britishlibrary/ta...\n",
              "Name: 206, dtype: object"
            ]
          },
          "metadata": {},
          "execution_count": 13
        }
      ]
    },
    {
      "cell_type": "markdown",
      "metadata": {
        "id": "WwxUGF5PE2e-"
      },
      "source": [
        "Tvätta specifika kolumner och konvertera dem till ett enhetligt format."
      ]
    },
    {
      "cell_type": "code",
      "metadata": {
        "id": "xn5g-R5bE2e_",
        "outputId": "ddcb3058-8f2e-4a23-b313-aa68cce58579",
        "colab": {
          "base_uri": "https://localhost:8080/"
        }
      },
      "source": [
        "# Visa alla fält från index 1905 i kolumn 'Date of Publication'.\n",
        "\n",
        "df.loc[1905:, 'Date of Publication']\n",
        "\n"
      ],
      "execution_count": 14,
      "outputs": [
        {
          "output_type": "execute_result",
          "data": {
            "text/plain": [
              "Identifier\n",
              "1905              1888\n",
              "1929       1839, 38-54\n",
              "2836              1897\n",
              "2854              1865\n",
              "2956           1860-63\n",
              "              ...     \n",
              "4158088           1838\n",
              "4158128       1831, 32\n",
              "4159563      [1806]-22\n",
              "4159587           1834\n",
              "4160339        1834-43\n",
              "Name: Date of Publication, Length: 8275, dtype: object"
            ]
          },
          "metadata": {},
          "execution_count": 14
        }
      ]
    },
    {
      "cell_type": "markdown",
      "metadata": {
        "id": "ZIkRmphJE2e_"
      },
      "source": [
        "Här ser vi ett antal olika sätt att skriva datumet för när ett verk publicerades. Några med enbart årtal,\n",
        "någon med bracket, osv. Här kan vi välja att göra ett antal saker. T.ex. ta bort brackets, osv. Enklast är kanske att välja ut första instansen av fyra påvarandra följande tal och säga att det är publikationsåret. \n",
        "\n",
        "För att genomföra det använder vi en s.k. regular expression (r'^(\\d{4}).  Uttrycket beskriver ett mönster av fyra påvarandra följande tal. str.extract läser varje cell, extrahera fyra siffror, sätt cellen till det värdet. Här väljer vi att skapa en ny variabel extr och genomföra tvätt av data och spara detta i variabeln för att sedan kunna kontrollera att tvättningen blivit korrekt innan vi implementerar den i vårt dataframe df. "
      ]
    },
    {
      "cell_type": "code",
      "metadata": {
        "id": "MJ_8ubSqE2e_",
        "outputId": "3bb10504-b7f6-4953-a884-42b672f903f4",
        "colab": {
          "base_uri": "https://localhost:8080/"
        }
      },
      "source": [
        "extr = df['Date of Publication'].str.extract(r'^(\\d{4})', expand=False)\n",
        "\n",
        "# Visa resultatet. \n",
        "extr.loc[1905:]"
      ],
      "execution_count": 15,
      "outputs": [
        {
          "output_type": "execute_result",
          "data": {
            "text/plain": [
              "Identifier\n",
              "1905       1888\n",
              "1929       1839\n",
              "2836       1897\n",
              "2854       1865\n",
              "2956       1860\n",
              "           ... \n",
              "4158088    1838\n",
              "4158128    1831\n",
              "4159563     NaN\n",
              "4159587    1834\n",
              "4160339    1834\n",
              "Name: Date of Publication, Length: 8275, dtype: object"
            ]
          },
          "metadata": {},
          "execution_count": 15
        }
      ]
    },
    {
      "cell_type": "code",
      "metadata": {
        "id": "Q48O5zj4E2fA",
        "outputId": "a3ebd98d-3eb5-4f1d-a8ad-a80b57763cf2",
        "colab": {
          "base_uri": "https://localhost:8080/"
        }
      },
      "source": [
        "# Obs, variabeln df innehåller fortfarande den orensade varianten.\n",
        "\n",
        "df['Date of Publication']"
      ],
      "execution_count": 16,
      "outputs": [
        {
          "output_type": "execute_result",
          "data": {
            "text/plain": [
              "Identifier\n",
              "206        1879 [1878]\n",
              "216               1868\n",
              "218               1869\n",
              "472               1851\n",
              "480               1857\n",
              "              ...     \n",
              "4158088           1838\n",
              "4158128       1831, 32\n",
              "4159563      [1806]-22\n",
              "4159587           1834\n",
              "4160339        1834-43\n",
              "Name: Date of Publication, Length: 8287, dtype: object"
            ]
          },
          "metadata": {},
          "execution_count": 16
        }
      ]
    },
    {
      "cell_type": "markdown",
      "metadata": {
        "id": "LeOhtDr6E2fA"
      },
      "source": [
        "I och med att resultatet som variablen extr visade är tillfredställande så genomför vi samma tvätt av Date of publication i df. "
      ]
    },
    {
      "cell_type": "code",
      "metadata": {
        "id": "57yGfUs8E2fA"
      },
      "source": [
        "df['Date of Publication'] = df['Date of Publication'].str.extract(r'^(\\d{4})', expand=False)"
      ],
      "execution_count": 17,
      "outputs": []
    },
    {
      "cell_type": "code",
      "metadata": {
        "id": "LJIdznrIE2fA",
        "outputId": "4537730a-a2af-4797-9f11-a8675041b38b",
        "colab": {
          "base_uri": "https://localhost:8080/"
        }
      },
      "source": [
        "# Kontrollera reslutatet\n",
        "df['Date of Publication']"
      ],
      "execution_count": 18,
      "outputs": [
        {
          "output_type": "execute_result",
          "data": {
            "text/plain": [
              "Identifier\n",
              "206        1879\n",
              "216        1868\n",
              "218        1869\n",
              "472        1851\n",
              "480        1857\n",
              "           ... \n",
              "4158088    1838\n",
              "4158128    1831\n",
              "4159563     NaN\n",
              "4159587    1834\n",
              "4160339    1834\n",
              "Name: Date of Publication, Length: 8287, dtype: object"
            ]
          },
          "metadata": {},
          "execution_count": 18
        }
      ]
    },
    {
      "cell_type": "markdown",
      "metadata": {
        "id": "2_K7o6AHE2fB"
      },
      "source": [
        "Observera att NaN (not a number) finns fortfarande. För att undersöka hur många det finns i vårt data set kan isnull().sum() användas. Det retunerar antalet celler som är NaN (null).\n",
        "len(df) kan sedan användas för att ta reda på antalet rader i dataframe df."
      ]
    },
    {
      "cell_type": "code",
      "metadata": {
        "id": "G9vXcvk3E2fB",
        "outputId": "6f25124f-0736-4f52-e90e-9a68b262b47a",
        "colab": {
          "base_uri": "https://localhost:8080/"
        }
      },
      "source": [
        "a = df['Date of Publication'].isnull().sum()\n",
        "b = len(df)\n",
        "print(a)\n",
        "print(b)"
      ],
      "execution_count": 19,
      "outputs": [
        {
          "output_type": "stream",
          "name": "stdout",
          "text": [
            "971\n",
            "8287\n"
          ]
        }
      ]
    },
    {
      "cell_type": "code",
      "metadata": {
        "id": "YIii6s8yE2fB",
        "outputId": "99ee4639-2cb6-43e6-cf7f-6d29b355a3c2",
        "colab": {
          "base_uri": "https://localhost:8080/"
        }
      },
      "source": [
        "# Antalet null delat på antalet rader gånger 100 ger hur stor andel av cellerna som är null i procent. \n",
        "# Baserat på detta kan vi sedan betämma om vi ska ta bort dessa rader eller låta det vara. \n",
        "df['Date of Publication'].isnull().sum()/len(df)*100"
      ],
      "execution_count": 20,
      "outputs": [
        {
          "output_type": "execute_result",
          "data": {
            "text/plain": [
              "11.717147339205985"
            ]
          },
          "metadata": {},
          "execution_count": 20
        }
      ]
    },
    {
      "cell_type": "code",
      "metadata": {
        "id": "hfmEImbaE2fC",
        "outputId": "de0d3edd-89ad-43cd-cc08-29c8c62234dd",
        "colab": {
          "base_uri": "https://localhost:8080/"
        }
      },
      "source": [
        "# visa de 10 första raderna i kolumnen Place of Publication\n",
        "df['Place of Publication'].head(10)"
      ],
      "execution_count": 21,
      "outputs": [
        {
          "output_type": "execute_result",
          "data": {
            "text/plain": [
              "Identifier\n",
              "206                                  London\n",
              "216                London; Virtue & Yorston\n",
              "218                                  London\n",
              "472                                  London\n",
              "480                                  London\n",
              "481                                  London\n",
              "519                                  London\n",
              "667     pp. 40. G. Bryan & Co: Oxford, 1898\n",
              "874                                 London]\n",
              "1143                                 London\n",
              "Name: Place of Publication, dtype: object"
            ]
          },
          "metadata": {},
          "execution_count": 21
        }
      ]
    },
    {
      "cell_type": "markdown",
      "metadata": {
        "id": "O8hnrx2tE2fC"
      },
      "source": [
        "Här ser vi att publikationsplats skrivs på olika sätt. T.ex. 'London',  'London; Virtue & Yorston' "
      ]
    },
    {
      "cell_type": "code",
      "metadata": {
        "id": "Tk-MqlNBE2fD",
        "outputId": "16a069ca-93d7-4ec7-9011-7b80c3be3723",
        "colab": {
          "base_uri": "https://localhost:8080/"
        }
      },
      "source": [
        "# Visa en specifik rad. \n",
        "df.loc[4157862]"
      ],
      "execution_count": 22,
      "outputs": [
        {
          "output_type": "execute_result",
          "data": {
            "text/plain": [
              "Place of Publication                                  Newcastle-upon-Tyne\n",
              "Date of Publication                                                  1867\n",
              "Publisher                                                      T. Fordyce\n",
              "Title                   Local Records; or, Historical Register of rema...\n",
              "Author                      FORDYCE, T. - Printer, of Newcastle-upon-Tyne\n",
              "Contributors             SYKES, John - Bookseller, of Newcastle-upon-Tyne\n",
              "Flickr URL              http://www.flickr.com/photos/britishlibrary/ta...\n",
              "Name: 4157862, dtype: object"
            ]
          },
          "metadata": {},
          "execution_count": 22
        }
      ]
    },
    {
      "cell_type": "code",
      "metadata": {
        "id": "IEaHUqNkE2fD",
        "outputId": "e4712cbf-e7a4-4a1b-9547-51c24b745e39",
        "colab": {
          "base_uri": "https://localhost:8080/"
        }
      },
      "source": [
        "df.loc[4159587]"
      ],
      "execution_count": 23,
      "outputs": [
        {
          "output_type": "execute_result",
          "data": {
            "text/plain": [
              "Place of Publication                                  Newcastle upon Tyne\n",
              "Date of Publication                                                  1834\n",
              "Publisher                                                Mackenzie & Dent\n",
              "Title                   An historical, topographical and descriptive v...\n",
              "Author                                              Mackenzie, E. (Eneas)\n",
              "Contributors                                         ROSS, M. - of Durham\n",
              "Flickr URL              http://www.flickr.com/photos/britishlibrary/ta...\n",
              "Name: 4159587, dtype: object"
            ]
          },
          "metadata": {},
          "execution_count": 23
        }
      ]
    },
    {
      "cell_type": "markdown",
      "metadata": {
        "id": "7mwxM0eME2fD"
      },
      "source": [
        "Ett annat exempel där Newcastle upon Tyne skrivs på olika sätt. \n",
        "\n",
        "Vad ska vi ha för strategi för att tvätta data i kolumnen? \n",
        "\n",
        "En strategi är att söka efter där London finns med i texten och ersätta det med enbart strängen London, samma för Oxford. Vi kan också ersätta bindelstreck med vita tecken. Vi kan genomföra detta med hjälp av Numpy genom att skriva följande: "
      ]
    },
    {
      "cell_type": "code",
      "metadata": {
        "id": "p1zUUoL2E2fE"
      },
      "source": [
        "df['Place of Publication'] = np.where(df['Place of Publication'].str.contains('London'), 'London',\n",
        "                                np.where(df['Place of Publication'].str.contains('Oxford'), 'Oxford',\n",
        "                                  df['Place of Publication'].str.replace('-', ' ') ) )\n",
        "# Söker efter London och ersätter strängen med London. \n",
        "# Söker efter Oxford och ersätter strängen med Oxford. \n",
        "# Söker efter bindelsträck och ersätter med mellanslag. "
      ],
      "execution_count": 24,
      "outputs": []
    },
    {
      "cell_type": "code",
      "metadata": {
        "id": "se1odIIYE2fE",
        "outputId": "23ccdac6-c368-4983-9b8f-042cecf2f520",
        "colab": {
          "base_uri": "https://localhost:8080/",
          "height": 543
        }
      },
      "source": [
        "# kontrollera resultatet vi avgränsar till att visa de tio första raderna. \n",
        "df.head(10)"
      ],
      "execution_count": 25,
      "outputs": [
        {
          "output_type": "execute_result",
          "data": {
            "text/html": [
              "<div>\n",
              "<style scoped>\n",
              "    .dataframe tbody tr th:only-of-type {\n",
              "        vertical-align: middle;\n",
              "    }\n",
              "\n",
              "    .dataframe tbody tr th {\n",
              "        vertical-align: top;\n",
              "    }\n",
              "\n",
              "    .dataframe thead th {\n",
              "        text-align: right;\n",
              "    }\n",
              "</style>\n",
              "<table border=\"1\" class=\"dataframe\">\n",
              "  <thead>\n",
              "    <tr style=\"text-align: right;\">\n",
              "      <th></th>\n",
              "      <th>Place of Publication</th>\n",
              "      <th>Date of Publication</th>\n",
              "      <th>Publisher</th>\n",
              "      <th>Title</th>\n",
              "      <th>Author</th>\n",
              "      <th>Contributors</th>\n",
              "      <th>Flickr URL</th>\n",
              "    </tr>\n",
              "    <tr>\n",
              "      <th>Identifier</th>\n",
              "      <th></th>\n",
              "      <th></th>\n",
              "      <th></th>\n",
              "      <th></th>\n",
              "      <th></th>\n",
              "      <th></th>\n",
              "      <th></th>\n",
              "    </tr>\n",
              "  </thead>\n",
              "  <tbody>\n",
              "    <tr>\n",
              "      <th>206</th>\n",
              "      <td>London</td>\n",
              "      <td>1879</td>\n",
              "      <td>S. Tinsley &amp; Co.</td>\n",
              "      <td>Walter Forbes. [A novel.] By A. A</td>\n",
              "      <td>A. A.</td>\n",
              "      <td>FORBES, Walter.</td>\n",
              "      <td>http://www.flickr.com/photos/britishlibrary/ta...</td>\n",
              "    </tr>\n",
              "    <tr>\n",
              "      <th>216</th>\n",
              "      <td>London</td>\n",
              "      <td>1868</td>\n",
              "      <td>Virtue &amp; Co.</td>\n",
              "      <td>All for Greed. [A novel. The dedication signed...</td>\n",
              "      <td>A., A. A.</td>\n",
              "      <td>BLAZE DE BURY, Marie Pauline Rose - Baroness</td>\n",
              "      <td>http://www.flickr.com/photos/britishlibrary/ta...</td>\n",
              "    </tr>\n",
              "    <tr>\n",
              "      <th>218</th>\n",
              "      <td>London</td>\n",
              "      <td>1869</td>\n",
              "      <td>Bradbury, Evans &amp; Co.</td>\n",
              "      <td>Love the Avenger. By the author of “All for Gr...</td>\n",
              "      <td>A., A. A.</td>\n",
              "      <td>BLAZE DE BURY, Marie Pauline Rose - Baroness</td>\n",
              "      <td>http://www.flickr.com/photos/britishlibrary/ta...</td>\n",
              "    </tr>\n",
              "    <tr>\n",
              "      <th>472</th>\n",
              "      <td>London</td>\n",
              "      <td>1851</td>\n",
              "      <td>James Darling</td>\n",
              "      <td>Welsh Sketches, chiefly ecclesiastical, to the...</td>\n",
              "      <td>A., E. S.</td>\n",
              "      <td>Appleyard, Ernest Silvanus.</td>\n",
              "      <td>http://www.flickr.com/photos/britishlibrary/ta...</td>\n",
              "    </tr>\n",
              "    <tr>\n",
              "      <th>480</th>\n",
              "      <td>London</td>\n",
              "      <td>1857</td>\n",
              "      <td>Wertheim &amp; Macintosh</td>\n",
              "      <td>[The World in which I live, and my place in it...</td>\n",
              "      <td>A., E. S.</td>\n",
              "      <td>BROOME, John Henry.</td>\n",
              "      <td>http://www.flickr.com/photos/britishlibrary/ta...</td>\n",
              "    </tr>\n",
              "    <tr>\n",
              "      <th>481</th>\n",
              "      <td>London</td>\n",
              "      <td>1875</td>\n",
              "      <td>William Macintosh</td>\n",
              "      <td>[The World in which I live, and my place in it...</td>\n",
              "      <td>A., E. S.</td>\n",
              "      <td>BROOME, John Henry.</td>\n",
              "      <td>http://www.flickr.com/photos/britishlibrary/ta...</td>\n",
              "    </tr>\n",
              "    <tr>\n",
              "      <th>519</th>\n",
              "      <td>London</td>\n",
              "      <td>1872</td>\n",
              "      <td>The Author</td>\n",
              "      <td>Lagonells. By the author of Darmayne (F. E. A....</td>\n",
              "      <td>A., F. E.</td>\n",
              "      <td>ASHLEY, Florence Emily.</td>\n",
              "      <td>http://www.flickr.com/photos/britishlibrary/ta...</td>\n",
              "    </tr>\n",
              "    <tr>\n",
              "      <th>667</th>\n",
              "      <td>Oxford</td>\n",
              "      <td>NaN</td>\n",
              "      <td>NaN</td>\n",
              "      <td>The Coming of Spring, and other poems. By J. A...</td>\n",
              "      <td>A., J.|A., J.</td>\n",
              "      <td>ANDREWS, J. - Writer of Verse</td>\n",
              "      <td>http://www.flickr.com/photos/britishlibrary/ta...</td>\n",
              "    </tr>\n",
              "    <tr>\n",
              "      <th>874</th>\n",
              "      <td>London</td>\n",
              "      <td>1676</td>\n",
              "      <td>NaN</td>\n",
              "      <td>A Warning to the inhabitants of England, and L...</td>\n",
              "      <td>Remaʿ.</td>\n",
              "      <td>ADAMS, Mary.</td>\n",
              "      <td>http://www.flickr.com/photos/britishlibrary/ta...</td>\n",
              "    </tr>\n",
              "    <tr>\n",
              "      <th>1143</th>\n",
              "      <td>London</td>\n",
              "      <td>1679</td>\n",
              "      <td>NaN</td>\n",
              "      <td>A Satyr against Vertue. (A poem: supposed to b...</td>\n",
              "      <td>A., T.</td>\n",
              "      <td>OLDHAM, John.</td>\n",
              "      <td>http://www.flickr.com/photos/britishlibrary/ta...</td>\n",
              "    </tr>\n",
              "  </tbody>\n",
              "</table>\n",
              "</div>"
            ],
            "text/plain": [
              "           Place of Publication  ...                                         Flickr URL\n",
              "Identifier                       ...                                                   \n",
              "206                      London  ...  http://www.flickr.com/photos/britishlibrary/ta...\n",
              "216                      London  ...  http://www.flickr.com/photos/britishlibrary/ta...\n",
              "218                      London  ...  http://www.flickr.com/photos/britishlibrary/ta...\n",
              "472                      London  ...  http://www.flickr.com/photos/britishlibrary/ta...\n",
              "480                      London  ...  http://www.flickr.com/photos/britishlibrary/ta...\n",
              "481                      London  ...  http://www.flickr.com/photos/britishlibrary/ta...\n",
              "519                      London  ...  http://www.flickr.com/photos/britishlibrary/ta...\n",
              "667                      Oxford  ...  http://www.flickr.com/photos/britishlibrary/ta...\n",
              "874                      London  ...  http://www.flickr.com/photos/britishlibrary/ta...\n",
              "1143                     London  ...  http://www.flickr.com/photos/britishlibrary/ta...\n",
              "\n",
              "[10 rows x 7 columns]"
            ]
          },
          "metadata": {},
          "execution_count": 25
        }
      ]
    },
    {
      "cell_type": "code",
      "metadata": {
        "id": "BNkom1bAE2fE",
        "outputId": "7adad2b8-1b29-47f7-8804-7f0ab4c6ffe1",
        "colab": {
          "base_uri": "https://localhost:8080/"
        }
      },
      "source": [
        "# kontollera resulatet för objekt 4157862 som innehöll - i publikationsplats. \n",
        "df.loc[4157862]"
      ],
      "execution_count": 26,
      "outputs": [
        {
          "output_type": "execute_result",
          "data": {
            "text/plain": [
              "Place of Publication                                  Newcastle upon Tyne\n",
              "Date of Publication                                                  1867\n",
              "Publisher                                                      T. Fordyce\n",
              "Title                   Local Records; or, Historical Register of rema...\n",
              "Author                      FORDYCE, T. - Printer, of Newcastle-upon-Tyne\n",
              "Contributors             SYKES, John - Bookseller, of Newcastle-upon-Tyne\n",
              "Flickr URL              http://www.flickr.com/photos/britishlibrary/ta...\n",
              "Name: 4157862, dtype: object"
            ]
          },
          "metadata": {},
          "execution_count": 26
        }
      ]
    },
    {
      "cell_type": "markdown",
      "metadata": {
        "id": "4MJVyA0XE2fE"
      },
      "source": [
        "Om vi nu kontrollerar alla unika värden i kolumnen Place of Publication så ser vi att det finns mer som behöver tvättas. "
      ]
    },
    {
      "cell_type": "code",
      "metadata": {
        "id": "4RIQ1eB7E2fE",
        "outputId": "457051f0-946a-4097-9b58-8c1ca849adf5",
        "colab": {
          "base_uri": "https://localhost:8080/"
        }
      },
      "source": [
        "# Visa de 40 första unika värdena i kolumnen 'Place of Publication'. Vi ser att det finns mer som behöver tvättas. \n",
        "pd.Series(df['Place of Publication'].unique())[:40]"
      ],
      "execution_count": 27,
      "outputs": [
        {
          "output_type": "execute_result",
          "data": {
            "text/plain": [
              "0                                 London\n",
              "1                                 Oxford\n",
              "2                               Coventry\n",
              "3                            Christiania\n",
              "4                                Firenze\n",
              "5                              Amsterdam\n",
              "6                                 Savona\n",
              "7                                  Paris\n",
              "8                            Puerto Rico\n",
              "9                               New York\n",
              "10                                  Hull\n",
              "11                                Oxonii\n",
              "12                                Milano\n",
              "13                              Aberdeen\n",
              "14                                  Wien\n",
              "15                              Abingdon\n",
              "16                                Quebec\n",
              "17                               Leipzig\n",
              "18    pp. 40. W. Cann: Plymouth, [1876?]\n",
              "19                                  1845\n",
              "20                                   enk\n",
              "21                                Boston\n",
              "22                               Upsaliæ\n",
              "23                             Edinburgh\n",
              "24                               Yverdon\n",
              "25                               Londini\n",
              "26                        St. Petersburg\n",
              "27                                Berlin\n",
              "28                                Sceaux\n",
              "29                               Coblenz\n",
              "30                   Carlstad, Stockholm\n",
              "31                              Carlstad\n",
              "32                             A. Millar\n",
              "33                            Allahabad]\n",
              "34                             Stuttgart\n",
              "35                      D. Appleton & Co\n",
              "36                       Санктпетербургъ\n",
              "37                               Paisley\n",
              "38                                Napoli\n",
              "39                          Ἐν Κερκυρᾳ\n",
              "dtype: object"
            ]
          },
          "metadata": {},
          "execution_count": 27
        }
      ]
    },
    {
      "cell_type": "markdown",
      "metadata": {
        "id": "L1HAlSpRE2fE"
      },
      "source": [
        "## Nytt dataset\n",
        "Textfil med universitetsstäder. \n"
      ]
    },
    {
      "cell_type": "code",
      "metadata": {
        "id": "wwjn_3Y4E2fE",
        "outputId": "e311a67c-c905-463c-87ec-8a15cd108611",
        "colab": {
          "base_uri": "https://localhost:8080/"
        }
      },
      "source": [
        "uni_towns = open(path +'/university_towns.txt')\n",
        "uni_towns.readlines()[:20]"
      ],
      "execution_count": 28,
      "outputs": [
        {
          "output_type": "execute_result",
          "data": {
            "text/plain": [
              "['Alabama[edit]\\n',\n",
              " 'Auburn (Auburn University)[1]\\n',\n",
              " 'Florence (University of North Alabama)\\n',\n",
              " 'Jacksonville (Jacksonville State University)[2]\\n',\n",
              " 'Livingston (University of West Alabama)[2]\\n',\n",
              " 'Montevallo (University of Montevallo)[2]\\n',\n",
              " 'Troy (Troy University)[2]\\n',\n",
              " 'Tuscaloosa (University of Alabama, Stillman College, Shelton State)[3][4]\\n',\n",
              " 'Tuskegee (Tuskegee University)[5]\\n',\n",
              " 'Alaska[edit]\\n',\n",
              " 'Fairbanks (University of Alaska Fairbanks)[2]\\n',\n",
              " 'Arizona[edit]\\n',\n",
              " 'Flagstaff (Northern Arizona University)[6]\\n',\n",
              " 'Tempe (Arizona State University)\\n',\n",
              " 'Tucson (University of Arizona)\\n',\n",
              " 'Arkansas[edit]\\n',\n",
              " 'Arkadelphia (Henderson State University, Ouachita Baptist University)[2]\\n',\n",
              " 'Conway (Central Baptist College, Hendrix College, University of Central Arkansas)[2]\\n',\n",
              " 'Fayetteville (University of Arkansas)[7]\\n',\n",
              " 'Jonesboro (Arkansas State University)[8]\\n']"
            ]
          },
          "metadata": {},
          "execution_count": 28
        }
      ]
    },
    {
      "cell_type": "markdown",
      "metadata": {
        "id": "gmRiUhZZE2fE"
      },
      "source": [
        "För att kunna arbeta med ett dataframe och använda Pandas behöver dock textfilens innehåll läsas över (formateras) till en tabell. Hur kan vi göra det? \n",
        "\n",
        "Först ser vi delstaten följt av [edit]. Efter det kommer städer följt av namnet på universitetet, dvs. stad och universitet i den aktuella delstaten. För att konvertera till csvformat kan vi använda denna struktur, loopa igenom textfilen och plocka ut den del där Edit finns och använda det som avgränsning. Och sedan skapa en lista med delstat, stad och universitet. \n"
      ]
    },
    {
      "cell_type": "code",
      "metadata": {
        "id": "hZK1H8_jE2fF"
      },
      "source": [
        "uni_towns = []\n",
        "with open(path +'/university_towns.txt') as file:\n",
        "    for line in file:\n",
        "        if'[edit]' in line:\n",
        "            state = line\n",
        "        else:\n",
        "            uni_towns.append((state, line))\n",
        "\n",
        "\n",
        "# for-loopen går igenom alla rader i filen. Om en rad (line) innehåller [edit] får variabeln state värdet i raden. \n",
        "# dvs. om delstat hittas sätts state till den aktuella delstaten. \n",
        "# Om en rad inte innehåller [edit] motsvarar line den aktuella raden.\n",
        "# dvs. line sätts till stad och universitet\n",
        "# state och line paras ihop och läggs till i uni_towns.\n",
        "# hela filen loopas igenom på detta sätt\n",
        "\n",
        "# visa 20 första raderna i uni_towns efter att for-loopen körts. \n",
        "uni_towns[:20]"
      ],
      "execution_count": null,
      "outputs": []
    },
    {
      "cell_type": "code",
      "metadata": {
        "id": "C3rf5UGlE2fF",
        "outputId": "e9d8d001-85b8-460c-efd2-18c687ec5cad",
        "colab": {
          "base_uri": "https://localhost:8080/",
          "height": 669
        }
      },
      "source": [
        "# Lägga till i ett panda dataframe\n",
        "# Läggs i korrekt kolumn i och med att state och line är ihopparade. I funktionen namnges även kolumnrubrikerna. \n",
        "uni_towns_df = pd.DataFrame(uni_towns, columns=['State', 'Region Name'])\n",
        "uni_towns_df[:20]"
      ],
      "execution_count": 30,
      "outputs": [
        {
          "output_type": "execute_result",
          "data": {
            "text/html": [
              "<div>\n",
              "<style scoped>\n",
              "    .dataframe tbody tr th:only-of-type {\n",
              "        vertical-align: middle;\n",
              "    }\n",
              "\n",
              "    .dataframe tbody tr th {\n",
              "        vertical-align: top;\n",
              "    }\n",
              "\n",
              "    .dataframe thead th {\n",
              "        text-align: right;\n",
              "    }\n",
              "</style>\n",
              "<table border=\"1\" class=\"dataframe\">\n",
              "  <thead>\n",
              "    <tr style=\"text-align: right;\">\n",
              "      <th></th>\n",
              "      <th>State</th>\n",
              "      <th>Region Name</th>\n",
              "    </tr>\n",
              "  </thead>\n",
              "  <tbody>\n",
              "    <tr>\n",
              "      <th>0</th>\n",
              "      <td>Alabama[edit]\\n</td>\n",
              "      <td>Auburn (Auburn University)[1]\\n</td>\n",
              "    </tr>\n",
              "    <tr>\n",
              "      <th>1</th>\n",
              "      <td>Alabama[edit]\\n</td>\n",
              "      <td>Florence (University of North Alabama)\\n</td>\n",
              "    </tr>\n",
              "    <tr>\n",
              "      <th>2</th>\n",
              "      <td>Alabama[edit]\\n</td>\n",
              "      <td>Jacksonville (Jacksonville State University)[2]\\n</td>\n",
              "    </tr>\n",
              "    <tr>\n",
              "      <th>3</th>\n",
              "      <td>Alabama[edit]\\n</td>\n",
              "      <td>Livingston (University of West Alabama)[2]\\n</td>\n",
              "    </tr>\n",
              "    <tr>\n",
              "      <th>4</th>\n",
              "      <td>Alabama[edit]\\n</td>\n",
              "      <td>Montevallo (University of Montevallo)[2]\\n</td>\n",
              "    </tr>\n",
              "    <tr>\n",
              "      <th>5</th>\n",
              "      <td>Alabama[edit]\\n</td>\n",
              "      <td>Troy (Troy University)[2]\\n</td>\n",
              "    </tr>\n",
              "    <tr>\n",
              "      <th>6</th>\n",
              "      <td>Alabama[edit]\\n</td>\n",
              "      <td>Tuscaloosa (University of Alabama, Stillman Co...</td>\n",
              "    </tr>\n",
              "    <tr>\n",
              "      <th>7</th>\n",
              "      <td>Alabama[edit]\\n</td>\n",
              "      <td>Tuskegee (Tuskegee University)[5]\\n</td>\n",
              "    </tr>\n",
              "    <tr>\n",
              "      <th>8</th>\n",
              "      <td>Alaska[edit]\\n</td>\n",
              "      <td>Fairbanks (University of Alaska Fairbanks)[2]\\n</td>\n",
              "    </tr>\n",
              "    <tr>\n",
              "      <th>9</th>\n",
              "      <td>Arizona[edit]\\n</td>\n",
              "      <td>Flagstaff (Northern Arizona University)[6]\\n</td>\n",
              "    </tr>\n",
              "    <tr>\n",
              "      <th>10</th>\n",
              "      <td>Arizona[edit]\\n</td>\n",
              "      <td>Tempe (Arizona State University)\\n</td>\n",
              "    </tr>\n",
              "    <tr>\n",
              "      <th>11</th>\n",
              "      <td>Arizona[edit]\\n</td>\n",
              "      <td>Tucson (University of Arizona)\\n</td>\n",
              "    </tr>\n",
              "    <tr>\n",
              "      <th>12</th>\n",
              "      <td>Arkansas[edit]\\n</td>\n",
              "      <td>Arkadelphia (Henderson State University, Ouach...</td>\n",
              "    </tr>\n",
              "    <tr>\n",
              "      <th>13</th>\n",
              "      <td>Arkansas[edit]\\n</td>\n",
              "      <td>Conway (Central Baptist College, Hendrix Colle...</td>\n",
              "    </tr>\n",
              "    <tr>\n",
              "      <th>14</th>\n",
              "      <td>Arkansas[edit]\\n</td>\n",
              "      <td>Fayetteville (University of Arkansas)[7]\\n</td>\n",
              "    </tr>\n",
              "    <tr>\n",
              "      <th>15</th>\n",
              "      <td>Arkansas[edit]\\n</td>\n",
              "      <td>Jonesboro (Arkansas State University)[8]\\n</td>\n",
              "    </tr>\n",
              "    <tr>\n",
              "      <th>16</th>\n",
              "      <td>Arkansas[edit]\\n</td>\n",
              "      <td>Magnolia (Southern Arkansas University)[2]\\n</td>\n",
              "    </tr>\n",
              "    <tr>\n",
              "      <th>17</th>\n",
              "      <td>Arkansas[edit]\\n</td>\n",
              "      <td>Monticello (University of Arkansas at Monticel...</td>\n",
              "    </tr>\n",
              "    <tr>\n",
              "      <th>18</th>\n",
              "      <td>Arkansas[edit]\\n</td>\n",
              "      <td>Russellville (Arkansas Tech University)[2]\\n</td>\n",
              "    </tr>\n",
              "    <tr>\n",
              "      <th>19</th>\n",
              "      <td>Arkansas[edit]\\n</td>\n",
              "      <td>Searcy (Harding University)[5]\\n</td>\n",
              "    </tr>\n",
              "  </tbody>\n",
              "</table>\n",
              "</div>"
            ],
            "text/plain": [
              "               State                                        Region Name\n",
              "0    Alabama[edit]\\n                    Auburn (Auburn University)[1]\\n\n",
              "1    Alabama[edit]\\n           Florence (University of North Alabama)\\n\n",
              "2    Alabama[edit]\\n  Jacksonville (Jacksonville State University)[2]\\n\n",
              "3    Alabama[edit]\\n       Livingston (University of West Alabama)[2]\\n\n",
              "4    Alabama[edit]\\n         Montevallo (University of Montevallo)[2]\\n\n",
              "5    Alabama[edit]\\n                        Troy (Troy University)[2]\\n\n",
              "6    Alabama[edit]\\n  Tuscaloosa (University of Alabama, Stillman Co...\n",
              "7    Alabama[edit]\\n                Tuskegee (Tuskegee University)[5]\\n\n",
              "8     Alaska[edit]\\n    Fairbanks (University of Alaska Fairbanks)[2]\\n\n",
              "9    Arizona[edit]\\n       Flagstaff (Northern Arizona University)[6]\\n\n",
              "10   Arizona[edit]\\n                 Tempe (Arizona State University)\\n\n",
              "11   Arizona[edit]\\n                   Tucson (University of Arizona)\\n\n",
              "12  Arkansas[edit]\\n  Arkadelphia (Henderson State University, Ouach...\n",
              "13  Arkansas[edit]\\n  Conway (Central Baptist College, Hendrix Colle...\n",
              "14  Arkansas[edit]\\n         Fayetteville (University of Arkansas)[7]\\n\n",
              "15  Arkansas[edit]\\n         Jonesboro (Arkansas State University)[8]\\n\n",
              "16  Arkansas[edit]\\n       Magnolia (Southern Arkansas University)[2]\\n\n",
              "17  Arkansas[edit]\\n  Monticello (University of Arkansas at Monticel...\n",
              "18  Arkansas[edit]\\n       Russellville (Arkansas Tech University)[2]\\n\n",
              "19  Arkansas[edit]\\n                   Searcy (Harding University)[5]\\n"
            ]
          },
          "metadata": {},
          "execution_count": 30
        }
      ]
    },
    {
      "cell_type": "markdown",
      "metadata": {
        "id": "fBNJ0zjxE2fF"
      },
      "source": [
        " Vi behöver tvätta data, vi hade kunnat göra det direkt i for-loopen innan. Men vi kan även göra det genom att först definiera en funktion som undersöker om det finns ett mellanslag och en ( och om det finns bracket\n"
      ]
    },
    {
      "cell_type": "code",
      "metadata": {
        "id": "VFHOx6BKE2fF"
      },
      "source": [
        "\n",
        "def get_citystate (item):\n",
        "    if ' (' in item:\n",
        "        return item[:item.find(' (')]\n",
        "    elif '[' in item:\n",
        "        return item[:item.find('[')]\n",
        "    else:\n",
        "        return item\n",
        "    \n"
      ],
      "execution_count": 31,
      "outputs": []
    },
    {
      "cell_type": "code",
      "metadata": {
        "id": "Bsjn9g99E2fF",
        "outputId": "79177323-1609-46de-c161-62c5d925a5da",
        "colab": {
          "base_uri": "https://localhost:8080/"
        }
      },
      "source": [
        "# Inget har förändrats i vårt dataset, metoden har enbart definierats. \n",
        "uni_towns_df.loc[2]"
      ],
      "execution_count": 32,
      "outputs": [
        {
          "output_type": "execute_result",
          "data": {
            "text/plain": [
              "State                                            Alabama[edit]\\n\n",
              "Region Name    Jacksonville (Jacksonville State University)[2]\\n\n",
              "Name: 2, dtype: object"
            ]
          },
          "metadata": {},
          "execution_count": 32
        }
      ]
    },
    {
      "cell_type": "code",
      "metadata": {
        "id": "LHkcDn6eE2fF",
        "outputId": "fb0e3477-49c4-4f3d-9ab3-f3d7446859e7",
        "colab": {
          "base_uri": "https://localhost:8080/",
          "height": 35
        }
      },
      "source": [
        "# Metoden retunerar tvättad sträng, state\n",
        "get_citystate('Wyoming[edit]\\n')"
      ],
      "execution_count": 33,
      "outputs": [
        {
          "output_type": "execute_result",
          "data": {
            "application/vnd.google.colaboratory.intrinsic+json": {
              "type": "string"
            },
            "text/plain": [
              "'Wyoming'"
            ]
          },
          "metadata": {},
          "execution_count": 33
        }
      ]
    },
    {
      "cell_type": "code",
      "metadata": {
        "id": "08rclYbGE2fF",
        "outputId": "9c1baed1-e927-41e3-a68e-6b48b8599ba0",
        "colab": {
          "base_uri": "https://localhost:8080/",
          "height": 35
        }
      },
      "source": [
        "# metoden retunerar tvättad sträng, region name\n",
        "get_citystate('Eau Claire (University of Winsconsin-Eau Claire)\\n')"
      ],
      "execution_count": 34,
      "outputs": [
        {
          "output_type": "execute_result",
          "data": {
            "application/vnd.google.colaboratory.intrinsic+json": {
              "type": "string"
            },
            "text/plain": [
              "'Eau Claire'"
            ]
          },
          "metadata": {},
          "execution_count": 34
        }
      ]
    },
    {
      "cell_type": "code",
      "metadata": {
        "id": "Lxnz0jQPE2fF",
        "outputId": "6497e107-2d36-4176-efdb-a2489caa694a",
        "colab": {
          "base_uri": "https://localhost:8080/",
          "height": 669
        }
      },
      "source": [
        "# applymap kan sedan användas för att tvätta hela uni_towns_df.\n",
        "# dvs. funktionen applymap kör funktionen get_citystate för alla celler i df. \n",
        "\n",
        "uni_towns_df = uni_towns_df.applymap(get_citystate)\n",
        "uni_towns_df[:20]"
      ],
      "execution_count": 35,
      "outputs": [
        {
          "output_type": "execute_result",
          "data": {
            "text/html": [
              "<div>\n",
              "<style scoped>\n",
              "    .dataframe tbody tr th:only-of-type {\n",
              "        vertical-align: middle;\n",
              "    }\n",
              "\n",
              "    .dataframe tbody tr th {\n",
              "        vertical-align: top;\n",
              "    }\n",
              "\n",
              "    .dataframe thead th {\n",
              "        text-align: right;\n",
              "    }\n",
              "</style>\n",
              "<table border=\"1\" class=\"dataframe\">\n",
              "  <thead>\n",
              "    <tr style=\"text-align: right;\">\n",
              "      <th></th>\n",
              "      <th>State</th>\n",
              "      <th>Region Name</th>\n",
              "    </tr>\n",
              "  </thead>\n",
              "  <tbody>\n",
              "    <tr>\n",
              "      <th>0</th>\n",
              "      <td>Alabama</td>\n",
              "      <td>Auburn</td>\n",
              "    </tr>\n",
              "    <tr>\n",
              "      <th>1</th>\n",
              "      <td>Alabama</td>\n",
              "      <td>Florence</td>\n",
              "    </tr>\n",
              "    <tr>\n",
              "      <th>2</th>\n",
              "      <td>Alabama</td>\n",
              "      <td>Jacksonville</td>\n",
              "    </tr>\n",
              "    <tr>\n",
              "      <th>3</th>\n",
              "      <td>Alabama</td>\n",
              "      <td>Livingston</td>\n",
              "    </tr>\n",
              "    <tr>\n",
              "      <th>4</th>\n",
              "      <td>Alabama</td>\n",
              "      <td>Montevallo</td>\n",
              "    </tr>\n",
              "    <tr>\n",
              "      <th>5</th>\n",
              "      <td>Alabama</td>\n",
              "      <td>Troy</td>\n",
              "    </tr>\n",
              "    <tr>\n",
              "      <th>6</th>\n",
              "      <td>Alabama</td>\n",
              "      <td>Tuscaloosa</td>\n",
              "    </tr>\n",
              "    <tr>\n",
              "      <th>7</th>\n",
              "      <td>Alabama</td>\n",
              "      <td>Tuskegee</td>\n",
              "    </tr>\n",
              "    <tr>\n",
              "      <th>8</th>\n",
              "      <td>Alaska</td>\n",
              "      <td>Fairbanks</td>\n",
              "    </tr>\n",
              "    <tr>\n",
              "      <th>9</th>\n",
              "      <td>Arizona</td>\n",
              "      <td>Flagstaff</td>\n",
              "    </tr>\n",
              "    <tr>\n",
              "      <th>10</th>\n",
              "      <td>Arizona</td>\n",
              "      <td>Tempe</td>\n",
              "    </tr>\n",
              "    <tr>\n",
              "      <th>11</th>\n",
              "      <td>Arizona</td>\n",
              "      <td>Tucson</td>\n",
              "    </tr>\n",
              "    <tr>\n",
              "      <th>12</th>\n",
              "      <td>Arkansas</td>\n",
              "      <td>Arkadelphia</td>\n",
              "    </tr>\n",
              "    <tr>\n",
              "      <th>13</th>\n",
              "      <td>Arkansas</td>\n",
              "      <td>Conway</td>\n",
              "    </tr>\n",
              "    <tr>\n",
              "      <th>14</th>\n",
              "      <td>Arkansas</td>\n",
              "      <td>Fayetteville</td>\n",
              "    </tr>\n",
              "    <tr>\n",
              "      <th>15</th>\n",
              "      <td>Arkansas</td>\n",
              "      <td>Jonesboro</td>\n",
              "    </tr>\n",
              "    <tr>\n",
              "      <th>16</th>\n",
              "      <td>Arkansas</td>\n",
              "      <td>Magnolia</td>\n",
              "    </tr>\n",
              "    <tr>\n",
              "      <th>17</th>\n",
              "      <td>Arkansas</td>\n",
              "      <td>Monticello</td>\n",
              "    </tr>\n",
              "    <tr>\n",
              "      <th>18</th>\n",
              "      <td>Arkansas</td>\n",
              "      <td>Russellville</td>\n",
              "    </tr>\n",
              "    <tr>\n",
              "      <th>19</th>\n",
              "      <td>Arkansas</td>\n",
              "      <td>Searcy</td>\n",
              "    </tr>\n",
              "  </tbody>\n",
              "</table>\n",
              "</div>"
            ],
            "text/plain": [
              "       State   Region Name\n",
              "0    Alabama        Auburn\n",
              "1    Alabama      Florence\n",
              "2    Alabama  Jacksonville\n",
              "3    Alabama    Livingston\n",
              "4    Alabama    Montevallo\n",
              "5    Alabama          Troy\n",
              "6    Alabama    Tuscaloosa\n",
              "7    Alabama      Tuskegee\n",
              "8     Alaska     Fairbanks\n",
              "9    Arizona     Flagstaff\n",
              "10   Arizona         Tempe\n",
              "11   Arizona        Tucson\n",
              "12  Arkansas   Arkadelphia\n",
              "13  Arkansas        Conway\n",
              "14  Arkansas  Fayetteville\n",
              "15  Arkansas     Jonesboro\n",
              "16  Arkansas      Magnolia\n",
              "17  Arkansas    Monticello\n",
              "18  Arkansas  Russellville\n",
              "19  Arkansas        Searcy"
            ]
          },
          "metadata": {},
          "execution_count": 35
        }
      ]
    },
    {
      "cell_type": "markdown",
      "metadata": {
        "id": "y2dU9pDFE2fG"
      },
      "source": [
        "Nu har vi tvättad data i hela vårt dataset."
      ]
    }
  ]
}