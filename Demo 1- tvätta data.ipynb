{
 "cells": [
  {
   "cell_type": "markdown",
   "metadata": {
    "colab_type": "text",
    "id": "view-in-github"
   },
   "source": [
    "<a href=\"https://colab.research.google.com/github/2IS239-Data-Analytics/Code_along_1/blob/main/Demo%201-%20tva%CC%88tta%20data.ipynb\" target=\"_parent\"><img src=\"https://colab.research.google.com/assets/colab-badge.svg\" alt=\"Open In Colab\"/></a>"
   ]
  },
  {
   "cell_type": "markdown",
   "metadata": {
    "id": "YA2KMavdE2e0"
   },
   "source": [
    "## Demo - tvätta data med Pandas och Numpy\n",
    "\n",
    "Klick på Kernel och välj restart and Clear Output om ni vill ta bort all output och testa att köra koden själva. \n",
    "\n",
    "Beroende på hur ni väljer att köra Jupyter kan Pandas och Numpy behöva installeras. Om det inte går att importera i nästa steg så genomför följande installation. "
   ]
  },
  {
   "cell_type": "code",
   "execution_count": null,
   "metadata": {
    "id": "86u6SFVDE2e3"
   },
   "outputs": [],
   "source": [
    "pip install pandas"
   ]
  },
  {
   "cell_type": "code",
   "execution_count": 1,
   "metadata": {
    "id": "jXmSyPrIE2e4"
   },
   "outputs": [],
   "source": [
    "#importera pandas och numpy\n",
    "import pandas as pd\n",
    "import numpy as np\n"
   ]
  },
  {
   "cell_type": "code",
   "execution_count": 9,
   "metadata": {
    "id": "0jYiSHIzInES"
   },
   "outputs": [],
   "source": [
    "url= \"data_code_along/BL-Flickr-Images-Book.csv\"\n",
    "df = pd.read_csv(url)"
   ]
  },
  {
   "cell_type": "markdown",
   "metadata": {
    "id": "kpqAJBGlE2e4"
   },
   "source": [
    "Ladda det dataset som vi kommer att jobba med. Finns i filen BL-Flickr-Images-Book.csv som är en CSV fil som innehåller information om böcker från the British Library. "
   ]
  },
  {
   "cell_type": "code",
   "execution_count": 10,
   "metadata": {
    "id": "ZTX3A8r3E2e5",
    "scrolled": true
   },
   "outputs": [
    {
     "data": {
      "text/html": [
       "<div>\n",
       "<style scoped>\n",
       "    .dataframe tbody tr th:only-of-type {\n",
       "        vertical-align: middle;\n",
       "    }\n",
       "\n",
       "    .dataframe tbody tr th {\n",
       "        vertical-align: top;\n",
       "    }\n",
       "\n",
       "    .dataframe thead th {\n",
       "        text-align: right;\n",
       "    }\n",
       "</style>\n",
       "<table border=\"1\" class=\"dataframe\">\n",
       "  <thead>\n",
       "    <tr style=\"text-align: right;\">\n",
       "      <th></th>\n",
       "      <th>Identifier</th>\n",
       "      <th>Edition Statement</th>\n",
       "      <th>Place of Publication</th>\n",
       "      <th>Date of Publication</th>\n",
       "      <th>Publisher</th>\n",
       "      <th>Title</th>\n",
       "      <th>Author</th>\n",
       "      <th>Contributors</th>\n",
       "      <th>Corporate Author</th>\n",
       "      <th>Corporate Contributors</th>\n",
       "      <th>Former owner</th>\n",
       "      <th>Engraver</th>\n",
       "      <th>Issuance type</th>\n",
       "      <th>Flickr URL</th>\n",
       "      <th>Shelfmarks</th>\n",
       "    </tr>\n",
       "  </thead>\n",
       "  <tbody>\n",
       "    <tr>\n",
       "      <th>0</th>\n",
       "      <td>206</td>\n",
       "      <td>NaN</td>\n",
       "      <td>London</td>\n",
       "      <td>1879 [1878]</td>\n",
       "      <td>S. Tinsley &amp; Co.</td>\n",
       "      <td>Walter Forbes. [A novel.] By A. A</td>\n",
       "      <td>A. A.</td>\n",
       "      <td>FORBES, Walter.</td>\n",
       "      <td>NaN</td>\n",
       "      <td>NaN</td>\n",
       "      <td>NaN</td>\n",
       "      <td>NaN</td>\n",
       "      <td>monographic</td>\n",
       "      <td>http://www.flickr.com/photos/britishlibrary/ta...</td>\n",
       "      <td>British Library HMNTS 12641.b.30.</td>\n",
       "    </tr>\n",
       "    <tr>\n",
       "      <th>1</th>\n",
       "      <td>216</td>\n",
       "      <td>NaN</td>\n",
       "      <td>London; Virtue &amp; Yorston</td>\n",
       "      <td>1868</td>\n",
       "      <td>Virtue &amp; Co.</td>\n",
       "      <td>All for Greed. [A novel. The dedication signed...</td>\n",
       "      <td>A., A. A.</td>\n",
       "      <td>BLAZE DE BURY, Marie Pauline Rose - Baroness</td>\n",
       "      <td>NaN</td>\n",
       "      <td>NaN</td>\n",
       "      <td>NaN</td>\n",
       "      <td>NaN</td>\n",
       "      <td>monographic</td>\n",
       "      <td>http://www.flickr.com/photos/britishlibrary/ta...</td>\n",
       "      <td>British Library HMNTS 12626.cc.2.</td>\n",
       "    </tr>\n",
       "    <tr>\n",
       "      <th>2</th>\n",
       "      <td>218</td>\n",
       "      <td>NaN</td>\n",
       "      <td>London</td>\n",
       "      <td>1869</td>\n",
       "      <td>Bradbury, Evans &amp; Co.</td>\n",
       "      <td>Love the Avenger. By the author of “All for Gr...</td>\n",
       "      <td>A., A. A.</td>\n",
       "      <td>BLAZE DE BURY, Marie Pauline Rose - Baroness</td>\n",
       "      <td>NaN</td>\n",
       "      <td>NaN</td>\n",
       "      <td>NaN</td>\n",
       "      <td>NaN</td>\n",
       "      <td>monographic</td>\n",
       "      <td>http://www.flickr.com/photos/britishlibrary/ta...</td>\n",
       "      <td>British Library HMNTS 12625.dd.1.</td>\n",
       "    </tr>\n",
       "    <tr>\n",
       "      <th>3</th>\n",
       "      <td>472</td>\n",
       "      <td>NaN</td>\n",
       "      <td>London</td>\n",
       "      <td>1851</td>\n",
       "      <td>James Darling</td>\n",
       "      <td>Welsh Sketches, chiefly ecclesiastical, to the...</td>\n",
       "      <td>A., E. S.</td>\n",
       "      <td>Appleyard, Ernest Silvanus.</td>\n",
       "      <td>NaN</td>\n",
       "      <td>NaN</td>\n",
       "      <td>NaN</td>\n",
       "      <td>NaN</td>\n",
       "      <td>monographic</td>\n",
       "      <td>http://www.flickr.com/photos/britishlibrary/ta...</td>\n",
       "      <td>British Library HMNTS 10369.bbb.15.</td>\n",
       "    </tr>\n",
       "    <tr>\n",
       "      <th>4</th>\n",
       "      <td>480</td>\n",
       "      <td>A new edition, revised, etc.</td>\n",
       "      <td>London</td>\n",
       "      <td>1857</td>\n",
       "      <td>Wertheim &amp; Macintosh</td>\n",
       "      <td>[The World in which I live, and my place in it...</td>\n",
       "      <td>A., E. S.</td>\n",
       "      <td>BROOME, John Henry.</td>\n",
       "      <td>NaN</td>\n",
       "      <td>NaN</td>\n",
       "      <td>NaN</td>\n",
       "      <td>NaN</td>\n",
       "      <td>monographic</td>\n",
       "      <td>http://www.flickr.com/photos/britishlibrary/ta...</td>\n",
       "      <td>British Library HMNTS 9007.d.28.</td>\n",
       "    </tr>\n",
       "  </tbody>\n",
       "</table>\n",
       "</div>"
      ],
      "text/plain": [
       "   Identifier             Edition Statement      Place of Publication  \\\n",
       "0         206                           NaN                    London   \n",
       "1         216                           NaN  London; Virtue & Yorston   \n",
       "2         218                           NaN                    London   \n",
       "3         472                           NaN                    London   \n",
       "4         480  A new edition, revised, etc.                    London   \n",
       "\n",
       "  Date of Publication              Publisher  \\\n",
       "0         1879 [1878]       S. Tinsley & Co.   \n",
       "1                1868           Virtue & Co.   \n",
       "2                1869  Bradbury, Evans & Co.   \n",
       "3                1851          James Darling   \n",
       "4                1857   Wertheim & Macintosh   \n",
       "\n",
       "                                               Title     Author  \\\n",
       "0                  Walter Forbes. [A novel.] By A. A      A. A.   \n",
       "1  All for Greed. [A novel. The dedication signed...  A., A. A.   \n",
       "2  Love the Avenger. By the author of “All for Gr...  A., A. A.   \n",
       "3  Welsh Sketches, chiefly ecclesiastical, to the...  A., E. S.   \n",
       "4  [The World in which I live, and my place in it...  A., E. S.   \n",
       "\n",
       "                                   Contributors  Corporate Author  \\\n",
       "0                               FORBES, Walter.               NaN   \n",
       "1  BLAZE DE BURY, Marie Pauline Rose - Baroness               NaN   \n",
       "2  BLAZE DE BURY, Marie Pauline Rose - Baroness               NaN   \n",
       "3                   Appleyard, Ernest Silvanus.               NaN   \n",
       "4                           BROOME, John Henry.               NaN   \n",
       "\n",
       "   Corporate Contributors Former owner  Engraver Issuance type  \\\n",
       "0                     NaN          NaN       NaN   monographic   \n",
       "1                     NaN          NaN       NaN   monographic   \n",
       "2                     NaN          NaN       NaN   monographic   \n",
       "3                     NaN          NaN       NaN   monographic   \n",
       "4                     NaN          NaN       NaN   monographic   \n",
       "\n",
       "                                          Flickr URL  \\\n",
       "0  http://www.flickr.com/photos/britishlibrary/ta...   \n",
       "1  http://www.flickr.com/photos/britishlibrary/ta...   \n",
       "2  http://www.flickr.com/photos/britishlibrary/ta...   \n",
       "3  http://www.flickr.com/photos/britishlibrary/ta...   \n",
       "4  http://www.flickr.com/photos/britishlibrary/ta...   \n",
       "\n",
       "                            Shelfmarks  \n",
       "0    British Library HMNTS 12641.b.30.  \n",
       "1    British Library HMNTS 12626.cc.2.  \n",
       "2    British Library HMNTS 12625.dd.1.  \n",
       "3  British Library HMNTS 10369.bbb.15.  \n",
       "4     British Library HMNTS 9007.d.28.  "
      ]
     },
     "execution_count": 10,
     "metadata": {},
     "output_type": "execute_result"
    }
   ],
   "source": [
    "# Undersöka dataset \"huvud\", dvs. kolumn rubriken och de första raderna. \n",
    "df.head()"
   ]
  },
  {
   "cell_type": "code",
   "execution_count": 11,
   "metadata": {
    "colab": {
     "base_uri": "https://localhost:8080/"
    },
    "id": "_2WZINvGE2e6",
    "outputId": "f9fbd72f-6d20-4259-8db2-344dfa1cae21"
   },
   "outputs": [
    {
     "data": {
      "text/plain": [
       "Index(['Identifier', 'Edition Statement', 'Place of Publication',\n",
       "       'Date of Publication', 'Publisher', 'Title', 'Author', 'Contributors',\n",
       "       'Corporate Author', 'Corporate Contributors', 'Former owner',\n",
       "       'Engraver', 'Issuance type', 'Flickr URL', 'Shelfmarks'],\n",
       "      dtype='object')"
      ]
     },
     "execution_count": 11,
     "metadata": {},
     "output_type": "execute_result"
    }
   ],
   "source": [
    "# visa kolumner i dataset\n",
    "df.columns"
   ]
  },
  {
   "cell_type": "markdown",
   "metadata": {
    "id": "8qQWAe06E2e7"
   },
   "source": [
    "Ta bort kolumner som inte behövs i ett dataset."
   ]
  },
  {
   "cell_type": "code",
   "execution_count": 12,
   "metadata": {
    "colab": {
     "base_uri": "https://localhost:8080/",
     "height": 289
    },
    "id": "SeQt2xnNE2e7",
    "outputId": "042c1579-8855-4122-80f9-aa18faaaca55"
   },
   "outputs": [
    {
     "data": {
      "text/html": [
       "<div>\n",
       "<style scoped>\n",
       "    .dataframe tbody tr th:only-of-type {\n",
       "        vertical-align: middle;\n",
       "    }\n",
       "\n",
       "    .dataframe tbody tr th {\n",
       "        vertical-align: top;\n",
       "    }\n",
       "\n",
       "    .dataframe thead th {\n",
       "        text-align: right;\n",
       "    }\n",
       "</style>\n",
       "<table border=\"1\" class=\"dataframe\">\n",
       "  <thead>\n",
       "    <tr style=\"text-align: right;\">\n",
       "      <th></th>\n",
       "      <th>Identifier</th>\n",
       "      <th>Place of Publication</th>\n",
       "      <th>Date of Publication</th>\n",
       "      <th>Publisher</th>\n",
       "      <th>Title</th>\n",
       "      <th>Author</th>\n",
       "      <th>Contributors</th>\n",
       "      <th>Flickr URL</th>\n",
       "    </tr>\n",
       "  </thead>\n",
       "  <tbody>\n",
       "    <tr>\n",
       "      <th>0</th>\n",
       "      <td>206</td>\n",
       "      <td>London</td>\n",
       "      <td>1879 [1878]</td>\n",
       "      <td>S. Tinsley &amp; Co.</td>\n",
       "      <td>Walter Forbes. [A novel.] By A. A</td>\n",
       "      <td>A. A.</td>\n",
       "      <td>FORBES, Walter.</td>\n",
       "      <td>http://www.flickr.com/photos/britishlibrary/ta...</td>\n",
       "    </tr>\n",
       "    <tr>\n",
       "      <th>1</th>\n",
       "      <td>216</td>\n",
       "      <td>London; Virtue &amp; Yorston</td>\n",
       "      <td>1868</td>\n",
       "      <td>Virtue &amp; Co.</td>\n",
       "      <td>All for Greed. [A novel. The dedication signed...</td>\n",
       "      <td>A., A. A.</td>\n",
       "      <td>BLAZE DE BURY, Marie Pauline Rose - Baroness</td>\n",
       "      <td>http://www.flickr.com/photos/britishlibrary/ta...</td>\n",
       "    </tr>\n",
       "    <tr>\n",
       "      <th>2</th>\n",
       "      <td>218</td>\n",
       "      <td>London</td>\n",
       "      <td>1869</td>\n",
       "      <td>Bradbury, Evans &amp; Co.</td>\n",
       "      <td>Love the Avenger. By the author of “All for Gr...</td>\n",
       "      <td>A., A. A.</td>\n",
       "      <td>BLAZE DE BURY, Marie Pauline Rose - Baroness</td>\n",
       "      <td>http://www.flickr.com/photos/britishlibrary/ta...</td>\n",
       "    </tr>\n",
       "    <tr>\n",
       "      <th>3</th>\n",
       "      <td>472</td>\n",
       "      <td>London</td>\n",
       "      <td>1851</td>\n",
       "      <td>James Darling</td>\n",
       "      <td>Welsh Sketches, chiefly ecclesiastical, to the...</td>\n",
       "      <td>A., E. S.</td>\n",
       "      <td>Appleyard, Ernest Silvanus.</td>\n",
       "      <td>http://www.flickr.com/photos/britishlibrary/ta...</td>\n",
       "    </tr>\n",
       "    <tr>\n",
       "      <th>4</th>\n",
       "      <td>480</td>\n",
       "      <td>London</td>\n",
       "      <td>1857</td>\n",
       "      <td>Wertheim &amp; Macintosh</td>\n",
       "      <td>[The World in which I live, and my place in it...</td>\n",
       "      <td>A., E. S.</td>\n",
       "      <td>BROOME, John Henry.</td>\n",
       "      <td>http://www.flickr.com/photos/britishlibrary/ta...</td>\n",
       "    </tr>\n",
       "  </tbody>\n",
       "</table>\n",
       "</div>"
      ],
      "text/plain": [
       "   Identifier      Place of Publication Date of Publication  \\\n",
       "0         206                    London         1879 [1878]   \n",
       "1         216  London; Virtue & Yorston                1868   \n",
       "2         218                    London                1869   \n",
       "3         472                    London                1851   \n",
       "4         480                    London                1857   \n",
       "\n",
       "               Publisher                                              Title  \\\n",
       "0       S. Tinsley & Co.                  Walter Forbes. [A novel.] By A. A   \n",
       "1           Virtue & Co.  All for Greed. [A novel. The dedication signed...   \n",
       "2  Bradbury, Evans & Co.  Love the Avenger. By the author of “All for Gr...   \n",
       "3          James Darling  Welsh Sketches, chiefly ecclesiastical, to the...   \n",
       "4   Wertheim & Macintosh  [The World in which I live, and my place in it...   \n",
       "\n",
       "      Author                                  Contributors  \\\n",
       "0      A. A.                               FORBES, Walter.   \n",
       "1  A., A. A.  BLAZE DE BURY, Marie Pauline Rose - Baroness   \n",
       "2  A., A. A.  BLAZE DE BURY, Marie Pauline Rose - Baroness   \n",
       "3  A., E. S.                   Appleyard, Ernest Silvanus.   \n",
       "4  A., E. S.                           BROOME, John Henry.   \n",
       "\n",
       "                                          Flickr URL  \n",
       "0  http://www.flickr.com/photos/britishlibrary/ta...  \n",
       "1  http://www.flickr.com/photos/britishlibrary/ta...  \n",
       "2  http://www.flickr.com/photos/britishlibrary/ta...  \n",
       "3  http://www.flickr.com/photos/britishlibrary/ta...  \n",
       "4  http://www.flickr.com/photos/britishlibrary/ta...  "
      ]
     },
     "execution_count": 12,
     "metadata": {},
     "output_type": "execute_result"
    }
   ],
   "source": [
    "# Lägg först till kolumnnamn (labels) som ska tas bort i variabeln to_drop.\n",
    "to_drop = ['Edition Statement',\n",
    "           'Corporate Author', \n",
    "           'Corporate Contributors', \n",
    "           'Former owner',\n",
    "           'Engraver', \n",
    "           'Issuance type', \n",
    "           'Shelfmarks']\n",
    "\n",
    "# funktionen drop används sedan för att ta bort de kolumner som finns i strängen to_drop som skapades ovan. \n",
    "\n",
    "df.drop(to_drop, inplace=True, axis=1)\n",
    "df.head()\n",
    "\n",
    "# to_drop variabeln som innehåller lista med string med de labels som ska tas bort\n",
    "# inplace = True, dataframe i variabeln df modifieras istället för att retunera en kopia av denna dataframe. \n",
    "# axis används för att tala om vad som ska tas bort \n",
    "# axis=0 tar bort rader, axis = 1 tar bort kolumner, baserat på de labels som anges.\n",
    "# flera drop-funktioner: https://pandas.pydata.org/pandas-docs/stable/reference/api/pandas.DataFrame.drop.html"
   ]
  },
  {
   "cell_type": "markdown",
   "metadata": {
    "id": "knnOccXXE2e8"
   },
   "source": [
    "Index (första kolumnen, se ovan) genereras automatiskt av Panda när en csv fil laddas, detta för att panda inte vet på föväg vilken kolumn som ska användas som index. Nu vill vi ändra vilken kolumn som ska användas som identifierare till 'Identifier' men först behöver undersöka om raderna i kolumnen innehåller unika värden. "
   ]
  },
  {
   "cell_type": "code",
   "execution_count": 13,
   "metadata": {
    "colab": {
     "base_uri": "https://localhost:8080/"
    },
    "id": "lSaVYj9lE2e8",
    "outputId": "1280dfbb-91b1-49a6-8c3c-883ccfc153ea"
   },
   "outputs": [
    {
     "data": {
      "text/plain": [
       "0           206\n",
       "1           216\n",
       "2           218\n",
       "3           472\n",
       "4           480\n",
       "         ...   \n",
       "8282    4158088\n",
       "8283    4158128\n",
       "8284    4159563\n",
       "8285    4159587\n",
       "8286    4160339\n",
       "Name: Identifier, Length: 8287, dtype: int64"
      ]
     },
     "execution_count": 13,
     "metadata": {},
     "output_type": "execute_result"
    }
   ],
   "source": [
    "# funktionen nedan visar \"innehållet\" i en kolumn.\n",
    "# de fem första raderna och fem sista visas, även info om hur många rader, 8287 rader finns det i detta dataset. \n",
    "df['Identifier']"
   ]
  },
  {
   "cell_type": "code",
   "execution_count": 14,
   "metadata": {
    "colab": {
     "base_uri": "https://localhost:8080/"
    },
    "id": "pcZrvEPSE2e9",
    "outputId": "7a664ac0-4526-4b00-8f1f-a61fafe65edb"
   },
   "outputs": [
    {
     "data": {
      "text/plain": [
       "True"
      ]
     },
     "execution_count": 14,
     "metadata": {},
     "output_type": "execute_result"
    }
   ],
   "source": [
    "# är värderna i kolumnen Identifier unika? dvs. kan vi använda den som identifierare?\n",
    "df['Identifier'].is_unique"
   ]
  },
  {
   "cell_type": "markdown",
   "metadata": {
    "id": "Xa-YGqDME2e9"
   },
   "source": [
    "Alla värden i kolumnen är unika, så vi bör kunna använda kolumnen som unik identifierare. "
   ]
  },
  {
   "cell_type": "code",
   "execution_count": 15,
   "metadata": {
    "colab": {
     "base_uri": "https://localhost:8080/",
     "height": 320
    },
    "id": "8KvJy6lTE2e9",
    "outputId": "7d81cea2-a79b-43a4-e5dc-fdb2476df77f"
   },
   "outputs": [
    {
     "data": {
      "text/html": [
       "<div>\n",
       "<style scoped>\n",
       "    .dataframe tbody tr th:only-of-type {\n",
       "        vertical-align: middle;\n",
       "    }\n",
       "\n",
       "    .dataframe tbody tr th {\n",
       "        vertical-align: top;\n",
       "    }\n",
       "\n",
       "    .dataframe thead th {\n",
       "        text-align: right;\n",
       "    }\n",
       "</style>\n",
       "<table border=\"1\" class=\"dataframe\">\n",
       "  <thead>\n",
       "    <tr style=\"text-align: right;\">\n",
       "      <th></th>\n",
       "      <th>Place of Publication</th>\n",
       "      <th>Date of Publication</th>\n",
       "      <th>Publisher</th>\n",
       "      <th>Title</th>\n",
       "      <th>Author</th>\n",
       "      <th>Contributors</th>\n",
       "      <th>Flickr URL</th>\n",
       "    </tr>\n",
       "    <tr>\n",
       "      <th>Identifier</th>\n",
       "      <th></th>\n",
       "      <th></th>\n",
       "      <th></th>\n",
       "      <th></th>\n",
       "      <th></th>\n",
       "      <th></th>\n",
       "      <th></th>\n",
       "    </tr>\n",
       "  </thead>\n",
       "  <tbody>\n",
       "    <tr>\n",
       "      <th>206</th>\n",
       "      <td>London</td>\n",
       "      <td>1879 [1878]</td>\n",
       "      <td>S. Tinsley &amp; Co.</td>\n",
       "      <td>Walter Forbes. [A novel.] By A. A</td>\n",
       "      <td>A. A.</td>\n",
       "      <td>FORBES, Walter.</td>\n",
       "      <td>http://www.flickr.com/photos/britishlibrary/ta...</td>\n",
       "    </tr>\n",
       "    <tr>\n",
       "      <th>216</th>\n",
       "      <td>London; Virtue &amp; Yorston</td>\n",
       "      <td>1868</td>\n",
       "      <td>Virtue &amp; Co.</td>\n",
       "      <td>All for Greed. [A novel. The dedication signed...</td>\n",
       "      <td>A., A. A.</td>\n",
       "      <td>BLAZE DE BURY, Marie Pauline Rose - Baroness</td>\n",
       "      <td>http://www.flickr.com/photos/britishlibrary/ta...</td>\n",
       "    </tr>\n",
       "    <tr>\n",
       "      <th>218</th>\n",
       "      <td>London</td>\n",
       "      <td>1869</td>\n",
       "      <td>Bradbury, Evans &amp; Co.</td>\n",
       "      <td>Love the Avenger. By the author of “All for Gr...</td>\n",
       "      <td>A., A. A.</td>\n",
       "      <td>BLAZE DE BURY, Marie Pauline Rose - Baroness</td>\n",
       "      <td>http://www.flickr.com/photos/britishlibrary/ta...</td>\n",
       "    </tr>\n",
       "    <tr>\n",
       "      <th>472</th>\n",
       "      <td>London</td>\n",
       "      <td>1851</td>\n",
       "      <td>James Darling</td>\n",
       "      <td>Welsh Sketches, chiefly ecclesiastical, to the...</td>\n",
       "      <td>A., E. S.</td>\n",
       "      <td>Appleyard, Ernest Silvanus.</td>\n",
       "      <td>http://www.flickr.com/photos/britishlibrary/ta...</td>\n",
       "    </tr>\n",
       "    <tr>\n",
       "      <th>480</th>\n",
       "      <td>London</td>\n",
       "      <td>1857</td>\n",
       "      <td>Wertheim &amp; Macintosh</td>\n",
       "      <td>[The World in which I live, and my place in it...</td>\n",
       "      <td>A., E. S.</td>\n",
       "      <td>BROOME, John Henry.</td>\n",
       "      <td>http://www.flickr.com/photos/britishlibrary/ta...</td>\n",
       "    </tr>\n",
       "  </tbody>\n",
       "</table>\n",
       "</div>"
      ],
      "text/plain": [
       "                Place of Publication Date of Publication  \\\n",
       "Identifier                                                 \n",
       "206                           London         1879 [1878]   \n",
       "216         London; Virtue & Yorston                1868   \n",
       "218                           London                1869   \n",
       "472                           London                1851   \n",
       "480                           London                1857   \n",
       "\n",
       "                        Publisher  \\\n",
       "Identifier                          \n",
       "206              S. Tinsley & Co.   \n",
       "216                  Virtue & Co.   \n",
       "218         Bradbury, Evans & Co.   \n",
       "472                 James Darling   \n",
       "480          Wertheim & Macintosh   \n",
       "\n",
       "                                                        Title     Author  \\\n",
       "Identifier                                                                 \n",
       "206                         Walter Forbes. [A novel.] By A. A      A. A.   \n",
       "216         All for Greed. [A novel. The dedication signed...  A., A. A.   \n",
       "218         Love the Avenger. By the author of “All for Gr...  A., A. A.   \n",
       "472         Welsh Sketches, chiefly ecclesiastical, to the...  A., E. S.   \n",
       "480         [The World in which I live, and my place in it...  A., E. S.   \n",
       "\n",
       "                                            Contributors  \\\n",
       "Identifier                                                 \n",
       "206                                      FORBES, Walter.   \n",
       "216         BLAZE DE BURY, Marie Pauline Rose - Baroness   \n",
       "218         BLAZE DE BURY, Marie Pauline Rose - Baroness   \n",
       "472                          Appleyard, Ernest Silvanus.   \n",
       "480                                  BROOME, John Henry.   \n",
       "\n",
       "                                                   Flickr URL  \n",
       "Identifier                                                     \n",
       "206         http://www.flickr.com/photos/britishlibrary/ta...  \n",
       "216         http://www.flickr.com/photos/britishlibrary/ta...  \n",
       "218         http://www.flickr.com/photos/britishlibrary/ta...  \n",
       "472         http://www.flickr.com/photos/britishlibrary/ta...  \n",
       "480         http://www.flickr.com/photos/britishlibrary/ta...  "
      ]
     },
     "execution_count": 15,
     "metadata": {},
     "output_type": "execute_result"
    }
   ],
   "source": [
    "# byta ut det autogenererade index mot Identifier som index. \n",
    "# använder set_index funktionen, sätter Identifier till index.\n",
    "# efter det kan vi använda Identifiervärden som identifierare i vårt dataset\n",
    "df.set_index('Identifier', inplace=True)\n",
    "df.head()"
   ]
  },
  {
   "cell_type": "markdown",
   "metadata": {
    "id": "6728zy6xE2e-"
   },
   "source": [
    "Visa enskilda objekt (rader). "
   ]
  },
  {
   "cell_type": "code",
   "execution_count": 16,
   "metadata": {
    "colab": {
     "base_uri": "https://localhost:8080/"
    },
    "id": "G2SbRNH9E2e-",
    "outputId": "cc3b2407-56b8-4842-aa05-6d885c673155"
   },
   "outputs": [
    {
     "data": {
      "text/plain": [
       "Place of Publication                                               London\n",
       "Date of Publication                                           1879 [1878]\n",
       "Publisher                                                S. Tinsley & Co.\n",
       "Title                                   Walter Forbes. [A novel.] By A. A\n",
       "Author                                                              A. A.\n",
       "Contributors                                              FORBES, Walter.\n",
       "Flickr URL              http://www.flickr.com/photos/britishlibrary/ta...\n",
       "Name: 206, dtype: object"
      ]
     },
     "execution_count": 16,
     "metadata": {},
     "output_type": "execute_result"
    }
   ],
   "source": [
    "# df.loc[206] ger oss objektet med index 206\n",
    "\n",
    "df.loc[206]"
   ]
  },
  {
   "cell_type": "code",
   "execution_count": 17,
   "metadata": {
    "colab": {
     "base_uri": "https://localhost:8080/"
    },
    "id": "sYc_eks9E2e-",
    "outputId": "2dc1717d-0164-4ce4-e41f-391b2baba11b"
   },
   "outputs": [
    {
     "data": {
      "text/plain": [
       "Place of Publication                                               London\n",
       "Date of Publication                                           1879 [1878]\n",
       "Publisher                                                S. Tinsley & Co.\n",
       "Title                                   Walter Forbes. [A novel.] By A. A\n",
       "Author                                                              A. A.\n",
       "Contributors                                              FORBES, Walter.\n",
       "Flickr URL              http://www.flickr.com/photos/britishlibrary/ta...\n",
       "Name: 206, dtype: object"
      ]
     },
     "execution_count": 17,
     "metadata": {},
     "output_type": "execute_result"
    }
   ],
   "source": [
    "# För att visa ett register/objekt/rad baserat på position används iloc funktionen.\n",
    "\n",
    "df.iloc[0]"
   ]
  },
  {
   "cell_type": "markdown",
   "metadata": {
    "id": "WwxUGF5PE2e-"
   },
   "source": [
    "Tvätta specifika kolumner och konvertera dem till ett enhetligt format."
   ]
  },
  {
   "cell_type": "code",
   "execution_count": 18,
   "metadata": {
    "colab": {
     "base_uri": "https://localhost:8080/"
    },
    "id": "xn5g-R5bE2e_",
    "outputId": "ddcb3058-8f2e-4a23-b313-aa68cce58579"
   },
   "outputs": [
    {
     "data": {
      "text/plain": [
       "Identifier\n",
       "1905              1888\n",
       "1929       1839, 38-54\n",
       "2836              1897\n",
       "2854              1865\n",
       "2956           1860-63\n",
       "              ...     \n",
       "4158088           1838\n",
       "4158128       1831, 32\n",
       "4159563      [1806]-22\n",
       "4159587           1834\n",
       "4160339        1834-43\n",
       "Name: Date of Publication, Length: 8275, dtype: object"
      ]
     },
     "execution_count": 18,
     "metadata": {},
     "output_type": "execute_result"
    }
   ],
   "source": [
    "# Visa alla fält från index 1905 i kolumn 'Date of Publication'.\n",
    "\n",
    "df.loc[1905:, 'Date of Publication']\n",
    "\n"
   ]
  },
  {
   "cell_type": "markdown",
   "metadata": {
    "id": "ZIkRmphJE2e_"
   },
   "source": [
    "Här ser vi ett antal olika sätt att skriva datumet för när ett verk publicerades. Några med enbart årtal,\n",
    "någon med bracket, osv. Här kan vi välja att göra ett antal saker. T.ex. ta bort brackets, osv. Enklast är kanske att välja ut första instansen av fyra påvarandra följande tal och säga att det är publikationsåret. \n",
    "\n",
    "För att genomföra det använder vi en s.k. regular expression (r'^(\\d{4}).  Uttrycket beskriver ett mönster av fyra påvarandra följande tal. str.extract läser varje cell, extrahera fyra siffror, sätt cellen till det värdet. Här väljer vi att skapa en ny variabel extr och genomföra tvätt av data och spara detta i variabeln för att sedan kunna kontrollera att tvättningen blivit korrekt innan vi implementerar den i vårt dataframe df. "
   ]
  },
  {
   "cell_type": "code",
   "execution_count": 19,
   "metadata": {
    "colab": {
     "base_uri": "https://localhost:8080/"
    },
    "id": "MJ_8ubSqE2e_",
    "outputId": "3bb10504-b7f6-4953-a884-42b672f903f4"
   },
   "outputs": [
    {
     "data": {
      "text/plain": [
       "Identifier\n",
       "1905       1888\n",
       "1929       1839\n",
       "2836       1897\n",
       "2854       1865\n",
       "2956       1860\n",
       "           ... \n",
       "4158088    1838\n",
       "4158128    1831\n",
       "4159563     NaN\n",
       "4159587    1834\n",
       "4160339    1834\n",
       "Name: Date of Publication, Length: 8275, dtype: object"
      ]
     },
     "execution_count": 19,
     "metadata": {},
     "output_type": "execute_result"
    }
   ],
   "source": [
    "extr = df['Date of Publication'].str.extract(r'^(\\d{4})', expand=False)\n",
    "\n",
    "# Visa resultatet. \n",
    "extr.loc[1905:]"
   ]
  },
  {
   "cell_type": "code",
   "execution_count": 20,
   "metadata": {
    "colab": {
     "base_uri": "https://localhost:8080/"
    },
    "id": "Q48O5zj4E2fA",
    "outputId": "a3ebd98d-3eb5-4f1d-a8ad-a80b57763cf2"
   },
   "outputs": [
    {
     "data": {
      "text/plain": [
       "Identifier\n",
       "206        1879 [1878]\n",
       "216               1868\n",
       "218               1869\n",
       "472               1851\n",
       "480               1857\n",
       "              ...     \n",
       "4158088           1838\n",
       "4158128       1831, 32\n",
       "4159563      [1806]-22\n",
       "4159587           1834\n",
       "4160339        1834-43\n",
       "Name: Date of Publication, Length: 8287, dtype: object"
      ]
     },
     "execution_count": 20,
     "metadata": {},
     "output_type": "execute_result"
    }
   ],
   "source": [
    "# Obs, variabeln df innehåller fortfarande den orensade varianten.\n",
    "\n",
    "df['Date of Publication']"
   ]
  },
  {
   "cell_type": "markdown",
   "metadata": {
    "id": "LeOhtDr6E2fA"
   },
   "source": [
    "I och med att resultatet som variablen extr visade är tillfredställande så genomför vi samma tvätt av Date of publication i df. "
   ]
  },
  {
   "cell_type": "code",
   "execution_count": 21,
   "metadata": {
    "id": "57yGfUs8E2fA"
   },
   "outputs": [],
   "source": [
    "df['Date of Publication'] = df['Date of Publication'].str.extract(r'^(\\d{4})', expand=False)"
   ]
  },
  {
   "cell_type": "code",
   "execution_count": 22,
   "metadata": {
    "colab": {
     "base_uri": "https://localhost:8080/"
    },
    "id": "LJIdznrIE2fA",
    "outputId": "4537730a-a2af-4797-9f11-a8675041b38b"
   },
   "outputs": [
    {
     "data": {
      "text/plain": [
       "Identifier\n",
       "206        1879\n",
       "216        1868\n",
       "218        1869\n",
       "472        1851\n",
       "480        1857\n",
       "           ... \n",
       "4158088    1838\n",
       "4158128    1831\n",
       "4159563     NaN\n",
       "4159587    1834\n",
       "4160339    1834\n",
       "Name: Date of Publication, Length: 8287, dtype: object"
      ]
     },
     "execution_count": 22,
     "metadata": {},
     "output_type": "execute_result"
    }
   ],
   "source": [
    "# Kontrollera reslutatet\n",
    "df['Date of Publication']"
   ]
  },
  {
   "cell_type": "markdown",
   "metadata": {
    "id": "2_K7o6AHE2fB"
   },
   "source": [
    "Observera att NaN (not a number) finns fortfarande. För att undersöka hur många det finns i vårt data set kan isnull().sum() användas. Det retunerar antalet celler som är NaN (null).\n",
    "len(df) kan sedan användas för att ta reda på antalet rader i dataframe df."
   ]
  },
  {
   "cell_type": "code",
   "execution_count": 23,
   "metadata": {
    "colab": {
     "base_uri": "https://localhost:8080/"
    },
    "id": "G9vXcvk3E2fB",
    "outputId": "6f25124f-0736-4f52-e90e-9a68b262b47a"
   },
   "outputs": [
    {
     "name": "stdout",
     "output_type": "stream",
     "text": [
      "971\n",
      "8287\n"
     ]
    }
   ],
   "source": [
    "a = df['Date of Publication'].isnull().sum()\n",
    "b = len(df)\n",
    "print(a)\n",
    "print(b)"
   ]
  },
  {
   "cell_type": "code",
   "execution_count": 24,
   "metadata": {
    "colab": {
     "base_uri": "https://localhost:8080/"
    },
    "id": "YIii6s8yE2fB",
    "outputId": "99ee4639-2cb6-43e6-cf7f-6d29b355a3c2"
   },
   "outputs": [
    {
     "data": {
      "text/plain": [
       "11.717147339205985"
      ]
     },
     "execution_count": 24,
     "metadata": {},
     "output_type": "execute_result"
    }
   ],
   "source": [
    "# Antalet null delat på antalet rader gånger 100 ger hur stor andel av cellerna som är null i procent. \n",
    "# Baserat på detta kan vi sedan betämma om vi ska ta bort dessa rader eller låta det vara. \n",
    "#OBS!! Det beror såklart också på vilken typ av nullvärden vi har (MCAR, MAR, NMAR). Kan vi avgöra det?\n",
    "df['Date of Publication'].isnull().sum()/len(df)*100"
   ]
  },
  {
   "cell_type": "code",
   "execution_count": 27,
   "metadata": {
    "colab": {
     "base_uri": "https://localhost:8080/"
    },
    "id": "hfmEImbaE2fC",
    "outputId": "de0d3edd-89ad-43cd-cc08-29c8c62234dd"
   },
   "outputs": [
    {
     "data": {
      "text/plain": [
       "Identifier\n",
       "206                                  London\n",
       "216                London; Virtue & Yorston\n",
       "218                                  London\n",
       "472                                  London\n",
       "480                                  London\n",
       "481                                  London\n",
       "519                                  London\n",
       "667     pp. 40. G. Bryan & Co: Oxford, 1898\n",
       "874                                 London]\n",
       "1143                                 London\n",
       "Name: Place of Publication, dtype: object"
      ]
     },
     "execution_count": 27,
     "metadata": {},
     "output_type": "execute_result"
    }
   ],
   "source": [
    "# visa de 10 första raderna i kolumnen Place of Publication\n",
    "df['Place of Publication'].head(10)"
   ]
  },
  {
   "cell_type": "markdown",
   "metadata": {
    "id": "O8hnrx2tE2fC"
   },
   "source": [
    "Här ser vi att publikationsplats skrivs på olika sätt. T.ex. 'London',  'London; Virtue & Yorston' "
   ]
  },
  {
   "cell_type": "code",
   "execution_count": 28,
   "metadata": {
    "colab": {
     "base_uri": "https://localhost:8080/"
    },
    "id": "Tk-MqlNBE2fD",
    "outputId": "16a069ca-93d7-4ec7-9011-7b80c3be3723"
   },
   "outputs": [
    {
     "data": {
      "text/plain": [
       "Place of Publication                                  Newcastle-upon-Tyne\n",
       "Date of Publication                                                  1867\n",
       "Publisher                                                      T. Fordyce\n",
       "Title                   Local Records; or, Historical Register of rema...\n",
       "Author                      FORDYCE, T. - Printer, of Newcastle-upon-Tyne\n",
       "Contributors             SYKES, John - Bookseller, of Newcastle-upon-Tyne\n",
       "Flickr URL              http://www.flickr.com/photos/britishlibrary/ta...\n",
       "Name: 4157862, dtype: object"
      ]
     },
     "execution_count": 28,
     "metadata": {},
     "output_type": "execute_result"
    }
   ],
   "source": [
    "# Visa en specifik rad. \n",
    "df.loc[4157862]"
   ]
  },
  {
   "cell_type": "code",
   "execution_count": 29,
   "metadata": {
    "colab": {
     "base_uri": "https://localhost:8080/"
    },
    "id": "IEaHUqNkE2fD",
    "outputId": "e4712cbf-e7a4-4a1b-9547-51c24b745e39"
   },
   "outputs": [
    {
     "data": {
      "text/plain": [
       "Place of Publication                                  Newcastle upon Tyne\n",
       "Date of Publication                                                  1834\n",
       "Publisher                                                Mackenzie & Dent\n",
       "Title                   An historical, topographical and descriptive v...\n",
       "Author                                              Mackenzie, E. (Eneas)\n",
       "Contributors                                         ROSS, M. - of Durham\n",
       "Flickr URL              http://www.flickr.com/photos/britishlibrary/ta...\n",
       "Name: 4159587, dtype: object"
      ]
     },
     "execution_count": 29,
     "metadata": {},
     "output_type": "execute_result"
    }
   ],
   "source": [
    "df.loc[4159587]"
   ]
  },
  {
   "cell_type": "markdown",
   "metadata": {
    "id": "7mwxM0eME2fD"
   },
   "source": [
    "Ett annat exempel där Newcastle upon Tyne skrivs på olika sätt. \n",
    "\n",
    "Vad ska vi ha för strategi för att tvätta data i kolumnen? \n",
    "\n",
    "En strategi är att söka efter där London finns med i texten och ersätta det med enbart strängen London, samma för Oxford. Vi kan också ersätta bindelstreck med vita tecken. Vi kan genomföra detta med hjälp av Numpy genom att skriva följande: "
   ]
  },
  {
   "cell_type": "code",
   "execution_count": 30,
   "metadata": {
    "id": "p1zUUoL2E2fE"
   },
   "outputs": [],
   "source": [
    "df['Place of Publication'] = np.where(df['Place of Publication'].str.contains('London'), 'London',\n",
    "                                np.where(df['Place of Publication'].str.contains('Oxford'), 'Oxford',\n",
    "                                  df['Place of Publication'].str.replace('-', ' ') ) )\n",
    "# Söker efter London och ersätter strängen med London. \n",
    "# Söker efter Oxford och ersätter strängen med Oxford. \n",
    "# Söker efter bindelsträck och ersätter med mellanslag. "
   ]
  },
  {
   "cell_type": "code",
   "execution_count": 31,
   "metadata": {
    "colab": {
     "base_uri": "https://localhost:8080/",
     "height": 543
    },
    "id": "se1odIIYE2fE",
    "outputId": "23ccdac6-c368-4983-9b8f-042cecf2f520"
   },
   "outputs": [
    {
     "data": {
      "text/html": [
       "<div>\n",
       "<style scoped>\n",
       "    .dataframe tbody tr th:only-of-type {\n",
       "        vertical-align: middle;\n",
       "    }\n",
       "\n",
       "    .dataframe tbody tr th {\n",
       "        vertical-align: top;\n",
       "    }\n",
       "\n",
       "    .dataframe thead th {\n",
       "        text-align: right;\n",
       "    }\n",
       "</style>\n",
       "<table border=\"1\" class=\"dataframe\">\n",
       "  <thead>\n",
       "    <tr style=\"text-align: right;\">\n",
       "      <th></th>\n",
       "      <th>Place of Publication</th>\n",
       "      <th>Date of Publication</th>\n",
       "      <th>Publisher</th>\n",
       "      <th>Title</th>\n",
       "      <th>Author</th>\n",
       "      <th>Contributors</th>\n",
       "      <th>Flickr URL</th>\n",
       "    </tr>\n",
       "    <tr>\n",
       "      <th>Identifier</th>\n",
       "      <th></th>\n",
       "      <th></th>\n",
       "      <th></th>\n",
       "      <th></th>\n",
       "      <th></th>\n",
       "      <th></th>\n",
       "      <th></th>\n",
       "    </tr>\n",
       "  </thead>\n",
       "  <tbody>\n",
       "    <tr>\n",
       "      <th>206</th>\n",
       "      <td>London</td>\n",
       "      <td>1879</td>\n",
       "      <td>S. Tinsley &amp; Co.</td>\n",
       "      <td>Walter Forbes. [A novel.] By A. A</td>\n",
       "      <td>A. A.</td>\n",
       "      <td>FORBES, Walter.</td>\n",
       "      <td>http://www.flickr.com/photos/britishlibrary/ta...</td>\n",
       "    </tr>\n",
       "    <tr>\n",
       "      <th>216</th>\n",
       "      <td>London</td>\n",
       "      <td>1868</td>\n",
       "      <td>Virtue &amp; Co.</td>\n",
       "      <td>All for Greed. [A novel. The dedication signed...</td>\n",
       "      <td>A., A. A.</td>\n",
       "      <td>BLAZE DE BURY, Marie Pauline Rose - Baroness</td>\n",
       "      <td>http://www.flickr.com/photos/britishlibrary/ta...</td>\n",
       "    </tr>\n",
       "    <tr>\n",
       "      <th>218</th>\n",
       "      <td>London</td>\n",
       "      <td>1869</td>\n",
       "      <td>Bradbury, Evans &amp; Co.</td>\n",
       "      <td>Love the Avenger. By the author of “All for Gr...</td>\n",
       "      <td>A., A. A.</td>\n",
       "      <td>BLAZE DE BURY, Marie Pauline Rose - Baroness</td>\n",
       "      <td>http://www.flickr.com/photos/britishlibrary/ta...</td>\n",
       "    </tr>\n",
       "    <tr>\n",
       "      <th>472</th>\n",
       "      <td>London</td>\n",
       "      <td>1851</td>\n",
       "      <td>James Darling</td>\n",
       "      <td>Welsh Sketches, chiefly ecclesiastical, to the...</td>\n",
       "      <td>A., E. S.</td>\n",
       "      <td>Appleyard, Ernest Silvanus.</td>\n",
       "      <td>http://www.flickr.com/photos/britishlibrary/ta...</td>\n",
       "    </tr>\n",
       "    <tr>\n",
       "      <th>480</th>\n",
       "      <td>London</td>\n",
       "      <td>1857</td>\n",
       "      <td>Wertheim &amp; Macintosh</td>\n",
       "      <td>[The World in which I live, and my place in it...</td>\n",
       "      <td>A., E. S.</td>\n",
       "      <td>BROOME, John Henry.</td>\n",
       "      <td>http://www.flickr.com/photos/britishlibrary/ta...</td>\n",
       "    </tr>\n",
       "    <tr>\n",
       "      <th>481</th>\n",
       "      <td>London</td>\n",
       "      <td>1875</td>\n",
       "      <td>William Macintosh</td>\n",
       "      <td>[The World in which I live, and my place in it...</td>\n",
       "      <td>A., E. S.</td>\n",
       "      <td>BROOME, John Henry.</td>\n",
       "      <td>http://www.flickr.com/photos/britishlibrary/ta...</td>\n",
       "    </tr>\n",
       "    <tr>\n",
       "      <th>519</th>\n",
       "      <td>London</td>\n",
       "      <td>1872</td>\n",
       "      <td>The Author</td>\n",
       "      <td>Lagonells. By the author of Darmayne (F. E. A....</td>\n",
       "      <td>A., F. E.</td>\n",
       "      <td>ASHLEY, Florence Emily.</td>\n",
       "      <td>http://www.flickr.com/photos/britishlibrary/ta...</td>\n",
       "    </tr>\n",
       "    <tr>\n",
       "      <th>667</th>\n",
       "      <td>Oxford</td>\n",
       "      <td>NaN</td>\n",
       "      <td>NaN</td>\n",
       "      <td>The Coming of Spring, and other poems. By J. A...</td>\n",
       "      <td>A., J.|A., J.</td>\n",
       "      <td>ANDREWS, J. - Writer of Verse</td>\n",
       "      <td>http://www.flickr.com/photos/britishlibrary/ta...</td>\n",
       "    </tr>\n",
       "    <tr>\n",
       "      <th>874</th>\n",
       "      <td>London</td>\n",
       "      <td>1676</td>\n",
       "      <td>NaN</td>\n",
       "      <td>A Warning to the inhabitants of England, and L...</td>\n",
       "      <td>Remaʿ.</td>\n",
       "      <td>ADAMS, Mary.</td>\n",
       "      <td>http://www.flickr.com/photos/britishlibrary/ta...</td>\n",
       "    </tr>\n",
       "    <tr>\n",
       "      <th>1143</th>\n",
       "      <td>London</td>\n",
       "      <td>1679</td>\n",
       "      <td>NaN</td>\n",
       "      <td>A Satyr against Vertue. (A poem: supposed to b...</td>\n",
       "      <td>A., T.</td>\n",
       "      <td>OLDHAM, John.</td>\n",
       "      <td>http://www.flickr.com/photos/britishlibrary/ta...</td>\n",
       "    </tr>\n",
       "  </tbody>\n",
       "</table>\n",
       "</div>"
      ],
      "text/plain": [
       "           Place of Publication Date of Publication              Publisher  \\\n",
       "Identifier                                                                   \n",
       "206                      London                1879       S. Tinsley & Co.   \n",
       "216                      London                1868           Virtue & Co.   \n",
       "218                      London                1869  Bradbury, Evans & Co.   \n",
       "472                      London                1851          James Darling   \n",
       "480                      London                1857   Wertheim & Macintosh   \n",
       "481                      London                1875      William Macintosh   \n",
       "519                      London                1872             The Author   \n",
       "667                      Oxford                 NaN                    NaN   \n",
       "874                      London                1676                    NaN   \n",
       "1143                     London                1679                    NaN   \n",
       "\n",
       "                                                        Title         Author  \\\n",
       "Identifier                                                                     \n",
       "206                         Walter Forbes. [A novel.] By A. A          A. A.   \n",
       "216         All for Greed. [A novel. The dedication signed...      A., A. A.   \n",
       "218         Love the Avenger. By the author of “All for Gr...      A., A. A.   \n",
       "472         Welsh Sketches, chiefly ecclesiastical, to the...      A., E. S.   \n",
       "480         [The World in which I live, and my place in it...      A., E. S.   \n",
       "481         [The World in which I live, and my place in it...      A., E. S.   \n",
       "519         Lagonells. By the author of Darmayne (F. E. A....      A., F. E.   \n",
       "667         The Coming of Spring, and other poems. By J. A...  A., J.|A., J.   \n",
       "874         A Warning to the inhabitants of England, and L...         Remaʿ.   \n",
       "1143        A Satyr against Vertue. (A poem: supposed to b...         A., T.   \n",
       "\n",
       "                                            Contributors  \\\n",
       "Identifier                                                 \n",
       "206                                      FORBES, Walter.   \n",
       "216         BLAZE DE BURY, Marie Pauline Rose - Baroness   \n",
       "218         BLAZE DE BURY, Marie Pauline Rose - Baroness   \n",
       "472                          Appleyard, Ernest Silvanus.   \n",
       "480                                  BROOME, John Henry.   \n",
       "481                                  BROOME, John Henry.   \n",
       "519                              ASHLEY, Florence Emily.   \n",
       "667                        ANDREWS, J. - Writer of Verse   \n",
       "874                                         ADAMS, Mary.   \n",
       "1143                                       OLDHAM, John.   \n",
       "\n",
       "                                                   Flickr URL  \n",
       "Identifier                                                     \n",
       "206         http://www.flickr.com/photos/britishlibrary/ta...  \n",
       "216         http://www.flickr.com/photos/britishlibrary/ta...  \n",
       "218         http://www.flickr.com/photos/britishlibrary/ta...  \n",
       "472         http://www.flickr.com/photos/britishlibrary/ta...  \n",
       "480         http://www.flickr.com/photos/britishlibrary/ta...  \n",
       "481         http://www.flickr.com/photos/britishlibrary/ta...  \n",
       "519         http://www.flickr.com/photos/britishlibrary/ta...  \n",
       "667         http://www.flickr.com/photos/britishlibrary/ta...  \n",
       "874         http://www.flickr.com/photos/britishlibrary/ta...  \n",
       "1143        http://www.flickr.com/photos/britishlibrary/ta...  "
      ]
     },
     "execution_count": 31,
     "metadata": {},
     "output_type": "execute_result"
    }
   ],
   "source": [
    "# kontrollera resultatet vi avgränsar till att visa de tio första raderna. \n",
    "df.head(10)"
   ]
  },
  {
   "cell_type": "code",
   "execution_count": 32,
   "metadata": {
    "colab": {
     "base_uri": "https://localhost:8080/"
    },
    "id": "BNkom1bAE2fE",
    "outputId": "7adad2b8-1b29-47f7-8804-7f0ab4c6ffe1"
   },
   "outputs": [
    {
     "data": {
      "text/plain": [
       "Place of Publication                                  Newcastle upon Tyne\n",
       "Date of Publication                                                  1867\n",
       "Publisher                                                      T. Fordyce\n",
       "Title                   Local Records; or, Historical Register of rema...\n",
       "Author                      FORDYCE, T. - Printer, of Newcastle-upon-Tyne\n",
       "Contributors             SYKES, John - Bookseller, of Newcastle-upon-Tyne\n",
       "Flickr URL              http://www.flickr.com/photos/britishlibrary/ta...\n",
       "Name: 4157862, dtype: object"
      ]
     },
     "execution_count": 32,
     "metadata": {},
     "output_type": "execute_result"
    }
   ],
   "source": [
    "# kontollera resulatet för objekt 4157862 som innehöll - i publikationsplats. \n",
    "df.loc[4157862]"
   ]
  },
  {
   "cell_type": "markdown",
   "metadata": {
    "id": "4MJVyA0XE2fE"
   },
   "source": [
    "Om vi nu kontrollerar alla unika värden i kolumnen Place of Publication så ser vi att det finns mer som behöver tvättas. "
   ]
  },
  {
   "cell_type": "code",
   "execution_count": 33,
   "metadata": {
    "colab": {
     "base_uri": "https://localhost:8080/"
    },
    "id": "4RIQ1eB7E2fE",
    "outputId": "457051f0-946a-4097-9b58-8c1ca849adf5"
   },
   "outputs": [
    {
     "data": {
      "text/plain": [
       "0                                 London\n",
       "1                                 Oxford\n",
       "2                               Coventry\n",
       "3                            Christiania\n",
       "4                                Firenze\n",
       "5                              Amsterdam\n",
       "6                                 Savona\n",
       "7                                  Paris\n",
       "8                            Puerto Rico\n",
       "9                               New York\n",
       "10                                  Hull\n",
       "11                                Oxonii\n",
       "12                                Milano\n",
       "13                              Aberdeen\n",
       "14                                  Wien\n",
       "15                              Abingdon\n",
       "16                                Quebec\n",
       "17                               Leipzig\n",
       "18    pp. 40. W. Cann: Plymouth, [1876?]\n",
       "19                                  1845\n",
       "20                                   enk\n",
       "21                                Boston\n",
       "22                               Upsaliæ\n",
       "23                             Edinburgh\n",
       "24                               Yverdon\n",
       "25                               Londini\n",
       "26                        St. Petersburg\n",
       "27                                Berlin\n",
       "28                                Sceaux\n",
       "29                               Coblenz\n",
       "30                   Carlstad, Stockholm\n",
       "31                              Carlstad\n",
       "32                             A. Millar\n",
       "33                            Allahabad]\n",
       "34                             Stuttgart\n",
       "35                      D. Appleton & Co\n",
       "36                       Санктпетербургъ\n",
       "37                               Paisley\n",
       "38                                Napoli\n",
       "39                          Ἐν Κερκυρᾳ\n",
       "dtype: object"
      ]
     },
     "execution_count": 33,
     "metadata": {},
     "output_type": "execute_result"
    }
   ],
   "source": [
    "# Visa de 40 första unika värdena i kolumnen 'Place of Publication'. Vi ser att det finns mer som behöver tvättas. \n",
    "pd.Series(df['Place of Publication'].unique())[:40]"
   ]
  },
  {
   "cell_type": "markdown",
   "metadata": {
    "id": "L1HAlSpRE2fE"
   },
   "source": [
    "## Nytt dataset\n",
    "Textfil med universitetsstäder. \n"
   ]
  },
  {
   "cell_type": "code",
   "execution_count": 37,
   "metadata": {
    "colab": {
     "base_uri": "https://localhost:8080/"
    },
    "id": "wwjn_3Y4E2fE",
    "outputId": "e311a67c-c905-463c-87ec-8a15cd108611"
   },
   "outputs": [
    {
     "data": {
      "text/plain": [
       "['Alabama[edit]\\n',\n",
       " 'Auburn (Auburn University)[1]\\n',\n",
       " 'Florence (University of North Alabama)\\n',\n",
       " 'Jacksonville (Jacksonville State University)[2]\\n',\n",
       " 'Livingston (University of West Alabama)[2]\\n',\n",
       " 'Montevallo (University of Montevallo)[2]\\n',\n",
       " 'Troy (Troy University)[2]\\n',\n",
       " 'Tuscaloosa (University of Alabama, Stillman College, Shelton State)[3][4]\\n',\n",
       " 'Tuskegee (Tuskegee University)[5]\\n',\n",
       " 'Alaska[edit]\\n',\n",
       " 'Fairbanks (University of Alaska Fairbanks)[2]\\n',\n",
       " 'Arizona[edit]\\n',\n",
       " 'Flagstaff (Northern Arizona University)[6]\\n',\n",
       " 'Tempe (Arizona State University)\\n',\n",
       " 'Tucson (University of Arizona)\\n',\n",
       " 'Arkansas[edit]\\n',\n",
       " 'Arkadelphia (Henderson State University, Ouachita Baptist University)[2]\\n',\n",
       " 'Conway (Central Baptist College, Hendrix College, University of Central Arkansas)[2]\\n',\n",
       " 'Fayetteville (University of Arkansas)[7]\\n',\n",
       " 'Jonesboro (Arkansas State University)[8]\\n']"
      ]
     },
     "execution_count": 37,
     "metadata": {},
     "output_type": "execute_result"
    }
   ],
   "source": [
    "uni_towns = open('data_code_along/university_towns.txt')\n",
    "uni_towns.readlines()[:20]"
   ]
  },
  {
   "cell_type": "markdown",
   "metadata": {
    "id": "gmRiUhZZE2fE"
   },
   "source": [
    "För att kunna arbeta med ett dataframe och använda Pandas behöver dock textfilens innehåll läsas över (formateras) till en tabell. Hur kan vi göra det? \n",
    "\n",
    "Först ser vi delstaten följt av [edit]. Efter det kommer städer följt av namnet på universitetet, dvs. stad och universitet i den aktuella delstaten. För att konvertera till csvformat kan vi använda denna struktur, loopa igenom textfilen och plocka ut den del där Edit finns och använda det som avgränsning. Och sedan skapa en lista med delstat, stad och universitet. \n"
   ]
  },
  {
   "cell_type": "code",
   "execution_count": 40,
   "metadata": {
    "id": "hZK1H8_jE2fF"
   },
   "outputs": [
    {
     "data": {
      "text/plain": [
       "[('Alabama[edit]\\n', 'Auburn (Auburn University)[1]\\n'),\n",
       " ('Alabama[edit]\\n', 'Florence (University of North Alabama)\\n'),\n",
       " ('Alabama[edit]\\n', 'Jacksonville (Jacksonville State University)[2]\\n'),\n",
       " ('Alabama[edit]\\n', 'Livingston (University of West Alabama)[2]\\n'),\n",
       " ('Alabama[edit]\\n', 'Montevallo (University of Montevallo)[2]\\n'),\n",
       " ('Alabama[edit]\\n', 'Troy (Troy University)[2]\\n'),\n",
       " ('Alabama[edit]\\n',\n",
       "  'Tuscaloosa (University of Alabama, Stillman College, Shelton State)[3][4]\\n'),\n",
       " ('Alabama[edit]\\n', 'Tuskegee (Tuskegee University)[5]\\n'),\n",
       " ('Alaska[edit]\\n', 'Fairbanks (University of Alaska Fairbanks)[2]\\n'),\n",
       " ('Arizona[edit]\\n', 'Flagstaff (Northern Arizona University)[6]\\n'),\n",
       " ('Arizona[edit]\\n', 'Tempe (Arizona State University)\\n'),\n",
       " ('Arizona[edit]\\n', 'Tucson (University of Arizona)\\n'),\n",
       " ('Arkansas[edit]\\n',\n",
       "  'Arkadelphia (Henderson State University, Ouachita Baptist University)[2]\\n'),\n",
       " ('Arkansas[edit]\\n',\n",
       "  'Conway (Central Baptist College, Hendrix College, University of Central Arkansas)[2]\\n'),\n",
       " ('Arkansas[edit]\\n', 'Fayetteville (University of Arkansas)[7]\\n'),\n",
       " ('Arkansas[edit]\\n', 'Jonesboro (Arkansas State University)[8]\\n'),\n",
       " ('Arkansas[edit]\\n', 'Magnolia (Southern Arkansas University)[2]\\n'),\n",
       " ('Arkansas[edit]\\n',\n",
       "  'Monticello (University of Arkansas at Monticello)[2]\\n'),\n",
       " ('Arkansas[edit]\\n', 'Russellville (Arkansas Tech University)[2]\\n'),\n",
       " ('Arkansas[edit]\\n', 'Searcy (Harding University)[5]\\n')]"
      ]
     },
     "execution_count": 40,
     "metadata": {},
     "output_type": "execute_result"
    }
   ],
   "source": [
    "uni_towns = []\n",
    "with open('data_code_along/university_towns.txt') as file:\n",
    "    for line in file:\n",
    "        if'[edit]' in line:\n",
    "            state = line\n",
    "        else:\n",
    "            uni_towns.append((state, line))\n",
    "\n",
    "\n",
    "# for-loopen går igenom alla rader i filen. Om en rad (line) innehåller [edit] får variabeln state värdet i raden. \n",
    "# dvs. om delstat hittas sätts state till den aktuella delstaten. \n",
    "# Om en rad inte innehåller [edit] motsvarar line den aktuella raden.\n",
    "# dvs. line sätts till stad och universitet\n",
    "# state och line paras ihop och läggs till i uni_towns.\n",
    "# hela filen loopas igenom på detta sätt\n",
    "\n",
    "# visa 20 första raderna i uni_towns efter att for-loopen körts. \n",
    "uni_towns[:20]"
   ]
  },
  {
   "cell_type": "code",
   "execution_count": 41,
   "metadata": {
    "colab": {
     "base_uri": "https://localhost:8080/",
     "height": 669
    },
    "id": "C3rf5UGlE2fF",
    "outputId": "e9d8d001-85b8-460c-efd2-18c687ec5cad"
   },
   "outputs": [
    {
     "data": {
      "text/html": [
       "<div>\n",
       "<style scoped>\n",
       "    .dataframe tbody tr th:only-of-type {\n",
       "        vertical-align: middle;\n",
       "    }\n",
       "\n",
       "    .dataframe tbody tr th {\n",
       "        vertical-align: top;\n",
       "    }\n",
       "\n",
       "    .dataframe thead th {\n",
       "        text-align: right;\n",
       "    }\n",
       "</style>\n",
       "<table border=\"1\" class=\"dataframe\">\n",
       "  <thead>\n",
       "    <tr style=\"text-align: right;\">\n",
       "      <th></th>\n",
       "      <th>State</th>\n",
       "      <th>Region Name</th>\n",
       "    </tr>\n",
       "  </thead>\n",
       "  <tbody>\n",
       "    <tr>\n",
       "      <th>0</th>\n",
       "      <td>Alabama[edit]\\n</td>\n",
       "      <td>Auburn (Auburn University)[1]\\n</td>\n",
       "    </tr>\n",
       "    <tr>\n",
       "      <th>1</th>\n",
       "      <td>Alabama[edit]\\n</td>\n",
       "      <td>Florence (University of North Alabama)\\n</td>\n",
       "    </tr>\n",
       "    <tr>\n",
       "      <th>2</th>\n",
       "      <td>Alabama[edit]\\n</td>\n",
       "      <td>Jacksonville (Jacksonville State University)[2]\\n</td>\n",
       "    </tr>\n",
       "    <tr>\n",
       "      <th>3</th>\n",
       "      <td>Alabama[edit]\\n</td>\n",
       "      <td>Livingston (University of West Alabama)[2]\\n</td>\n",
       "    </tr>\n",
       "    <tr>\n",
       "      <th>4</th>\n",
       "      <td>Alabama[edit]\\n</td>\n",
       "      <td>Montevallo (University of Montevallo)[2]\\n</td>\n",
       "    </tr>\n",
       "    <tr>\n",
       "      <th>5</th>\n",
       "      <td>Alabama[edit]\\n</td>\n",
       "      <td>Troy (Troy University)[2]\\n</td>\n",
       "    </tr>\n",
       "    <tr>\n",
       "      <th>6</th>\n",
       "      <td>Alabama[edit]\\n</td>\n",
       "      <td>Tuscaloosa (University of Alabama, Stillman Co...</td>\n",
       "    </tr>\n",
       "    <tr>\n",
       "      <th>7</th>\n",
       "      <td>Alabama[edit]\\n</td>\n",
       "      <td>Tuskegee (Tuskegee University)[5]\\n</td>\n",
       "    </tr>\n",
       "    <tr>\n",
       "      <th>8</th>\n",
       "      <td>Alaska[edit]\\n</td>\n",
       "      <td>Fairbanks (University of Alaska Fairbanks)[2]\\n</td>\n",
       "    </tr>\n",
       "    <tr>\n",
       "      <th>9</th>\n",
       "      <td>Arizona[edit]\\n</td>\n",
       "      <td>Flagstaff (Northern Arizona University)[6]\\n</td>\n",
       "    </tr>\n",
       "    <tr>\n",
       "      <th>10</th>\n",
       "      <td>Arizona[edit]\\n</td>\n",
       "      <td>Tempe (Arizona State University)\\n</td>\n",
       "    </tr>\n",
       "    <tr>\n",
       "      <th>11</th>\n",
       "      <td>Arizona[edit]\\n</td>\n",
       "      <td>Tucson (University of Arizona)\\n</td>\n",
       "    </tr>\n",
       "    <tr>\n",
       "      <th>12</th>\n",
       "      <td>Arkansas[edit]\\n</td>\n",
       "      <td>Arkadelphia (Henderson State University, Ouach...</td>\n",
       "    </tr>\n",
       "    <tr>\n",
       "      <th>13</th>\n",
       "      <td>Arkansas[edit]\\n</td>\n",
       "      <td>Conway (Central Baptist College, Hendrix Colle...</td>\n",
       "    </tr>\n",
       "    <tr>\n",
       "      <th>14</th>\n",
       "      <td>Arkansas[edit]\\n</td>\n",
       "      <td>Fayetteville (University of Arkansas)[7]\\n</td>\n",
       "    </tr>\n",
       "    <tr>\n",
       "      <th>15</th>\n",
       "      <td>Arkansas[edit]\\n</td>\n",
       "      <td>Jonesboro (Arkansas State University)[8]\\n</td>\n",
       "    </tr>\n",
       "    <tr>\n",
       "      <th>16</th>\n",
       "      <td>Arkansas[edit]\\n</td>\n",
       "      <td>Magnolia (Southern Arkansas University)[2]\\n</td>\n",
       "    </tr>\n",
       "    <tr>\n",
       "      <th>17</th>\n",
       "      <td>Arkansas[edit]\\n</td>\n",
       "      <td>Monticello (University of Arkansas at Monticel...</td>\n",
       "    </tr>\n",
       "    <tr>\n",
       "      <th>18</th>\n",
       "      <td>Arkansas[edit]\\n</td>\n",
       "      <td>Russellville (Arkansas Tech University)[2]\\n</td>\n",
       "    </tr>\n",
       "    <tr>\n",
       "      <th>19</th>\n",
       "      <td>Arkansas[edit]\\n</td>\n",
       "      <td>Searcy (Harding University)[5]\\n</td>\n",
       "    </tr>\n",
       "  </tbody>\n",
       "</table>\n",
       "</div>"
      ],
      "text/plain": [
       "               State                                        Region Name\n",
       "0    Alabama[edit]\\n                    Auburn (Auburn University)[1]\\n\n",
       "1    Alabama[edit]\\n           Florence (University of North Alabama)\\n\n",
       "2    Alabama[edit]\\n  Jacksonville (Jacksonville State University)[2]\\n\n",
       "3    Alabama[edit]\\n       Livingston (University of West Alabama)[2]\\n\n",
       "4    Alabama[edit]\\n         Montevallo (University of Montevallo)[2]\\n\n",
       "5    Alabama[edit]\\n                        Troy (Troy University)[2]\\n\n",
       "6    Alabama[edit]\\n  Tuscaloosa (University of Alabama, Stillman Co...\n",
       "7    Alabama[edit]\\n                Tuskegee (Tuskegee University)[5]\\n\n",
       "8     Alaska[edit]\\n    Fairbanks (University of Alaska Fairbanks)[2]\\n\n",
       "9    Arizona[edit]\\n       Flagstaff (Northern Arizona University)[6]\\n\n",
       "10   Arizona[edit]\\n                 Tempe (Arizona State University)\\n\n",
       "11   Arizona[edit]\\n                   Tucson (University of Arizona)\\n\n",
       "12  Arkansas[edit]\\n  Arkadelphia (Henderson State University, Ouach...\n",
       "13  Arkansas[edit]\\n  Conway (Central Baptist College, Hendrix Colle...\n",
       "14  Arkansas[edit]\\n         Fayetteville (University of Arkansas)[7]\\n\n",
       "15  Arkansas[edit]\\n         Jonesboro (Arkansas State University)[8]\\n\n",
       "16  Arkansas[edit]\\n       Magnolia (Southern Arkansas University)[2]\\n\n",
       "17  Arkansas[edit]\\n  Monticello (University of Arkansas at Monticel...\n",
       "18  Arkansas[edit]\\n       Russellville (Arkansas Tech University)[2]\\n\n",
       "19  Arkansas[edit]\\n                   Searcy (Harding University)[5]\\n"
      ]
     },
     "execution_count": 41,
     "metadata": {},
     "output_type": "execute_result"
    }
   ],
   "source": [
    "# Lägga till i ett panda dataframe\n",
    "# Läggs i korrekt kolumn i och med att state och line är ihopparade. I funktionen namnges även kolumnrubrikerna. \n",
    "uni_towns_df = pd.DataFrame(uni_towns, columns=['State', 'Region Name'])\n",
    "uni_towns_df[:20]"
   ]
  },
  {
   "cell_type": "markdown",
   "metadata": {
    "id": "fBNJ0zjxE2fF"
   },
   "source": [
    " Vi behöver tvätta data, vi hade kunnat göra det direkt i for-loopen innan. Men vi kan även göra det genom att först definiera en funktion som undersöker om det finns ett mellanslag och en ( och om det finns bracket\n"
   ]
  },
  {
   "cell_type": "code",
   "execution_count": 42,
   "metadata": {
    "id": "VFHOx6BKE2fF"
   },
   "outputs": [],
   "source": [
    "\n",
    "def get_citystate (item):\n",
    "    if ' (' in item:\n",
    "        return item[:item.find(' (')]\n",
    "    elif '[' in item:\n",
    "        return item[:item.find('[')]\n",
    "    else:\n",
    "        return item\n",
    "    \n"
   ]
  },
  {
   "cell_type": "code",
   "execution_count": 43,
   "metadata": {
    "colab": {
     "base_uri": "https://localhost:8080/"
    },
    "id": "Bsjn9g99E2fF",
    "outputId": "79177323-1609-46de-c161-62c5d925a5da"
   },
   "outputs": [
    {
     "data": {
      "text/plain": [
       "State                                            Alabama[edit]\\n\n",
       "Region Name    Jacksonville (Jacksonville State University)[2]\\n\n",
       "Name: 2, dtype: object"
      ]
     },
     "execution_count": 43,
     "metadata": {},
     "output_type": "execute_result"
    }
   ],
   "source": [
    "# Inget har förändrats i vårt dataset, metoden har enbart definierats. \n",
    "uni_towns_df.loc[2]"
   ]
  },
  {
   "cell_type": "code",
   "execution_count": 44,
   "metadata": {
    "colab": {
     "base_uri": "https://localhost:8080/",
     "height": 35
    },
    "id": "LHkcDn6eE2fF",
    "outputId": "fb0e3477-49c4-4f3d-9ab3-f3d7446859e7"
   },
   "outputs": [
    {
     "data": {
      "text/plain": [
       "'Wyoming'"
      ]
     },
     "execution_count": 44,
     "metadata": {},
     "output_type": "execute_result"
    }
   ],
   "source": [
    "# Metoden retunerar tvättad sträng, state\n",
    "get_citystate('Wyoming[edit]\\n')"
   ]
  },
  {
   "cell_type": "code",
   "execution_count": 45,
   "metadata": {
    "colab": {
     "base_uri": "https://localhost:8080/",
     "height": 35
    },
    "id": "08rclYbGE2fF",
    "outputId": "9c1baed1-e927-41e3-a68e-6b48b8599ba0"
   },
   "outputs": [
    {
     "data": {
      "text/plain": [
       "'Eau Claire'"
      ]
     },
     "execution_count": 45,
     "metadata": {},
     "output_type": "execute_result"
    }
   ],
   "source": [
    "# metoden retunerar tvättad sträng, region name\n",
    "get_citystate('Eau Claire (University of Winsconsin-Eau Claire)\\n')"
   ]
  },
  {
   "cell_type": "code",
   "execution_count": 46,
   "metadata": {
    "colab": {
     "base_uri": "https://localhost:8080/",
     "height": 669
    },
    "id": "Lxnz0jQPE2fF",
    "outputId": "6497e107-2d36-4176-efdb-a2489caa694a"
   },
   "outputs": [
    {
     "data": {
      "text/html": [
       "<div>\n",
       "<style scoped>\n",
       "    .dataframe tbody tr th:only-of-type {\n",
       "        vertical-align: middle;\n",
       "    }\n",
       "\n",
       "    .dataframe tbody tr th {\n",
       "        vertical-align: top;\n",
       "    }\n",
       "\n",
       "    .dataframe thead th {\n",
       "        text-align: right;\n",
       "    }\n",
       "</style>\n",
       "<table border=\"1\" class=\"dataframe\">\n",
       "  <thead>\n",
       "    <tr style=\"text-align: right;\">\n",
       "      <th></th>\n",
       "      <th>State</th>\n",
       "      <th>Region Name</th>\n",
       "    </tr>\n",
       "  </thead>\n",
       "  <tbody>\n",
       "    <tr>\n",
       "      <th>0</th>\n",
       "      <td>Alabama</td>\n",
       "      <td>Auburn</td>\n",
       "    </tr>\n",
       "    <tr>\n",
       "      <th>1</th>\n",
       "      <td>Alabama</td>\n",
       "      <td>Florence</td>\n",
       "    </tr>\n",
       "    <tr>\n",
       "      <th>2</th>\n",
       "      <td>Alabama</td>\n",
       "      <td>Jacksonville</td>\n",
       "    </tr>\n",
       "    <tr>\n",
       "      <th>3</th>\n",
       "      <td>Alabama</td>\n",
       "      <td>Livingston</td>\n",
       "    </tr>\n",
       "    <tr>\n",
       "      <th>4</th>\n",
       "      <td>Alabama</td>\n",
       "      <td>Montevallo</td>\n",
       "    </tr>\n",
       "    <tr>\n",
       "      <th>5</th>\n",
       "      <td>Alabama</td>\n",
       "      <td>Troy</td>\n",
       "    </tr>\n",
       "    <tr>\n",
       "      <th>6</th>\n",
       "      <td>Alabama</td>\n",
       "      <td>Tuscaloosa</td>\n",
       "    </tr>\n",
       "    <tr>\n",
       "      <th>7</th>\n",
       "      <td>Alabama</td>\n",
       "      <td>Tuskegee</td>\n",
       "    </tr>\n",
       "    <tr>\n",
       "      <th>8</th>\n",
       "      <td>Alaska</td>\n",
       "      <td>Fairbanks</td>\n",
       "    </tr>\n",
       "    <tr>\n",
       "      <th>9</th>\n",
       "      <td>Arizona</td>\n",
       "      <td>Flagstaff</td>\n",
       "    </tr>\n",
       "    <tr>\n",
       "      <th>10</th>\n",
       "      <td>Arizona</td>\n",
       "      <td>Tempe</td>\n",
       "    </tr>\n",
       "    <tr>\n",
       "      <th>11</th>\n",
       "      <td>Arizona</td>\n",
       "      <td>Tucson</td>\n",
       "    </tr>\n",
       "    <tr>\n",
       "      <th>12</th>\n",
       "      <td>Arkansas</td>\n",
       "      <td>Arkadelphia</td>\n",
       "    </tr>\n",
       "    <tr>\n",
       "      <th>13</th>\n",
       "      <td>Arkansas</td>\n",
       "      <td>Conway</td>\n",
       "    </tr>\n",
       "    <tr>\n",
       "      <th>14</th>\n",
       "      <td>Arkansas</td>\n",
       "      <td>Fayetteville</td>\n",
       "    </tr>\n",
       "    <tr>\n",
       "      <th>15</th>\n",
       "      <td>Arkansas</td>\n",
       "      <td>Jonesboro</td>\n",
       "    </tr>\n",
       "    <tr>\n",
       "      <th>16</th>\n",
       "      <td>Arkansas</td>\n",
       "      <td>Magnolia</td>\n",
       "    </tr>\n",
       "    <tr>\n",
       "      <th>17</th>\n",
       "      <td>Arkansas</td>\n",
       "      <td>Monticello</td>\n",
       "    </tr>\n",
       "    <tr>\n",
       "      <th>18</th>\n",
       "      <td>Arkansas</td>\n",
       "      <td>Russellville</td>\n",
       "    </tr>\n",
       "    <tr>\n",
       "      <th>19</th>\n",
       "      <td>Arkansas</td>\n",
       "      <td>Searcy</td>\n",
       "    </tr>\n",
       "  </tbody>\n",
       "</table>\n",
       "</div>"
      ],
      "text/plain": [
       "       State   Region Name\n",
       "0    Alabama        Auburn\n",
       "1    Alabama      Florence\n",
       "2    Alabama  Jacksonville\n",
       "3    Alabama    Livingston\n",
       "4    Alabama    Montevallo\n",
       "5    Alabama          Troy\n",
       "6    Alabama    Tuscaloosa\n",
       "7    Alabama      Tuskegee\n",
       "8     Alaska     Fairbanks\n",
       "9    Arizona     Flagstaff\n",
       "10   Arizona         Tempe\n",
       "11   Arizona        Tucson\n",
       "12  Arkansas   Arkadelphia\n",
       "13  Arkansas        Conway\n",
       "14  Arkansas  Fayetteville\n",
       "15  Arkansas     Jonesboro\n",
       "16  Arkansas      Magnolia\n",
       "17  Arkansas    Monticello\n",
       "18  Arkansas  Russellville\n",
       "19  Arkansas        Searcy"
      ]
     },
     "execution_count": 46,
     "metadata": {},
     "output_type": "execute_result"
    }
   ],
   "source": [
    "# applymap kan sedan användas för att tvätta hela uni_towns_df.\n",
    "# dvs. funktionen applymap kör funktionen get_citystate för alla celler i df. \n",
    "\n",
    "uni_towns_df = uni_towns_df.applymap(get_citystate)\n",
    "uni_towns_df[:20]"
   ]
  },
  {
   "cell_type": "markdown",
   "metadata": {
    "id": "y2dU9pDFE2fG"
   },
   "source": [
    "Nu har vi tvättad data i hela vårt dataset."
   ]
  }
 ],
 "metadata": {
  "colab": {
   "include_colab_link": true,
   "name": "Demo 1- tvätta data.ipynb",
   "provenance": []
  },
  "kernelspec": {
   "display_name": "Python 3 (ipykernel)",
   "language": "python",
   "name": "python3"
  },
  "language_info": {
   "codemirror_mode": {
    "name": "ipython",
    "version": 3
   },
   "file_extension": ".py",
   "mimetype": "text/x-python",
   "name": "python",
   "nbconvert_exporter": "python",
   "pygments_lexer": "ipython3",
   "version": "3.9.12"
  }
 },
 "nbformat": 4,
 "nbformat_minor": 4
}
